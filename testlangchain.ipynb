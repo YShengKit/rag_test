{
 "cells": [
  {
   "cell_type": "markdown",
   "metadata": {},
   "source": [
    "## Langchain & Google AI studio (Gemini) Testing"
   ]
  },
  {
   "cell_type": "markdown",
   "metadata": {},
   "source": [
    "#### Credentials"
   ]
  },
  {
   "cell_type": "code",
   "execution_count": 1,
   "metadata": {},
   "outputs": [],
   "source": [
    "import getpass\n",
    "import os\n",
    "\n",
    "if \"GOOGLE_API_KEY\" not in os.environ:\n",
    "    os.environ[\"GOOGLE_API_KEY\"] = getpass.getpass(\"Enter your Google AI API key: \")"
   ]
  },
  {
   "cell_type": "markdown",
   "metadata": {},
   "source": [
    "#### Instantiation\n",
    "Now we can instantiate our model object and generate chat completions:"
   ]
  },
  {
   "cell_type": "code",
   "execution_count": 2,
   "metadata": {},
   "outputs": [],
   "source": [
    "from langchain_google_genai import ChatGoogleGenerativeAI\n",
    "\n",
    "llm = ChatGoogleGenerativeAI(\n",
    "    model=\"gemini-1.5-flash\",\n",
    "    temperature=0,\n",
    "    max_tokens=None,\n",
    "    timeout=None,\n",
    "    max_retries=2,\n",
    "    # other params...\n",
    ")"
   ]
  },
  {
   "cell_type": "markdown",
   "metadata": {},
   "source": [
    "#### Invocation"
   ]
  },
  {
   "cell_type": "code",
   "execution_count": 3,
   "metadata": {},
   "outputs": [
    {
     "data": {
      "text/plain": [
       "AIMessage(content=\"J'aime la programmation.\", additional_kwargs={}, response_metadata={'prompt_feedback': {'block_reason': 0, 'safety_ratings': []}, 'finish_reason': 'STOP', 'safety_ratings': []}, id='run-0908592e-d8f5-4475-ad2b-56135070a5cb-0', usage_metadata={'input_tokens': 20, 'output_tokens': 7, 'total_tokens': 27, 'input_token_details': {'cache_read': 0}})"
      ]
     },
     "execution_count": 3,
     "metadata": {},
     "output_type": "execute_result"
    }
   ],
   "source": [
    "messages = [\n",
    "    (\n",
    "        \"system\",\n",
    "        \"You are a helpful assistant that translates English to French. Translate the user sentence.\",\n",
    "    ),\n",
    "    (\"human\", \"I love programming.\"),\n",
    "]\n",
    "ai_msg = llm.invoke(messages)\n",
    "ai_msg"
   ]
  },
  {
   "cell_type": "code",
   "execution_count": 6,
   "metadata": {},
   "outputs": [
    {
     "name": "stdout",
     "output_type": "stream",
     "text": [
      "J'aime la programmation.\n"
     ]
    }
   ],
   "source": [
    "print(ai_msg.content)"
   ]
  },
  {
   "cell_type": "markdown",
   "metadata": {},
   "source": [
    "#### Chaining\n",
    "We can chain our model with a prompt template like so:"
   ]
  },
  {
   "cell_type": "code",
   "execution_count": 5,
   "metadata": {},
   "outputs": [
    {
     "data": {
      "text/plain": [
       "AIMessage(content='Ich liebe Programmieren.', additional_kwargs={}, response_metadata={'prompt_feedback': {'block_reason': 0, 'safety_ratings': []}, 'finish_reason': 'STOP', 'safety_ratings': []}, id='run-0e9268fd-d3ca-4b2a-8d81-cd022a2580d8-0', usage_metadata={'input_tokens': 15, 'output_tokens': 7, 'total_tokens': 22, 'input_token_details': {'cache_read': 0}})"
      ]
     },
     "execution_count": 5,
     "metadata": {},
     "output_type": "execute_result"
    }
   ],
   "source": [
    "from langchain_core.prompts import ChatPromptTemplate\n",
    "\n",
    "prompt = ChatPromptTemplate.from_messages(\n",
    "    [\n",
    "        (\n",
    "            \"system\",\n",
    "            \"You are a helpful assistant that translates {input_language} to {output_language}.\",\n",
    "        ),\n",
    "        (\"human\", \"{input}\"),\n",
    "    ]\n",
    ")\n",
    "\n",
    "chain = prompt | llm\n",
    "chain.invoke(\n",
    "    {\n",
    "        \"input_language\": \"English\",\n",
    "        \"output_language\": \"German\",\n",
    "        \"input\": \"I love programming.\",\n",
    "    }\n",
    ")"
   ]
  },
  {
   "cell_type": "markdown",
   "metadata": {},
   "source": [
    "## RAG Detailed Walkthrough Tutorial \n",
    "[link](https://python.langchain.com/docs/tutorials/rag/)"
   ]
  },
  {
   "cell_type": "markdown",
   "metadata": {},
   "source": [
    "### **1. Indexing**\n",
    "[some_ref_for_this_part](https://python.langchain.com/docs/tutorials/retrievers/)"
   ]
  },
  {
   "cell_type": "markdown",
   "metadata": {},
   "source": [
    "#### **Documents and Document Loaders**\n",
    "\n",
    "LangChain implements a Document abstraction, which is intended to represent a unit of text and associated metadata. It has three attributes:\n",
    "\n",
    "* ```page_content```: a string representing the content; \n",
    "* ```metadata```: a dict containing arbitrary metadata;\n",
    "* ```id```: (optional) a string identifier for the document.\n",
    "The ```metadata``` attribute can capture information about the source of the document, its relationship to other documents, and other information. Note that an individual ```Document``` object often represents a chunk of a larger document.\n",
    "\n",
    "We can generate sample documents when desired:"
   ]
  },
  {
   "cell_type": "code",
   "execution_count": 7,
   "metadata": {},
   "outputs": [],
   "source": [
    "from langchain_core.documents import Document\n",
    "\n",
    "documents = [\n",
    "    Document(\n",
    "        page_content=\"Dogs are great companions, known for their loyalty and friendliness.\",\n",
    "        metadata={\"source\": \"mammal-pets-doc\"},\n",
    "    ),\n",
    "    Document(\n",
    "        page_content=\"Cats are independent pets that often enjoy their own space.\",\n",
    "        metadata={\"source\": \"mammal-pets-doc\"},\n",
    "    ),\n",
    "]"
   ]
  },
  {
   "cell_type": "code",
   "execution_count": 9,
   "metadata": {},
   "outputs": [
    {
     "data": {
      "text/plain": [
       "[Document(metadata={'source': 'mammal-pets-doc'}, page_content='Dogs are great companions, known for their loyalty and friendliness.'),\n",
       " Document(metadata={'source': 'mammal-pets-doc'}, page_content='Cats are independent pets that often enjoy their own space.')]"
      ]
     },
     "execution_count": 9,
     "metadata": {},
     "output_type": "execute_result"
    }
   ],
   "source": [
    "documents"
   ]
  },
  {
   "cell_type": "markdown",
   "metadata": {},
   "source": [
    "However, the LangChain ecosystem implements document loaders that integrate with hundreds of common sources. This makes it easy to incorporate data from these sources into your AI application."
   ]
  },
  {
   "cell_type": "markdown",
   "metadata": {},
   "source": [
    "#### **Loading Documents**\n",
    "Let's load a PDF into a sequence of ```Document``` objects. There is a sample PDF in the LangChain repo here -- a 10-k filing for Nike from 2023. We can consult the LangChain documentation for available PDF document loaders. Let's select PyPDFLoader, which is fairly lightweight."
   ]
  },
  {
   "cell_type": "code",
   "execution_count": 3,
   "metadata": {},
   "outputs": [
    {
     "name": "stdout",
     "output_type": "stream",
     "text": [
      "40\n"
     ]
    }
   ],
   "source": [
    "from langchain_community.document_loaders import PyPDFLoader\n",
    "\n",
    "# file_path = \"../nke-10k-2023.pdf\"\n",
    "# file_path = \"../Mazaya Handbook Eng.copy.pdf\"\n",
    "file_path = \"../mcdHandbook.pdf\"\n",
    "\n",
    "loader = PyPDFLoader(file_path)\n",
    "\n",
    "docs = loader.load()\n",
    "\n",
    "print(len(docs))"
   ]
  },
  {
   "cell_type": "markdown",
   "metadata": {},
   "source": [
    "```PyPDFLoader``` loads one ```Document``` object per PDF page. For each, we can easily access:\n",
    "\n",
    "* The string content of the page;\n",
    "* Metadata containing the file name and page number.\n",
    "\n",
    "[ref_link](https://python.langchain.com/docs/how_to/document_loader_pdf/)"
   ]
  },
  {
   "cell_type": "code",
   "execution_count": 3,
   "metadata": {},
   "outputs": [
    {
     "name": "stdout",
     "output_type": "stream",
     "text": [
      "Table of Contents\n",
      "UNITED STATES\n",
      "SECURITIES AND EXCHANGE COMMISSION\n",
      "Washington, D.C. 20549\n",
      "FORM 10-K\n",
      "(Mark One)\n",
      "☑  ANNUAL REPORT PURSUANT TO SECTION 13 OR 15(D) OF THE SECURITIES EXCHANGE ACT OF 1934\n",
      "F\n",
      "\n",
      "{'producer': 'EDGRpdf Service w/ EO.Pdf 22.0.40.0', 'creator': 'EDGAR Filing HTML Converter', 'creationdate': '2023-07-20T16:22:00-04:00', 'title': '0000320187-23-000039', 'author': 'EDGAR Online, a division of Donnelley Financial Solutions', 'subject': 'Form 10-K filed on 2023-07-20 for the period ending 2023-05-31', 'keywords': '0000320187-23-000039; ; 10-K', 'moddate': '2023-07-20T16:22:08-04:00', 'source': '../nke-10k-2023.pdf', 'total_pages': 107, 'page': 0, 'page_label': '1'}\n"
     ]
    }
   ],
   "source": [
    "print(f\"{docs[0].page_content[:200]}\\n\")\n",
    "print(docs[0].metadata)"
   ]
  },
  {
   "cell_type": "markdown",
   "metadata": {},
   "source": [
    "#### **Splitting**\n",
    "For both information retrieval and downstream question-answering purposes, a page may be too coarse a representation. Our goal in the end will be to retrieve ```Document``` objects that answer an input query, and further splitting our PDF will help ensure that the meanings of relevant portions of the document are not \"washed out\" by surrounding text.\n",
    "\n",
    "We can use text splitters for this purpose. Here we will use a simple text splitter that partitions based on characters. We will split our documents into chunks of 1000 characters with 200 characters of overlap between chunks. The overlap helps mitigate the possibility of separating a statement from important context related to it. We use the RecursiveCharacterTextSplitter, which will recursively split the document using common separators like new lines until each chunk is the appropriate size. This is the recommended text splitter for generic text use cases.\n",
    "\n",
    "We set ```add_start_index=True``` so that the character index where each split Document starts within the initial Document is preserved as metadata attribute “start_index”.\n",
    "\n",
    "See this guide for more detail about working with PDFs, including how to extract text from specific sections and images."
   ]
  },
  {
   "cell_type": "code",
   "execution_count": 4,
   "metadata": {},
   "outputs": [],
   "source": [
    "from langchain_google_genai import GoogleGenerativeAIEmbeddings\n",
    "\n",
    "embeddings = GoogleGenerativeAIEmbeddings(model=\"models/text-embedding-004\")"
   ]
  },
  {
   "cell_type": "code",
   "execution_count": 4,
   "metadata": {},
   "outputs": [
    {
     "data": {
      "text/plain": [
       "136"
      ]
     },
     "execution_count": 4,
     "metadata": {},
     "output_type": "execute_result"
    }
   ],
   "source": [
    "from langchain_text_splitters import RecursiveCharacterTextSplitter\n",
    "\n",
    "text_splitter = RecursiveCharacterTextSplitter(\n",
    "    chunk_size=1000, chunk_overlap=200, add_start_index=True\n",
    ")\n",
    "all_splits = text_splitter.split_documents(docs)\n",
    "\n",
    "len(all_splits)"
   ]
  },
  {
   "cell_type": "code",
   "execution_count": 5,
   "metadata": {},
   "outputs": [
    {
     "data": {
      "text/plain": [
       "Document(metadata={'producer': 'Microsoft® Word 2019', 'creator': 'Microsoft® Word 2019', 'creationdate': '2021-07-20T13:27:27-04:00', 'author': 'Steven Overby', 'moddate': '2021-07-20T13:27:27-04:00', 'source': '../mcdHandbook.pdf', 'total_pages': 40, 'page': 1, 'page_label': '2', 'start_index': 783}, page_content='People, Our Customers, Our Community, & The McDonald’s Brand. We do this a number of \\nways that you’ll learn more about over time, but one of the most important is to practice the \\n“Golden Rule”, which is to treat others they way that you want to be treated. \\n \\nThis is just the start, as you will continuously learn more ways to impress the customer throughout \\nyour entire McDonald’s career. There are three words that best describe how we want our \\ncustomers to feel about visiting our McDonald’s restaurant - FRIENDLY, EASY, ENJOYABLE! \\n \\nAs you read through this employee handbook, you will find many reasons for our success. But \\nno single factor is more important than the dedication and effort of our restaurant employees. \\nThe McDonald’s spirit is what makes the difference! \\n \\nSincerely, \\n \\nRob and Carrie Goodwin \\nOwner/ Operators')"
      ]
     },
     "execution_count": 5,
     "metadata": {},
     "output_type": "execute_result"
    }
   ],
   "source": [
    "all_splits[2]"
   ]
  },
  {
   "cell_type": "markdown",
   "metadata": {},
   "source": [
    "##### **Parent Child chunking**"
   ]
  },
  {
   "cell_type": "code",
   "execution_count": 13,
   "metadata": {},
   "outputs": [],
   "source": [
    "from langchain.storage import InMemoryStore\n",
    "from langchain_chroma import Chroma\n",
    "from langchain_community.document_loaders import TextLoader\n",
    "from langchain_text_splitters import RecursiveCharacterTextSplitter\n",
    "\n",
    "\n",
    "# This text splitter is used to create the parent documents\n",
    "parent_splitter = RecursiveCharacterTextSplitter(chunk_size=2000)\n",
    "# This text splitter is used to create the child documents\n",
    "# It should create documents smaller than the parent\n",
    "child_splitter = RecursiveCharacterTextSplitter(chunk_size=400)\n",
    "# The vectorstore to use to index the child chunks\n",
    "vectorstore = Chroma(\n",
    "    collection_name=\"test_parent_child\",\n",
    "    embedding_function=embeddings,\n",
    "    persist_directory=\"./chroma_langchain_db\",  # Where to save data locally, remove if not necessary\n",
    ")\n",
    "# The storage layer for the parent documents\n",
    "store = InMemoryStore()"
   ]
  },
  {
   "cell_type": "code",
   "execution_count": 15,
   "metadata": {},
   "outputs": [],
   "source": [
    "from langchain.retrievers import ParentDocumentRetriever\n",
    "\n",
    "retriever = ParentDocumentRetriever(\n",
    "    vectorstore=vectorstore,\n",
    "    docstore=store,\n",
    "    child_splitter=child_splitter,\n",
    "    parent_splitter=parent_splitter,\n",
    ")"
   ]
  },
  {
   "cell_type": "code",
   "execution_count": 16,
   "metadata": {},
   "outputs": [],
   "source": [
    "retriever.add_documents(docs)"
   ]
  },
  {
   "cell_type": "code",
   "execution_count": 17,
   "metadata": {},
   "outputs": [
    {
     "data": {
      "text/plain": [
       "71"
      ]
     },
     "execution_count": 17,
     "metadata": {},
     "output_type": "execute_result"
    }
   ],
   "source": [
    "len(list(store.yield_keys()))"
   ]
  },
  {
   "cell_type": "code",
   "execution_count": 18,
   "metadata": {},
   "outputs": [
    {
     "name": "stdout",
     "output_type": "stream",
     "text": [
      "6. Pants must be worn around the waist. \n",
      "7. Solid Black (no stripes, lines, other colors), rubber soled non-slip is the only appropriate \n",
      "footwear. No tennis shoes or other type of athletic footwear – shoes must be low-heeled, \n",
      "comfortable and polish able. \n",
      "8. Men: The only permissible facial hair will be trimmed mustache and/or short/small\n"
     ]
    }
   ],
   "source": [
    "sub_docs = vectorstore.similarity_search(\"dress code\")\n",
    "print(sub_docs[0].page_content)"
   ]
  },
  {
   "cell_type": "code",
   "execution_count": 19,
   "metadata": {},
   "outputs": [
    {
     "name": "stdout",
     "output_type": "stream",
     "text": [
      "22 Updated July, 2021  \n",
      "A&A Management/ Goodwin Partners  d/b/a McDonald’s \n",
      "  \n",
      "grey; no pink, purple, blue, vivid orange, vivid reds, etc.) Hats are the only acceptable \n",
      "headgear. The appropriate McDonald’s hat – visor must be worn. \n",
      "6. Pants must be worn around the waist. \n",
      "7. Solid Black (no stripes, lines, other colors), rubber soled non-slip is the only appropriate \n",
      "footwear. No tennis shoes or other type of athletic footwear – shoes must be low-heeled, \n",
      "comfortable and polish able. \n",
      "8. Men: The only permissible facial hair will be trimmed mustache and/or short/small \n",
      "goatee that is neatly groomed and/or beard that is small and neatly groomed. The goatee \n",
      "and/or beard can be no longer than 1/8 inch long, must be neat and clean. A \n",
      "mustache should be short and neatly trimmed. One stud is permitted in each ear. No face, \n",
      "visible body jewelry is to be worn (i.e., no tongue rings). No grilles or detachable gold \n",
      "teeth are permitted. Please limit rings to one per hand. \n",
      "9. Women: Use of makeup and jewelry should reflect a business professional appearance. \n",
      "Small, unobtrusive earrings (no hoops larger than a quarter). No face, nose, body or tongue \n",
      "rings are permitted. Nail polish may be worn, but it must be natural colors (no black). \n",
      "Nails must be no more than 1/4 inch past the fingertip and no chipped polish. No nail \n",
      "jewelry for safety reasons. No grilles or detachable gold teeth are permitted. Please limit \n",
      "rings to no more than 2 per hand. \n",
      "10. All employees must report for work in full uniform. Uniform caps must be clean, wrinkle \n",
      "free and in good repair. Ties and bows must be clean and wrinkle free. Tie must be \n",
      "secured to the top of the uniform and top buttons buttoned.  Nametag worn. \n",
      "11. White, plain undershirts may be worn. Females and males must wear their appropriate \n",
      "undergarments under their uniforms at all times. \n",
      "12. No visible tattoos larger than half dollar and must be in good taste (based on the judgement\n"
     ]
    }
   ],
   "source": [
    "retrieved_docs = retriever.invoke(\"dress code\")\n",
    "print(retrieved_docs[0].page_content)"
   ]
  },
  {
   "cell_type": "code",
   "execution_count": 35,
   "metadata": {},
   "outputs": [
    {
     "name": "stdout",
     "output_type": "stream",
     "text": [
      "[Document(id='cfdd9280-a3e3-4132-817b-fa2a58b9f382', metadata={'author': 'Steven Overby', 'creationdate': '2021-07-20T13:27:27-04:00', 'creator': 'Microsoft® Word 2019', 'moddate': '2021-07-20T13:27:27-04:00', 'page': 21, 'page_label': '22', 'producer': 'Microsoft® Word 2019', 'source': '../mcdHandbook.pdf', 'start_index': 0, 'total_pages': 40}, page_content='22 Updated July, 2021  \\nA&A Management/ Goodwin Partners  d/b/a McDonald’s \\n  \\ngrey; no pink, purple, blue, vivid orange, vivid reds, etc.) Hats are the only acceptable \\nheadgear. The appropriate McDonald’s hat – visor must be worn. \\n6. Pants must be worn around the waist. \\n7. Solid Black (no stripes, lines, other colors), rubber soled non-slip is the only appropriate \\nfootwear. No tennis shoes or other type of athletic footwear – shoes must be low-heeled, \\ncomfortable and polish able. \\n8. Men: The only permissible facial hair will be trimmed mustache and/or short/small \\ngoatee that is neatly groomed and/or beard that is small and neatly groomed. The goatee \\nand/or beard can be no longer than 1/8 inch long, must be neat and clean. A \\nmustache should be short and neatly trimmed. One stud is permitted in each ear. No face, \\nvisible body jewelry is to be worn (i.e., no tongue rings). No grilles or detachable gold \\nteeth are permitted. Please limit rings to one per hand.'), Document(id='bd538dfe-d8ee-407b-b839-fdde6f5a90cc', metadata={'author': 'Steven Overby', 'creationdate': '2021-07-20T13:27:27-04:00', 'creator': 'Microsoft® Word 2019', 'moddate': '2021-07-20T13:27:27-04:00', 'page': 20, 'page_label': '21', 'producer': 'Microsoft® Word 2019', 'source': '../mcdHandbook.pdf', 'start_index': 2353, 'total_pages': 40}, page_content='children’s fundraisers.) \\n15. Any regulation not covered in this handbook is at the sole discretion of the \\nmanagement team and should be adhered to as such. \\n \\nUNIFORM/DRESS POLICY \\n \\n1. You are expected to practice good personal hygiene (i.e. daily shower or bath, clean hair \\n& fingernails, no excessive perfume/cologne). \\n2. Uniforms are your responsibility. You must come to work in a clean, neat, pressed shirt \\nand pants and wearing your hat. Hats are not to be worn sideways or backwards. \\n3. No alterations are to be done to pants or shirts. Hemming is all that is allowed. \\n4. Belts, hats and nametags are part of the uniform and must be worn. \\n5. Hair must be clean and neatly combed and pulled back off of shoulders. Hair color \\nmust reflect a business-professional appearance – one natural color only (black, \\nbrown, blonde, red,'), Document(id='9c9670e0-fe70-4d66-8774-f5e377f466ac', metadata={'author': 'Steven Overby', 'creationdate': '2021-07-20T13:27:27-04:00', 'creator': 'Microsoft® Word 2019', 'moddate': '2021-07-20T13:27:27-04:00', 'page': 21, 'page_label': '22', 'producer': 'Microsoft® Word 2019', 'source': '../mcdHandbook.pdf', 'start_index': 834, 'total_pages': 40}, page_content='visible body jewelry is to be worn (i.e., no tongue rings). No grilles or detachable gold \\nteeth are permitted. Please limit rings to one per hand. \\n9. Women: Use of makeup and jewelry should reflect a business professional appearance. \\nSmall, unobtrusive earrings (no hoops larger than a quarter). No face, nose, body or tongue \\nrings are permitted. Nail polish may be worn, but it must be natural colors (no black). \\nNails must be no more than 1/4 inch past the fingertip and no chipped polish. No nail \\njewelry for safety reasons. No grilles or detachable gold teeth are permitted. Please limit \\nrings to no more than 2 per hand. \\n10. All employees must report for work in full uniform. Uniform caps must be clean, wrinkle \\nfree and in good repair. Ties and bows must be clean and wrinkle free. Tie must be \\nsecured to the top of the uniform and top buttons buttoned.  Nametag worn. \\n11. White, plain undershirts may be worn. Females and males must wear their appropriate'), Document(id='ba147f8f-d66f-4da1-ba27-55809d89d814', metadata={'author': 'Steven Overby', 'creationdate': '2021-07-20T13:27:27-04:00', 'creator': 'Microsoft® Word 2019', 'moddate': '2021-07-20T13:27:27-04:00', 'page': 21, 'page_label': '22', 'producer': 'Microsoft® Word 2019', 'source': '../mcdHandbook.pdf', 'start_index': 1645, 'total_pages': 40}, page_content='secured to the top of the uniform and top buttons buttoned.  Nametag worn. \\n11. White, plain undershirts may be worn. Females and males must wear their appropriate \\nundergarments under their uniforms at all times. \\n12. No visible tattoos larger than half dollar and must be in good taste (based on the judgement \\nof the company leadership) for either male or female employees. Not more than 2 of \\nthese size tattoos. All other tattoos must be covered including any that may be viewed as \\nnot in good taste or offensive. \\n13. Only McDonald’s attire may be worn during scheduled shifts. This includes meetings, \\nrallies, etc. No pagers, beepers or cell phones may be worn while on duty. \\n14. Only McDonald’s jackets or your own black (solid color) jacket may be worn when \\nworking. If you would like, you may purchase a McDonald’s jacket for your personal use. \\n15. If you wear your uniform to work, you must be in full uniform from the time you enter')]\n"
     ]
    }
   ],
   "source": [
    "## normal recursive splitter chroma\n",
    "from chromadb import PersistentClient\n",
    "\n",
    "\n",
    "client = PersistentClient(path=\"./chroma_langchain_db\")\n",
    "vector_store = Chroma(client=client, collection_name='mcd_recursivesplit', embedding_function=embeddings)\n",
    "\n",
    "results = vector_store.similarity_search(\n",
    "    \"dress code\"\n",
    ")\n",
    "\n",
    "print(results)"
   ]
  },
  {
   "cell_type": "markdown",
   "metadata": {},
   "source": [
    "#### **Embeddings**\n",
    "Vector search is a common way to store and search over unstructured data (such as unstructured text). The idea is to store numeric vectors that are associated with the text. Given a query, we can embed it as a vector of the same dimension and use vector similarity metrics (such as cosine similarity) to identify related text.\n",
    "\n",
    "LangChain supports embeddings from dozens of providers. These models specify how text should be converted into a numeric vector. Let's select a model:"
   ]
  },
  {
   "cell_type": "code",
   "execution_count": 6,
   "metadata": {},
   "outputs": [],
   "source": [
    "from langchain_google_genai import GoogleGenerativeAIEmbeddings\n",
    "\n",
    "embeddings = GoogleGenerativeAIEmbeddings(model=\"models/text-embedding-004\")\n",
    "# testtt = embeddings.embed_query(\"hello, world!\")\n",
    "# testtt[:5]"
   ]
  },
  {
   "cell_type": "code",
   "execution_count": 16,
   "metadata": {},
   "outputs": [
    {
     "name": "stdout",
     "output_type": "stream",
     "text": [
      "Generated vectors of length 768\n",
      "\n",
      "[0.024828869849443436, 0.021169202402234077, 0.0674118623137474, 0.04548840969800949, 0.01861591823399067, 0.030404264107346535, 0.05745172128081322, 0.012531065382063389, -0.02605551667511463, -0.03361430764198303]\n"
     ]
    }
   ],
   "source": [
    "vector_1 = embeddings.embed_query(all_splits[0].page_content)\n",
    "vector_2 = embeddings.embed_query(all_splits[1].page_content)\n",
    "\n",
    "assert len(vector_1) == len(vector_2)\n",
    "print(f\"Generated vectors of length {len(vector_1)}\\n\")\n",
    "print(vector_1[:10])"
   ]
  },
  {
   "cell_type": "code",
   "execution_count": null,
   "metadata": {},
   "outputs": [
    {
     "data": {
      "text/plain": [
       "768"
      ]
     },
     "execution_count": 18,
     "metadata": {},
     "output_type": "execute_result"
    }
   ],
   "source": [
    "len(vector_2)"
   ]
  },
  {
   "cell_type": "markdown",
   "metadata": {},
   "source": [
    "#### **Vector Stores**\n",
    "LangChain VectorStore objects contain methods for adding text and ```Document``` objects to the store, and querying them using various similarity metrics. They are often initialized with embedding models, which determine how text data is translated to numeric vectors.\n",
    "\n",
    "LangChain includes a suite of integrations with different vector store technologies. Some vector stores are hosted by a provider (e.g., various cloud providers) and require specific credentials to use; some (such as Postgres) run in separate infrastructure that can be run locally or via a third-party; others can run in-memory for lightweight workloads. Let's select a vector store:\n",
    "\n",
    "[ref_link](https://python.langchain.com/docs/integrations/vectorstores/chroma/)"
   ]
  },
  {
   "cell_type": "markdown",
   "metadata": {},
   "source": [
    "##### **Chroma DB**"
   ]
  },
  {
   "cell_type": "code",
   "execution_count": 7,
   "metadata": {},
   "outputs": [],
   "source": [
    "from langchain_chroma import Chroma\n",
    "\n",
    "vector_store = Chroma(\n",
    "    collection_name=\"mcd_recursivesplit\",\n",
    "    embedding_function=embeddings,\n",
    "    persist_directory=\"./chroma_langchain_db\",  # Where to save data locally, remove if not necessary\n",
    ")\n",
    "\n",
    "# vector_store = Chroma(\n",
    "#     collection_name=\"employee_handbook\",\n",
    "#     embedding_function=embeddings,\n",
    "#     persist_directory=\"./chroma_langchain_db\",  # Where to save data locally, remove if not necessary\n",
    "# )"
   ]
  },
  {
   "cell_type": "code",
   "execution_count": 35,
   "metadata": {},
   "outputs": [
    {
     "name": "stdout",
     "output_type": "stream",
     "text": [
      "{'ids': ['e159a910-3edb-472e-a5c7-dbb685cb3795', '012ca26e-f5dc-40ce-beed-d143c1a47fc7', '85eb802c-0764-488e-b821-5eca58e47fee', 'a929882c-c6c7-4b5a-a742-b90f6ca48310', '8adcc8dc-951d-43fc-90a4-7c1ca742f737', '071b7db1-3345-4b22-8469-3e67d51d3e4d', 'aad0ac06-a728-4e82-bd08-9b2b0274a613', '45022efe-d93c-47a4-a2c6-9600392d4e9d', 'fce90100-1f94-4091-82a9-6d37c72b5e31', '84c8331d-9981-404e-b6c0-6e7898ce1837', 'b793ff3c-887a-4a19-bd8d-0f12313be922', '6f2b0806-b207-4ea2-8dbc-a3efe4e1e583', '91610a4b-7ec0-4b69-b3f8-a67ac4555f11', 'c41617ff-848c-4d80-a850-7cae66e228d3', '13f1928e-f26b-4a1d-b4fb-198505c9b0cc', '84da9c9d-745f-498a-9365-d64cbf32df14', '7079e449-790d-4196-9dab-b32d378bdd30', 'caab0c5d-7b75-49f7-b2df-de24130aec5d', '6cb84f96-ff86-45b0-a324-06b2e8961ef0', 'dbe070da-41a1-477a-839f-014d2a416c66', 'd75066a1-064a-4dce-ac45-ea2200dc857f', '45cbc2d6-9aff-4ac9-8662-d02131cef751', '63239175-0e9e-4134-afb2-ab8b30a6894d', '12806209-4084-467f-b0f7-9757577ee6a5', '71dc6570-6526-489b-830a-7c71e32aa170', '3a21d6f2-b64b-45ff-8814-a86beb2b9ae9', '3f0f94ce-17fb-4757-9f09-9de6cd925ec5', '229524b9-6108-4802-a649-6fa77d22d101', 'f50187ca-2007-4284-bb0e-0a09faea2a17', '728a2dd1-c103-4d2a-b307-d29355007493', '00142078-83e6-4c58-9de9-1d33121065b2', 'e82bae15-0833-4f93-a91b-95a977f14880', '3d421179-27be-4541-ba71-7f8a7f05c54b', '92092f25-c89f-4643-ac54-34461830e87f', '060f9340-2fba-4ef8-92cf-d1ad04496166', 'ea55f03a-8ea6-45de-88ea-2a887b0d7012', '7b393211-ce72-4ba6-b57c-296e72b7d10b', '94ba488b-77c8-4c2e-82b9-cb0fdbc8a3d2', '6c99b874-2024-4497-81a1-79daed347e1a', '5f6bd1d9-70eb-4471-a8a4-a1cbce76d629', 'b9f103ec-6110-497a-b9f4-6044738a4782', '95100b23-f7a3-46d9-9253-0a4d60e9b588', 'ca062a16-ce43-442b-aa18-162c3f729b31', 'a7466030-af4b-4350-a28d-2c85064415b7', '9e65aa3d-cdf1-471d-8bf6-cb259b9fee00', 'ce6956e4-17fb-47a5-b5c5-c2de5b226805', '9f24c867-c6b5-459f-bf4f-6b95d898a658', '722dc5c7-2260-4fdd-bf1f-ddfa9393e220', 'b0991725-2925-4a8d-ac24-dcd64a701464', '5555c7d6-ec77-44ba-b340-f65bad3bf361', '81e223e6-7a25-42c1-9d17-1ce379aebee1', 'e8f995ff-483e-4477-a011-dedf68ecf3d5', '4a94ed8b-4d6d-4a26-b878-a99e722a66b4', '909a9779-b3a7-4d8c-a2e5-6b18ef2236a9'], 'embeddings': None, 'documents': ['EMPLOYEE HANDBOOK\\nAL MAZAYA HOLDING CO. K.S.C.P HOLDING', 'COPYRIGHT NOTICE\\nThe information in this document contains confidential and \\nproprietary information of Al Mazaya Holding Company \\n(“Mazaya” or the “company”). As a result, this document should \\nnot be disclosed, used or duplicated – in whole or in part – for any \\npurpose other than for the use of the company.\\nNo employee of Mazaya shall duplicate this document in whole or \\nin part thereof without the explicit authorization of the authorized \\nmanagement. In the unlikely event of any unclaimed copies being \\nfound, the same shall be immediately returned to any member of \\nthe management or destroyed.\\nEMPLOYEE HANDBOOK 01', 'KUWAIT HEAD OFFICE\\nP.O. Box 3546, Safat 13036, Kuwait\\nMazaya Tower 01 | 25th Floor | Al Murqab\\nTel +965  22243333  |  Fax +965  22411901\\nwww.mazayaholding.com\\nDUBAI OFFICE\\nP.O. Box 116488, Dubai\\nMazaya Business Avenue | Jumeirah Lake Towers\\nAA1 Tower | 45th Floor\\nHotline: +971 80010101 | Fax +971 4 3635457/8\\nTURKEY OFFICE\\nEski Buyukdere St.| iz Plaza Giz No:9 | Floor:16 | Apt.:60\\nMaslak Sarıyer |istanbul\\nTel +90 2122907030 | Fax +90 2122907031', 'CONTENTS\\nIntroduction \\nAbout Al Mazaya\\nOpen Door Policy \\nNon-Discrimination and Equal Employment Opportunity\\n Employment with Al Mazaya \\nWorking Hours and Attendance Policy \\nLeave\\nGrading Structure\\nEmployee Benefits\\nPayroll\\nReward & Recognition\\nTraining and Development\\n Business Travel\\n End of Services Calculation\\n06\\n07\\n12\\n12\\n13\\n23\\n26\\n32\\n34\\n37\\n38\\n40\\n40\\n40\\nEMPLOYEE HANDBOOK 03', 'DOCUMENT INFORMATION & REVISION HISTORY\\nVERSION REVIEW HISTORY\\nAPPROVAL OF CHANGES HISTORY \\nAmendments to this handbook will be made as a result of one or a combination of \\nthe following reasons:\\n• Changes in any HR & Admin related policy and/or procedures\\n• Changes in any HR & Admin related procedures\\n• Changes in employee related policy, process or information\\n• Changes in organizational structure\\nDocument Review Frequency Responsibility for \\nReview\\nApproval\\nEmployee \\nHandbook\\nEvery 12 Months HR & Admin \\nDepartment\\nGroup CEO\\nVersion Reviewer Date Revision Notes\\nVersion Approver Date Notes\\nEMPLOYEE HANDBOOK04', 'Al MAZAYA \\nHEADQUARTERS', 'I. INTRODUCTION\\nThis Employee Handbook is designed to acquaint you with Al \\nMAZAYA HOLDING CO. (Al Mazaya) and provide you with a \\nquick reference to the working conditions, benefits, and policies \\naffecting your employment. For further details and information, \\nit’s always recommended to refer to the HR & Admin Policies and \\nProcedures Manual.\\nFollowing the guidelines and policies described in this Handbook \\nis considered a condition of continued employment. However, \\nnothing in this Handbook alters an employee’s status. The \\ncontents of this Handbook shall not constitute nor be construed \\nas a promise of a tenure employment or as a contract between the \\nCompany and any of its employees.', 'II. ABOUT AL MAZAYA \\nAl Mazaya is widely recognized as one of the most prominent and \\nhighly thought-of real estate development companies in the middle \\neast market, with numerous impressive projects. The company came \\nabout through a belief in the need for strong, rigorous investment in \\nthe region, and has prevailed in creating and maintaining the trust \\nof large-scale investors in the Kuwaiti market and abroad.\\nThe company was established in 1998 and started operation as \\nAl Mazaya Holding Company in 2004 with a paid up capital of \\nKD 15 million to reach KD 68.8 million which is equivalent to \\napproximately USD 243 million. Al Mazaya is a publicly-traded \\ncompany dually listed on both the Kuwait Stock Exchange since \\n2005 and Dubai Financial Market since 2006. Since its inception, \\nAl Mazaya has adopted a balanced expansion strategy allowing \\nmitigating risk, while maximizing investment and by doing so \\nhave witnessed strong growth.', 'Al Mazaya has adopted a balanced expansion strategy allowing \\nmitigating risk, while maximizing investment and by doing so \\nhave witnessed strong growth. \\nAl Mazaya prides itself in providing various comprehensive real \\nestate products and services in several fields, among them housing \\nprojects such as deluxe villas and high-class residential buildings, \\ncommercial projects such as office and retail buildings, and \\nhealth projects such as medical centers. Al Mazaya is engaged \\nin several other real estate fields such as purchasing, ownership, \\nand selling of lands and its development for the company within \\nKuwait and abroad.  \\nFurthermore, Al Mazaya handles the management of third parties’ \\nproperties and management, operation and investment, leasing \\nand rent of hotels, health clubs, recreational parks, gardens, \\nexhibition grounds, restaurants, residential and commercial \\ncomplexes, and touristic and health resorts.', 'and rent of hotels, health clubs, recreational parks, gardens, \\nexhibition grounds, restaurants, residential and commercial \\ncomplexes, and touristic and health resorts.\\nAl Mazaya’s Investments have always focused on building strategic \\nalliances and partnerships that allow for developing the company’s \\ncompetitive edge.  \\nEMPLOYEE HANDBOOK 07', 'BOARD OF DIRECTORS\\nEMPLOYEE HANDBOOK08\\nEng. Abdulrahman \\nM. AlShared\\nVice Chairman\\nMrs. Rasha A. \\n Al-Qenaei \\nBoard Member\\nMr. Abdul Hamid \\nMihrez\\nBoard Member\\nMr. Mohammad K. \\nAl-Othman\\nBoard Member\\nMr. Rashid Al Nafisi\\nChairman', 'VISION\\nMISSION\\nTo be ONE of the MARKET LEADERS in Real Estate \\nDevelopment, Working in in targeted prospective MARKETS \\nwith A STRONG BRAND which provides distinguished  \\nPRODUCTS.\\n•   DEVELOP Land Mark PROJECTS.\\n•   SUSTAIN a value added QUALITY of PROJECTS.\\n•   DEVELOP a high CALIBER human CAPITAL.\\n•   DIVERSIFY the Projects to Encompass THE WIDE Spectrum  \\n       of Real Estate SEGMENTS/SECTORS.\\nEMPLOYEE HANDBOOK 09', 'III. OPEN DOOR POLICY\\nIV. NON-DISCRIMINATION AND EQUAL \\nEMPLOYMENT OPPORTUNITY\\nAl Mazaya always encourages employees who feel they have \\nbeen treated unfairly to discuss their concerns with their \\nline managers, Human Resources Department or the Group \\nChief Executive Officer. This includes work related problems, \\ncomplains, development and new ideas.  All the communication \\nshall be treated strictly confidential. \\nAl Mazaya believes that there shall be an equal employment \\nopportunity for all municipal candidates and applicants without \\nregard to race, colour, religion, gender and nationality. Al \\nMazaya treats all applicants and its employees in a professional \\nand in equal way in terms of assessment, employment or \\npromotion for existing employees, all will be based on \\ntechnical and behavioural skills that are needed to suit the job \\nrequirements. The policy of promotion, recruitment, demotion, \\ntransfer, termination, assigning each employee to the grading', 'technical and behavioural skills that are needed to suit the job \\nrequirements. The policy of promotion, recruitment, demotion, \\ntransfer, termination, assigning each employee to the grading \\nsystem and pay scale, training, benefits are all conducted based \\non professional and technical level without regards of any type \\nof self-discrimination.\\nEMPLOYEE HANDBOOK12', 'V. EMPLOYMENT WITH AL MAZAYA\\nPre-Employment Formalities :\\n     All candidates must have their CVs and personal documents \\nready and valid, including and not limited to (civil ID, passport, \\neducation degree, training certification & valid visa)\\n    The candidates must complete the medical test whether the \\ncandidate is hired locally or from outside Kuwait. All candidates \\nmust be eligible to work in Kuwait and have the required visa and \\nwork permit.  Al Mazaya will help in issuing such documentation \\nfor all its employees.\\n    All candidates must fill the Employment Application Form \\nand attach their personal documents, in addition Al Mazaya will \\nprovide the approved job description prior to the joining date or \\nwithin the first working week.\\nFirst Day At Al Mazaya :\\nOn joining Al Mazaya, the HR & Admin Department shall take \\nyou around the office premises on an orientation.\\nFirst Week At Al Mazaya :\\nWithin the first week of joining, all new employees shall receive', 'you around the office premises on an orientation.\\nFirst Week At Al Mazaya :\\nWithin the first week of joining, all new employees shall receive \\n“Al Mazaya Welcome Pack”, which includes an identification card, \\nan approved job description, benefits details, employee handbook, \\ncode of conduct, employees contact list, latest organization \\nstructure, and the user name & password for logging in the HR \\nSystem under which the HR team will provide a training session on \\nthe same during the first week.\\nProbation period :\\nAll new hires shall serve the probation period not exceeding one hundred \\n(100) days as per the Kuwait Labour Law (2010). Once the employee \\nsuccessfully and satisfactorily completes the probation period, his / her \\nstatus shall automatically change to permanent employee.\\nEMPLOYEE HANDBOOK 13', 'V. EMPLOYMENT WITH AL MAZAYA \\nIdentification Cards:\\nEmployees are encouraged to carry their identification cards at \\nall times during the working hours. \\nSafety:\\nAl Mazaya is always seeking to provide a safe and healthy \\nworkplace. Employees in return must use their judgment to \\navoid un-needed job incidents.\\nRelocation:\\n    The company may ask the employee to be relocated to a \\ndifferent geographical location / country. The relocation should \\nnot be against the employee’s will and should have the Group \\nCEO approval.\\n    The Relocation allowance policy will apply in this regard. \\nPlease refer to the HR & Administration Manual for full details.\\nEmployee HR System:\\n        Al Mazaya has an online HR system that facilitates employees \\ntransactions and requests such as:\\n     *    All types of leaves\\n     *    All types of permissions\\n     *    Salary certificate\\n     *    Business trips\\n     *    Trainings\\n     *    Other requests and transactions', '*    All types of leaves\\n     *    All types of permissions\\n     *    Salary certificate\\n     *    Business trips\\n     *    Trainings\\n     *    Other requests and transactions\\n     All employees’ transactions and requests must be submitted \\non the HR system.\\nEMPLOYEE HANDBOOK14', 'V. EMPLOYMENT WITH AL MAZAYA \\nEmployee Engagement and Communications:\\nAs part of our engagement programs, Al Mazaya management \\nalways communicates with staff on the progress of Al Mazaya \\nactivities, new projects, market conditions and the company’s \\nresults under which the management believes it is very important \\nthat all Al Mazaya staff are part of the business cycle.\\nEmployees’ Satisfaction Survey: \\nOn annual basis, the HR department launches a satisfaction \\nsurvey to all staff, to evaluate their satisfactory level, and to give \\nthe opportunity to the staff to express their concerns, opinion \\nand feedback. Conclusions derived thereof shall support the \\nmanagement in enhancing and developing the current culture \\nand working environment.\\nEmployees Relation Committee (ERC):\\nAl Mazaya always believes in fairness and transparency when \\nit comes to its employees. To achieve this objective, Al Mazaya \\nformed an Employees Relation Committee, which handles', 'Al Mazaya always believes in fairness and transparency when \\nit comes to its employees. To achieve this objective, Al Mazaya \\nformed an Employees Relation Committee, which handles \\nand reviews all types of grievances that are submitted by the \\nemployees and provides recommendations to the Group CEO \\non timely manner and with utmost confidentiality.\\nWhistle Blower Policy:\\nAs Al Mazaya & its management are committed to the transparency, \\nfairness and ethics standards applied, Al Mazaya provides a whistle \\nblower policy & protection, where any employee who has noticed, \\nseen or witnessed any type of conflict of interest or any employee who \\nhas used his / her position or the company available resources to \\ngain advantage or profit illegally from the company, the employee \\nshall inform the Group CEO directly, and in case any employee has \\nnoticed a conflict of interest act by the Group CEO, in this case the \\nemployee shall approach the Chairman of Al Mazaya directly.\\nEMPLOYEE HANDBOOK 15', 'Code of Conduct:\\nThe Employee Code of Conduct outlines standards of personal \\nand professional conduct that all employees must strive to \\nuphold and behave in an ethical and professional manner at all \\ntimes. The Code provides a basis for all employees to maintain \\na working environment that is productive, positive, enjoyable, \\nsafe and free from harassment and discrimination. \\n    Dress and Appearance:\\n     *     The Company is well-recognized and respected and \\n          projects a particular image to our clients.  \\n     *     Employees must therefore ensure that their appearance is \\n          neat, clean and appropriate for their particular area of work.  A    \\n            high standard of personal hygiene is expected at  all times.\\n \\n    Privacy and use of Personal and Official information:\\n     *     Employees have an obligation to ensure that professional \\n          information is secured against loss, misuse or', 'Privacy and use of Personal and Official information:\\n     *     Employees have an obligation to ensure that professional \\n          information is secured against loss, misuse or    \\n          unauthorized access, modification or disclosure.        \\n          Employees have a duty to maintain the confidentiality, integrity &\\n          security of official information for which they are responsible.\\n    Records management:\\n     *     Employees need to be aware of their record keeping \\n          responsibilities and are reminded that there is a legal \\n          requirement to adhere to proper records management \\n          practices and procedures. \\n     *     All employees must therefore ensure that the Company \\n          documents are not placed in unofficial or private filing \\n          systems but place such documents in official files. \\n     *     Employees must not remove documents from official files.', 'systems but place such documents in official files. \\n     *     Employees must not remove documents from official files.     \\n            They are controlled records, and must be complete, up-to-\\n           date and capable of providing organisational accountability \\n           when officially scrutinised.\\nEMPLOYEE HANDBOOK16\\nV. EMPLOYMENT WITH AL MAZAYA', '*     Employees must not damage, dispose of, or in any other \\n          manner, interfere with official documents or files. The  \\n          destruction of records may only take place in accordance \\n           with a disposal and retention schedule, which shall be \\n           approved by the Group CEO. \\n    Information Technology: \\n     *     Employees must not access information which they are    \\n          not authorised to access or use, and must not allow any \\n          other person access for any reason. \\n     *     Employees must take all reasonable precautions,    \\n          including password maintenance and file protection\\n          measures to prevent unauthorised access and have an\\n          obligation to maintain the security and confidentiality of   \\n            the information systems over which they have responsibility  \\n          or control and that are owned or used by agreement. \\n    Acceptance of Commissions, Gifts or Benefits:', 'the information systems over which they have responsibility  \\n          or control and that are owned or used by agreement. \\n    Acceptance of Commissions, Gifts or Benefits:\\n     *     Employees should not accept a gift, secret commission or a     \\n             benefit from a person or organisation outside the Company if \\n             the intent of the gift or the benefit is to induce the employee to \\n             waive or reduce requirements or to extend a financial or other \\n             benefit to a person or organisation outside the Company to the \\n             detriment of the Company interests. \\n     *     Employees may accept token gifts or benefits in circumstances    \\n               approved by the Group CEO or a nominee, provided that there is \\n             no possibility that the employee might be perceived to be, \\n             compromised in the process. Gifts of a nominal value generally', 'no possibility that the employee might be perceived to be, \\n             compromised in the process. Gifts of a nominal value generally \\n             used for promotional purposes by the donor, or moderate acts of \\n             hospitality may be accepted by employees.  \\n     *      The employees must advise the Head of Human Resources of \\n             any gifts and benefits they have received as soon as the gift or \\n             benefit is received and must not take advantage or seek to take \\n             advantage of their position to obtain a benefit, either for \\n             themselves or for someone else. \\nFor further information and details, it is recommended to refer \\nto the full Code of Conduct document.\\n V. EMPLOYMENT WITH AL MAZAYA', 'MAZAYA STAFF - KUWAIT \\nEMPLOYEE HANDBOOK18\\nEng. Ibrahim Al Soqabi\\nGroup CEO\\nExt.331\\n Ext.355\\nEng. Salwa Malhas\\nChief BD and\\nMarketing & Sales Officer\\nExt.378\\nEng. Abdullah Al Sultan\\nDirector - Marketing\\n & Sales\\nExt.357\\nMr. Jasem Al Ghanim\\nDirector - Marketing\\n & Sales\\nEng. Cem Yolcu \\nCEO - Mazaya Turkey\\nExt.381\\nDr. Abdulaziz Jarkas\\nChief Projects Officer\\nExt.202\\nMr. Khaled Abdulatif\\nCEO - Dubai \\nOffice Operations\\nExt.356\\nMr. Mubarak Al Sabah\\nDirector - Marketing\\n & Sales\\nExt.334\\nMr.Ahmed Harfoush \\nChief Financial Officer\\nExt.354\\nMr.Asaad Ibrahim  \\nDirector Corporate Services\\nExt.390\\nMrs. Anne-Marie Doueihi\\n Manager - Marketing\\n & Sales\\nExt.388\\nMrs. Narmin N. Sufan\\nSenior Marketing Specialist\\n - Marketing & Sales\\nMr. Mahmoud Al Saadi \\nSenior Graphic Designer - \\nMarketing & Sales\\nExt.364\\nMrs. Dima Al-Rifai \\nCustomer Service & Sales \\nOfficer - Marketing & Sales\\nExt.375\\nMrs.Bushra Abu Sabra\\nOffice Manager - \\nCEO Office\\nExt.332', 'Ext.385\\nEng. Bader Al Rqobah\\nDirector - Projects\\nEMPLOYEE HANDBOOK 19\\nEng. Abdullah Al Subaih\\nSenior Manager - Business \\nDevelopment\\nExt.393\\nEng. Ahmed Al Jammal\\nSenior Manager - Projects\\nExt.382\\nExt.348\\nMr. Nabil Al Edrisi\\nSenior Manager - Finance\\nExt.407\\nMr. Mohammed Hussain\\nSenior Manager - Finance\\nExt.338\\nMr. Mohammed Nasif\\nAssistant Manager - Finance\\nExt.360\\nEng. Haitham Ateiah\\nManager -\\n Business Development\\nExt.394\\nMr. Abdullah Al Nafisi\\nManager -\\n Business Development\\nExt.340\\nMr. Oussama Diab \\nSenior Manager - Finance\\nExt.406\\nEng. Tarek Qumhiyeh\\nAssociate Director -  \\nBusiness Development \\nExt.367\\nMr. Mohamed Elangbawy\\nGraphic Designer - \\nMarketing & Sales\\nExt.387\\nMr. Hytham Abdulhameed\\nOfficer - \\nBusiness Development\\nExt.363\\nMr. Amir S. Khan\\nFinancial Analyst - \\nBusiness Development\\nExt.395\\nMr. Binesh Kumar\\nExecutive Secretary - \\nBusiness Development\\nExt.389\\nMrs. Santana Fernandes\\nExecutive Secretary - \\nProjects', 'MAZAYA STAFF - KUWAIT \\nEMPLOYEE HANDBOOK20\\nExt.369\\nMr. Rashid Attingal\\nOfficer - Property \\nManagement\\nExt.371\\nMr. Adel Hassan\\nSenior Officer - Property \\nManagement\\nExt.386\\nMr.Mansoor Khan\\nManager - IT\\nExt.368\\nMr. Tity Idiculla\\nCoordinator - Property \\nManagement\\nExt.372\\nMrs. Arwa Al Khamis\\nOfficer - Property \\nManagement\\nMiss. Gina Montino\\nReceptionist - Property\\nManagement\\nTel.22269333\\nExt.361\\nMr. Shahad Moossa\\nAssistant Accountant - \\nFinance\\nExt.336\\nMrs. Mays Naser\\nSenior Accountant - \\nFinance\\nExt.377\\nEng. Binu Eipe\\nManager - Property \\nManagement\\nExt.373\\nMrs. Dalal Al Nafisi\\nSenior Manager  - Property \\nManagement\\nExt.398\\nMr. Anwar Saleh \\nLegal Advisor & \\nCompliance Officer - Legal\\nExt.384\\nMr. Firas Al Ragom \\nSenior Manager - IT\\nExt.335\\nMiss. Najlaa Elaiwi\\nExecutive Secretary - \\nFinance \\nExt.351\\nMr. Amr Ismail\\nAssistant Manager - Finance\\nExt.346\\nMr. Sajith Kumar\\nChief Accountant - Finance', 'Ext.358\\nMr. Shukoor Ahmed\\nDocument Controller - \\nCorporate Services\\nEMPLOYEE HANDBOOK 21\\nExt.345\\nMr. Shahid Yamkanmardi\\nIT Administrator - IT\\nExt.342\\nMohamad Hamdan\\nAdmin Officer - \\nHR & Admin\\nMrs. Dalia Helail\\nOfficer - \\nCorporate Services\\nExt.353\\nExt.825\\nMr . Vazhathoppil Bathisha\\nOffice Helper\\nExt.824\\nMr. Velloli Balachandran\\nOffice Helper\\nExt.820\\nMr. Abdelmohsen Badry\\nOffice Helper\\nExt.347\\nMr. Moawia Al-Mardoud  \\nIT Supervisor - IT\\nMr. Meshaal Menahi \\nMessenger\\nTel.99811811\\nMr. Obeid Barashed\\nMessenger\\nTel.65096671\\nMr. Shihab Abdullah\\nMessenger\\nTel.99226171\\nMr. Rashid AlFaidhi\\nMessenger\\nTel.66090932\\nExt.399\\nMr. Ali Al Semawi \\nManager - HR & Admin\\nExt.365\\nMr. Ibrahim Alqurawi\\n Assistant Manager - \\n HR & Admin', 'VI. WORKING HOURS AND ATTENDANCE \\nPOLICY\\n  Al Mazaya believes in fostering a professional working \\nenvironment, yet flexible and comfortable to its valuable assets -its \\nemployees- and this is reflected through its flexible working hours \\nand attendance policy. Al Mazaya‘s official working hours are from \\n8:00 am to 4:00 pm Sunday to Thursday with a flexible 30 minutes \\nunder which the employee can attend work between 8:00 to 8:30 \\nam and leave between 4:00 to 4:30 pm whereby the employee has \\nto complete the full 8 working hours per day. \\n      Additionally, each employee is allowed a total of 180 minutes \\n(3 hours) lateness/early-out per month beyond the flexible 30 \\nminutes. However, when the employee comes late or leaves early, \\nhis / her lateness or early out minutes are capped and shall not \\nexceed 30 minutes per day. After consuming the 180 minutes (3 \\nhours) allocated for the month or coming late/leaving early more', 'his / her lateness or early out minutes are capped and shall not \\nexceed 30 minutes per day. After consuming the 180 minutes (3 \\nhours) allocated for the month or coming late/leaving early more \\nthan 30 minutes  during a day, the total time will be deducted from \\nthe employee’s next month salary unless a permission is requested \\nas detailed in the below section.\\n     As per the Kuwait Labour Law (2010), any non-compliance to \\nthe above attendance policy shall be subject to disciplinary action.\\nEMPLOYEE HANDBOOK 23', 'VI. WORKING HOURS AND ATTENDANCE \\nPOLICY\\nPermissions:\\n     Employees can apply for permissions to pursue their personal \\nmatters during the normal working hours. The employee’s line \\nmanager reserves the right to either reject or approve each \\npermission.\\n    Any permission request shall be applied for through the HR \\nSystem. Failing to do so is considered as late-in or early-out \\nwithout permission. \\n       All permission requests will be monitored by the HR & Admin \\nDepartment for analysis purposes.\\nTime Keeping and Finger Print:\\nAl Mazaya uses a finger print system that captures the employees’ \\nattendance. It is mandatory for all employees to use the finger \\nprint machine to record the entry and exit time. Not using the \\npunching machine shall be subject to disciplinary action as \\ndetailed in the HR & Admin Manual. \\nFor further information and details, it is recommended to refer \\nto the full Attendance policy in the HR & Administration Manual.\\nEMPLOYEE HANDBOOK24', 'VII. LEAVE\\nEMPLOYEE HANDBOOK26\\nAnnual leave:\\n    Employees are entitled for 30 paid days as annual leave \\nbased on Kuwait Labour Law (2010). The employee should \\ndiscuss his / her leave plan with his / her line manager and \\nthe line manager reserves the right to reject any leave request \\nbased on business needs.\\n      Leave requests should be submitted only via the HR System.\\n      An employee who wishes to receive leave salary in advance \\nshould apply for his/her leave minimum one month prior to his/\\nher travel / leave day in order to allow the HR & Administration \\ndepartment to process the payment. \\n      Employees shall be eligible to accumulate annual leave for \\nup to a maximum of 70 days, after which the employee shall be \\nobligated to utilize his/ her annual leave, with prior approval, \\nor otherwise forfeit such excess leave.\\nSick leave:\\nIn accordance with Kuwait Labour Law (2010), an employee who \\ncannot perform work responsibilities due to sickness shall be', 'or otherwise forfeit such excess leave.\\nSick leave:\\nIn accordance with Kuwait Labour Law (2010), an employee who \\ncannot perform work responsibilities due to sickness shall be \\ngranted sick leave as follows: \\nSick Days (Calendar Days) Corresponding Pay\\nFirst 15 Days Full salary\\nNext 10 days 75% of salary\\nNext 10 days 50% of salary\\nNext 10 days 25% of salary\\nNext 30 days Without pay', 'VII. LEAVE\\n     Employees are requested to inform their line manager that \\nthey cannot report to work due to sickness.\\n     After resumption date, employees should submit their sick \\nleave on the HR System. If the sick leave is only for 2 consecutive \\ndays, then a medical report is not required as long as a written \\napproval from the employee’s line manager is provided. If the \\nsick leave is for more than 2 consecutive days, then the employee \\nhas to provide a medical report and submit it along with sick \\nleave application. \\nCompassionate leave: \\n      In case of demise of 1st and 2nd degree relative, Al Mazaya \\nshall grant 3 calendar days paid leave in the event of demise of \\nlocally resident family member. In return, the employee must \\nsubmit the related document upon request.\\n      In case of demise outside Kuwait (non-resident family \\nmember), Al Mazaya shall grant 7 calendar days paid \\nleave.\\n    In case of husband demise of a Muslim female employee,', 'In case of demise outside Kuwait (non-resident family \\nmember), Al Mazaya shall grant 7 calendar days paid \\nleave.\\n    In case of husband demise of a Muslim female employee, \\nAl Mazaya shall grant four calendar months and 10 calendar \\ndays as paid leave, which is considered as “Ouda” as per Kuwait \\nLabour law (2010). In case of husband demise of a Non-Muslim \\nfemale employee, the employee will be granted a 21 calendar \\ndays as paid leave.\\nEMPLOYEE HANDBOOK 27', '“THERE IS A VIRTUE \\nIN WORK AND \\nTHERE IS A VIRTUE\\nIN REST, USE BOTH\\nAND OVER LOOK\\nNEITHER ”\\nALAN COHEN', 'VII. LEAVE\\nHajj leave: \\nMuslim employee is entitled for paid vacation of 21 calendar \\ndays to perform Hajj only if the employee has not performed \\nHajj before. The employee shall obtain this vacation only once \\nduring term of employment with the Company on condition \\nthat he/ she has served the Company for at least 2 years.\\nUnpaid leave:\\nEmployee can take unpaid leave days up to 3 calendar months \\nwith approval from the department head, HR department and \\nthe Group CEO. The unpaid leave days shall have an effect on \\nthe employee’s end of service indemnity calculation.\\nCasual / Emergency leave:\\n      Casual / Emergency leave is a complimentary leave, provided to \\nthe employee by the management based on special circumstances.\\n       A total of 4 paid days per year might be given to the employee \\nas casual / emergency leave which shall be approved by line \\nmanager and the HR department.\\n       Casual / Emergency leave cannot be accumulated or carried', 'as casual / emergency leave which shall be approved by line \\nmanager and the HR department.\\n       Casual / Emergency leave cannot be accumulated or carried \\nto next year, cannot be exchanged for money or added to the \\nemployee’s annual leave balance.\\nEMPLOYEE HANDBOOK 29', 'Maternity & Paternity leave: \\n       The female employee is entitled for a maternity leave of 70 \\npaid calendar days as per Kuwait labour law (2010), provided \\nthat she gives birth within this period.\\n   On the other hand, Al Mazaya complimentary offers a \\npaternity leave of 3 paid calendar days for any male employee \\nwho has been blessed with a new child.\\nStudy leave:\\n       Any employee who has enrolled in MBA / higher education \\nor professional certificate/qualification program is eligible to \\ntake 2 days paid as a study leave, 1 day before the exam and \\nthe exam day.\\n     The maximum number of study leave days is capped by 6 \\ndays per year.\\n    This leave is a complimentary leave, and the employee is \\nrequired to attain his / her line manager approval prior to availing \\nthis leave. \\nPublic holidays: \\nOfficial holidays shall be as per the holidays declared by the \\nGovernment of Kuwait every year, or such other holidays as the \\nCompany may allow.', 'this leave. \\nPublic holidays: \\nOfficial holidays shall be as per the holidays declared by the \\nGovernment of Kuwait every year, or such other holidays as the \\nCompany may allow. \\nAs a general policy statement, it is not permitted to link \\ndifferent types of leaves together unless line manager approval \\nis attained.\\nFor further information and details, it is recommended to \\nrefer to the Leave policy in the HR & Administration Manual.\\nEMPLOYEE HANDBOOK30\\nVII. LEAVE', '“PRODUCTIVITY\\nIS NEVER \\nAN ACCIDENT.\\nIT IS ALWAYS \\nTHE RESULT OF \\nCOMMITMENT\\nTO EXCELLENCE\\nINTELLIGENT \\nPLANNING \\n&  FOCUSED \\nEFFORT”\\nPAUL MEYER', 'VIII. GRADING STRUCTURE\\nAl Mazaya has designed a well-defined grading structure as a \\nresult of an extensive job evaluation process to ensure that the \\nemployees’ grades & levels are a true reflection of their roles and \\nresponsibilities, designations and positions within the company.\\nThe following is Al Mazaya Grading Structure:\\nJob Family Level Grade\\nCXO\\nSENIOR \\nMANAGEMENT\\n12\\nCXO 11\\nDirector 10\\nAssociate Director 9\\nSenior Manager\\nMIDDLE \\nMANAGEMENT\\n8\\nManager 7\\nAssistant Manager 6\\nSenior Specialist\\nPROFESSIONAL\\n5\\nSpecialist 4\\nSenior Officer\\nSKILLED\\n3\\nOfficer 2\\nCoordinator 1\\nEMPLOYEE HANDBOOK32', '“WE RISE\\nBY LIFTING \\nOTHERS ”', 'IX. EMPLOYEE BENEFITS\\nHealth Insurance:\\n     All Mazaya employees are entitled to receive private health \\ninsurance coverage based on the benefits related to their grade \\n(Self only / Self + Family). Al Mazaya shall annually review and \\nassess the insurance services and always check if there are better \\ncompetitive offers in the market. Health insurance is provided to \\nallow the employees to get premium medical treatment for any \\nmedical issue.\\n     In return, the employee is expected to use such services in \\nreasonable way. In addition, employees are welcome to include \\ntheir family into our health insurance programs at their own cost.\\nLife Insurance:\\nAll employees of Al Mazaya are covered by life & work related \\ninjuries insurance policy as per Kuwait Labour law (2010). \\nEMPLOYEE HANDBOOK34', 'IX. EMPLOYEE BENEFITS\\nMobile:\\n     Mobile services packages are also one of the benefits that Al \\nMazaya offers to its employees. Each employee has a different \\npackage in terms of local & international calls, bill cap and data \\nline usage based on the employee’s grade.\\n    The employee is expected to use the mobile service in a \\nreasonable way and within the limit of each package provided to \\nhim/her. Any over usage of the services shall be directly deducted \\nfrom the employee’s monthly salary, unless it is justifiable.\\n    The employees are welcome to add their family members’ \\npersonal lines under Al Mazaya umbrella. All the due amounts \\nwill be directly deducted from the employee’s monthly salary. \\nPersonal Loan:\\nAl Mazaya offers interest-free personal loans to its employees \\nas a mean of financial assistance. All loans requests will be \\nreviewed by the HR & Administration Department for eligibility \\nrequirements and are subject to the Group CEO approval.\\nAnnual Air Ticket:', 'reviewed by the HR & Administration Department for eligibility \\nrequirements and are subject to the Group CEO approval.\\nAnnual Air Ticket:\\nAll employees are entitled to receive an annual air ticket allowance \\nand shall have a fixed amount paid to them based on their current \\ngrade & level (Self only / Self + Family). The allowance shall be \\npaid on two dates subject to eligibility:\\n     *     Date 1: 1st July, for those employees who have been with Al \\n          Mazaya before January of the same year.\\n     *    Date 2: 15th December, for those employees joining Al     \\n          Mazaya between January and November of the same year,  \\n           the annual ticket allowance shall be calculated on prorated \\n          basis.\\nEMPLOYEE HANDBOOK36', 'IX. EMPLOYEE BENEFITS\\n X. PAYROLL\\nEducation Assistance:\\n     Eligible employees are entitled to receive child education \\nassistance based on their grade and level. \\n    Al Mazaya management encourages its staff to continue \\ntheir higher education or to attain professional certification/\\nqualification in their field. With the special education support \\nprograms, employees at Al Mazaya can avail a financial \\nsupport to carry on his / her higher education and professional \\ncertification/qualification programs. All programs are subject \\nto approval by the Group CEO.\\nFor further information and details, it is recommended to \\nrefer to the Compensation and Benefits Section in the HR & \\nAdministration Manual.\\n         The Company shall pay its employees on regularly scheduled \\npoints in time. Salaries shall be paid on the 26th of each month. \\nIf such a date coincides with a public holiday or falls at the end \\nof the week, salaries shall be paid on the previous working day.', 'points in time. Salaries shall be paid on the 26th of each month. \\nIf such a date coincides with a public holiday or falls at the end \\nof the week, salaries shall be paid on the previous working day.\\n      All employees should have a valid bank account and IBAN \\ncode.\\nEMPLOYEE HANDBOOK 37', 'XI. REWARD & RECOGNITION\\nAl Mazaya reward philosophy is to be a key talent attractor \\ncompany in the market in terms of retaining the key performers \\nand attracting new talents. Our reward structure (Salary Structure \\nand Benefits programs) is carefully designed and benchmarked \\nagainst the top-notch peer companies to ensure that Al Mazaya \\nstays competitive in the job market and maintains highest level \\nof employees’ satisfaction. \\n     Rewards:\\n       *    Al Mazaya has a unique bonus system. Bonuses are \\n          linked to the employee’s level and grade and to his / \\n          her annual performance appraisal results and overall \\n          company performance.\\n    Key Performance Indicators (KPIs):\\n       *    Each employee shall receive the approved KPIs at the \\n          beginning of the year which are designed based \\n          on his / her roles and responsibilities and are aligned \\n          with the department’s targets and overall Mazaya \\n          corporate objectives.', 'on his / her roles and responsibilities and are aligned \\n          with the department’s targets and overall Mazaya \\n          corporate objectives.\\n     Performance Appraisal:\\n       *    Al Mazaya implements a dynamic performance     \\n          management system to ensure that our internal culture is \\n          a performance driven culture. \\n       *    The performance appraisal exercise is conducted twice  \\n          a year (annual and semi-annual) and includes the \\n          following appraisal parameters: self-appraisal, line \\n          manager feedback based on the predefined KPIs,\\n          performance standards and attendance.\\nEMPLOYEE HANDBOOK38', 'EMPLOYEE HANDBOOK40\\nXII. TRAINING AND DEVELOPMENT\\nXIII. BUSINESS TRAVEL\\nXIV. END OF SERVICES CALCULATION\\n     Al Mazaya always believes in the individual’s development \\nand offers training and learning opportunities to its staff based \\non the development plan and the feedback from line managers.\\n      Employees are welcome to suggest any training courses they \\nbelieve are important and can add value to them and to the \\ncompany. \\n    Al Mazaya may ask some employees to carry on an assignment \\noutside Kuwait or their current location. All business trips should be \\napproved by the line manager, HR & Admin Department and the \\nGroup CEO. \\n      Al Mazaya shall provide and pay the accommodation, ticket, visa \\nfees and airport tax (where applicable), transport expenses to and from \\nthe airport, in addition to the daily per diem allowance during the trip. \\nAn employee shall be entitled for an end of service indemnity \\ncommensurate to his / her period of service in Al Mazaya calculated', 'An employee shall be entitled for an end of service indemnity \\ncommensurate to his / her period of service in Al Mazaya calculated \\nas per Kuwait Labour Law (2010).'], 'uris': None, 'data': None, 'metadatas': [{'author': '', 'creationdate': 'D:20171022233423', 'creator': 'Adobe InDesign CC 2017 (Macintosh)', 'keywords': '', 'moddate': 'D:20171109104825', 'page': 0, 'page_label': '1', 'producer': 'PDFKit.NET 4.0.87.0', 'source': '../Mazaya Handbook Eng.copy.pdf', 'start_index': 0, 'subject': '', 'title': '', 'total_pages': 42}, {'author': '', 'creationdate': 'D:20171022233423', 'creator': 'Adobe InDesign CC 2017 (Macintosh)', 'keywords': '', 'moddate': 'D:20171109104825', 'page': 2, 'page_label': '3', 'producer': 'PDFKit.NET 4.0.87.0', 'source': '../Mazaya Handbook Eng.copy.pdf', 'start_index': 0, 'subject': '', 'title': '', 'total_pages': 42}, {'author': '', 'creationdate': 'D:20171022233423', 'creator': 'Adobe InDesign CC 2017 (Macintosh)', 'keywords': '', 'moddate': 'D:20171109104825', 'page': 3, 'page_label': '4', 'producer': 'PDFKit.NET 4.0.87.0', 'source': '../Mazaya Handbook Eng.copy.pdf', 'start_index': 0, 'subject': '', 'title': '', 'total_pages': 42}, {'author': '', 'creationdate': 'D:20171022233423', 'creator': 'Adobe InDesign CC 2017 (Macintosh)', 'keywords': '', 'moddate': 'D:20171109104825', 'page': 4, 'page_label': '5', 'producer': 'PDFKit.NET 4.0.87.0', 'source': '../Mazaya Handbook Eng.copy.pdf', 'start_index': 0, 'subject': '', 'title': '', 'total_pages': 42}, {'author': '', 'creationdate': 'D:20171022233423', 'creator': 'Adobe InDesign CC 2017 (Macintosh)', 'keywords': '', 'moddate': 'D:20171109104825', 'page': 5, 'page_label': '6', 'producer': 'PDFKit.NET 4.0.87.0', 'source': '../Mazaya Handbook Eng.copy.pdf', 'start_index': 0, 'subject': '', 'title': '', 'total_pages': 42}, {'author': '', 'creationdate': 'D:20171022233423', 'creator': 'Adobe InDesign CC 2017 (Macintosh)', 'keywords': '', 'moddate': 'D:20171109104825', 'page': 6, 'page_label': '7', 'producer': 'PDFKit.NET 4.0.87.0', 'source': '../Mazaya Handbook Eng.copy.pdf', 'start_index': 0, 'subject': '', 'title': '', 'total_pages': 42}, {'author': '', 'creationdate': 'D:20171022233423', 'creator': 'Adobe InDesign CC 2017 (Macintosh)', 'keywords': '', 'moddate': 'D:20171109104825', 'page': 7, 'page_label': '8', 'producer': 'PDFKit.NET 4.0.87.0', 'source': '../Mazaya Handbook Eng.copy.pdf', 'start_index': 0, 'subject': '', 'title': '', 'total_pages': 42}, {'author': '', 'creationdate': 'D:20171022233423', 'creator': 'Adobe InDesign CC 2017 (Macintosh)', 'keywords': '', 'moddate': 'D:20171109104825', 'page': 8, 'page_label': '9', 'producer': 'PDFKit.NET 4.0.87.0', 'source': '../Mazaya Handbook Eng.copy.pdf', 'start_index': 0, 'subject': '', 'title': '', 'total_pages': 42}, {'author': '', 'creationdate': 'D:20171022233423', 'creator': 'Adobe InDesign CC 2017 (Macintosh)', 'keywords': '', 'moddate': 'D:20171109104825', 'page': 8, 'page_label': '9', 'producer': 'PDFKit.NET 4.0.87.0', 'source': '../Mazaya Handbook Eng.copy.pdf', 'start_index': 796, 'subject': '', 'title': '', 'total_pages': 42}, {'author': '', 'creationdate': 'D:20171022233423', 'creator': 'Adobe InDesign CC 2017 (Macintosh)', 'keywords': '', 'moddate': 'D:20171109104825', 'page': 8, 'page_label': '9', 'producer': 'PDFKit.NET 4.0.87.0', 'source': '../Mazaya Handbook Eng.copy.pdf', 'start_index': 1560, 'subject': '', 'title': '', 'total_pages': 42}, {'author': '', 'creationdate': 'D:20171022233423', 'creator': 'Adobe InDesign CC 2017 (Macintosh)', 'keywords': '', 'moddate': 'D:20171109104825', 'page': 9, 'page_label': '10', 'producer': 'PDFKit.NET 4.0.87.0', 'source': '../Mazaya Handbook Eng.copy.pdf', 'start_index': 0, 'subject': '', 'title': '', 'total_pages': 42}, {'author': '', 'creationdate': 'D:20171022233423', 'creator': 'Adobe InDesign CC 2017 (Macintosh)', 'keywords': '', 'moddate': 'D:20171109104825', 'page': 10, 'page_label': '11', 'producer': 'PDFKit.NET 4.0.87.0', 'source': '../Mazaya Handbook Eng.copy.pdf', 'start_index': 0, 'subject': '', 'title': '', 'total_pages': 42}, {'author': '', 'creationdate': 'D:20171022233423', 'creator': 'Adobe InDesign CC 2017 (Macintosh)', 'keywords': '', 'moddate': 'D:20171109104825', 'page': 13, 'page_label': '14', 'producer': 'PDFKit.NET 4.0.87.0', 'source': '../Mazaya Handbook Eng.copy.pdf', 'start_index': 0, 'subject': '', 'title': '', 'total_pages': 42}, {'author': '', 'creationdate': 'D:20171022233423', 'creator': 'Adobe InDesign CC 2017 (Macintosh)', 'keywords': '', 'moddate': 'D:20171109104825', 'page': 13, 'page_label': '14', 'producer': 'PDFKit.NET 4.0.87.0', 'source': '../Mazaya Handbook Eng.copy.pdf', 'start_index': 784, 'subject': '', 'title': '', 'total_pages': 42}, {'author': '', 'creationdate': 'D:20171022233423', 'creator': 'Adobe InDesign CC 2017 (Macintosh)', 'keywords': '', 'moddate': 'D:20171109104825', 'page': 14, 'page_label': '15', 'producer': 'PDFKit.NET 4.0.87.0', 'source': '../Mazaya Handbook Eng.copy.pdf', 'start_index': 0, 'subject': '', 'title': '', 'total_pages': 42}, {'author': '', 'creationdate': 'D:20171022233423', 'creator': 'Adobe InDesign CC 2017 (Macintosh)', 'keywords': '', 'moddate': 'D:20171109104825', 'page': 14, 'page_label': '15', 'producer': 'PDFKit.NET 4.0.87.0', 'source': '../Mazaya Handbook Eng.copy.pdf', 'start_index': 840, 'subject': '', 'title': '', 'total_pages': 42}, {'author': '', 'creationdate': 'D:20171022233423', 'creator': 'Adobe InDesign CC 2017 (Macintosh)', 'keywords': '', 'moddate': 'D:20171109104825', 'page': 15, 'page_label': '16', 'producer': 'PDFKit.NET 4.0.87.0', 'source': '../Mazaya Handbook Eng.copy.pdf', 'start_index': 0, 'subject': '', 'title': '', 'total_pages': 42}, {'author': '', 'creationdate': 'D:20171022233423', 'creator': 'Adobe InDesign CC 2017 (Macintosh)', 'keywords': '', 'moddate': 'D:20171109104825', 'page': 15, 'page_label': '16', 'producer': 'PDFKit.NET 4.0.87.0', 'source': '../Mazaya Handbook Eng.copy.pdf', 'start_index': 783, 'subject': '', 'title': '', 'total_pages': 42}, {'author': '', 'creationdate': 'D:20171022233423', 'creator': 'Adobe InDesign CC 2017 (Macintosh)', 'keywords': '', 'moddate': 'D:20171109104825', 'page': 16, 'page_label': '17', 'producer': 'PDFKit.NET 4.0.87.0', 'source': '../Mazaya Handbook Eng.copy.pdf', 'start_index': 0, 'subject': '', 'title': '', 'total_pages': 42}, {'author': '', 'creationdate': 'D:20171022233423', 'creator': 'Adobe InDesign CC 2017 (Macintosh)', 'keywords': '', 'moddate': 'D:20171109104825', 'page': 16, 'page_label': '17', 'producer': 'PDFKit.NET 4.0.87.0', 'source': '../Mazaya Handbook Eng.copy.pdf', 'start_index': 787, 'subject': '', 'title': '', 'total_pages': 42}, {'author': '', 'creationdate': 'D:20171022233423', 'creator': 'Adobe InDesign CC 2017 (Macintosh)', 'keywords': '', 'moddate': 'D:20171109104825', 'page': 17, 'page_label': '18', 'producer': 'PDFKit.NET 4.0.87.0', 'source': '../Mazaya Handbook Eng.copy.pdf', 'start_index': 0, 'subject': '', 'title': '', 'total_pages': 42}, {'author': '', 'creationdate': 'D:20171022233423', 'creator': 'Adobe InDesign CC 2017 (Macintosh)', 'keywords': '', 'moddate': 'D:20171109104825', 'page': 17, 'page_label': '18', 'producer': 'PDFKit.NET 4.0.87.0', 'source': '../Mazaya Handbook Eng.copy.pdf', 'start_index': 752, 'subject': '', 'title': '', 'total_pages': 42}, {'author': '', 'creationdate': 'D:20171022233423', 'creator': 'Adobe InDesign CC 2017 (Macintosh)', 'keywords': '', 'moddate': 'D:20171109104825', 'page': 17, 'page_label': '18', 'producer': 'PDFKit.NET 4.0.87.0', 'source': '../Mazaya Handbook Eng.copy.pdf', 'start_index': 1551, 'subject': '', 'title': '', 'total_pages': 42}, {'author': '', 'creationdate': 'D:20171022233423', 'creator': 'Adobe InDesign CC 2017 (Macintosh)', 'keywords': '', 'moddate': 'D:20171109104825', 'page': 18, 'page_label': '19', 'producer': 'PDFKit.NET 4.0.87.0', 'source': '../Mazaya Handbook Eng.copy.pdf', 'start_index': 0, 'subject': '', 'title': '', 'total_pages': 42}, {'author': '', 'creationdate': 'D:20171022233423', 'creator': 'Adobe InDesign CC 2017 (Macintosh)', 'keywords': '', 'moddate': 'D:20171109104825', 'page': 18, 'page_label': '19', 'producer': 'PDFKit.NET 4.0.87.0', 'source': '../Mazaya Handbook Eng.copy.pdf', 'start_index': 785, 'subject': '', 'title': '', 'total_pages': 42}, {'author': '', 'creationdate': 'D:20171022233423', 'creator': 'Adobe InDesign CC 2017 (Macintosh)', 'keywords': '', 'moddate': 'D:20171109104825', 'page': 18, 'page_label': '19', 'producer': 'PDFKit.NET 4.0.87.0', 'source': '../Mazaya Handbook Eng.copy.pdf', 'start_index': 1564, 'subject': '', 'title': '', 'total_pages': 42}, {'author': '', 'creationdate': 'D:20171022233423', 'creator': 'Adobe InDesign CC 2017 (Macintosh)', 'keywords': '', 'moddate': 'D:20171109104825', 'page': 19, 'page_label': '20', 'producer': 'PDFKit.NET 4.0.87.0', 'source': '../Mazaya Handbook Eng.copy.pdf', 'start_index': 0, 'subject': '', 'title': '', 'total_pages': 42}, {'author': '', 'creationdate': 'D:20171022233423', 'creator': 'Adobe InDesign CC 2017 (Macintosh)', 'keywords': '', 'moddate': 'D:20171109104825', 'page': 20, 'page_label': '21', 'producer': 'PDFKit.NET 4.0.87.0', 'source': '../Mazaya Handbook Eng.copy.pdf', 'start_index': 0, 'subject': '', 'title': '', 'total_pages': 42}, {'author': '', 'creationdate': 'D:20171022233423', 'creator': 'Adobe InDesign CC 2017 (Macintosh)', 'keywords': '', 'moddate': 'D:20171109104825', 'page': 21, 'page_label': '22', 'producer': 'PDFKit.NET 4.0.87.0', 'source': '../Mazaya Handbook Eng.copy.pdf', 'start_index': 0, 'subject': '', 'title': '', 'total_pages': 42}, {'author': '', 'creationdate': 'D:20171022233423', 'creator': 'Adobe InDesign CC 2017 (Macintosh)', 'keywords': '', 'moddate': 'D:20171109104825', 'page': 22, 'page_label': '23', 'producer': 'PDFKit.NET 4.0.87.0', 'source': '../Mazaya Handbook Eng.copy.pdf', 'start_index': 0, 'subject': '', 'title': '', 'total_pages': 42}, {'author': '', 'creationdate': 'D:20171022233423', 'creator': 'Adobe InDesign CC 2017 (Macintosh)', 'keywords': '', 'moddate': 'D:20171109104825', 'page': 24, 'page_label': '25', 'producer': 'PDFKit.NET 4.0.87.0', 'source': '../Mazaya Handbook Eng.copy.pdf', 'start_index': 0, 'subject': '', 'title': '', 'total_pages': 42}, {'author': '', 'creationdate': 'D:20171022233423', 'creator': 'Adobe InDesign CC 2017 (Macintosh)', 'keywords': '', 'moddate': 'D:20171109104825', 'page': 24, 'page_label': '25', 'producer': 'PDFKit.NET 4.0.87.0', 'source': '../Mazaya Handbook Eng.copy.pdf', 'start_index': 743, 'subject': '', 'title': '', 'total_pages': 42}, {'author': '', 'creationdate': 'D:20171022233423', 'creator': 'Adobe InDesign CC 2017 (Macintosh)', 'keywords': '', 'moddate': 'D:20171109104825', 'page': 25, 'page_label': '26', 'producer': 'PDFKit.NET 4.0.87.0', 'source': '../Mazaya Handbook Eng.copy.pdf', 'start_index': 0, 'subject': '', 'title': '', 'total_pages': 42}, {'author': '', 'creationdate': 'D:20171022233423', 'creator': 'Adobe InDesign CC 2017 (Macintosh)', 'keywords': '', 'moddate': 'D:20171109104825', 'page': 27, 'page_label': '28', 'producer': 'PDFKit.NET 4.0.87.0', 'source': '../Mazaya Handbook Eng.copy.pdf', 'start_index': 0, 'subject': '', 'title': '', 'total_pages': 42}, {'author': '', 'creationdate': 'D:20171022233423', 'creator': 'Adobe InDesign CC 2017 (Macintosh)', 'keywords': '', 'moddate': 'D:20171109104825', 'page': 27, 'page_label': '28', 'producer': 'PDFKit.NET 4.0.87.0', 'source': '../Mazaya Handbook Eng.copy.pdf', 'start_index': 804, 'subject': '', 'title': '', 'total_pages': 42}, {'author': '', 'creationdate': 'D:20171022233423', 'creator': 'Adobe InDesign CC 2017 (Macintosh)', 'keywords': '', 'moddate': 'D:20171109104825', 'page': 28, 'page_label': '29', 'producer': 'PDFKit.NET 4.0.87.0', 'source': '../Mazaya Handbook Eng.copy.pdf', 'start_index': 0, 'subject': '', 'title': '', 'total_pages': 42}, {'author': '', 'creationdate': 'D:20171022233423', 'creator': 'Adobe InDesign CC 2017 (Macintosh)', 'keywords': '', 'moddate': 'D:20171109104825', 'page': 28, 'page_label': '29', 'producer': 'PDFKit.NET 4.0.87.0', 'source': '../Mazaya Handbook Eng.copy.pdf', 'start_index': 796, 'subject': '', 'title': '', 'total_pages': 42}, {'author': '', 'creationdate': 'D:20171022233423', 'creator': 'Adobe InDesign CC 2017 (Macintosh)', 'keywords': '', 'moddate': 'D:20171109104825', 'page': 29, 'page_label': '30', 'producer': 'PDFKit.NET 4.0.87.0', 'source': '../Mazaya Handbook Eng.copy.pdf', 'start_index': 0, 'subject': '', 'title': '', 'total_pages': 42}, {'author': '', 'creationdate': 'D:20171022233423', 'creator': 'Adobe InDesign CC 2017 (Macintosh)', 'keywords': '', 'moddate': 'D:20171109104825', 'page': 30, 'page_label': '31', 'producer': 'PDFKit.NET 4.0.87.0', 'source': '../Mazaya Handbook Eng.copy.pdf', 'start_index': 0, 'subject': '', 'title': '', 'total_pages': 42}, {'author': '', 'creationdate': 'D:20171022233423', 'creator': 'Adobe InDesign CC 2017 (Macintosh)', 'keywords': '', 'moddate': 'D:20171109104825', 'page': 30, 'page_label': '31', 'producer': 'PDFKit.NET 4.0.87.0', 'source': '../Mazaya Handbook Eng.copy.pdf', 'start_index': 805, 'subject': '', 'title': '', 'total_pages': 42}, {'author': '', 'creationdate': 'D:20171022233423', 'creator': 'Adobe InDesign CC 2017 (Macintosh)', 'keywords': '', 'moddate': 'D:20171109104825', 'page': 31, 'page_label': '32', 'producer': 'PDFKit.NET 4.0.87.0', 'source': '../Mazaya Handbook Eng.copy.pdf', 'start_index': 0, 'subject': '', 'title': '', 'total_pages': 42}, {'author': '', 'creationdate': 'D:20171022233423', 'creator': 'Adobe InDesign CC 2017 (Macintosh)', 'keywords': '', 'moddate': 'D:20171109104825', 'page': 31, 'page_label': '32', 'producer': 'PDFKit.NET 4.0.87.0', 'source': '../Mazaya Handbook Eng.copy.pdf', 'start_index': 785, 'subject': '', 'title': '', 'total_pages': 42}, {'author': '', 'creationdate': 'D:20171022233423', 'creator': 'Adobe InDesign CC 2017 (Macintosh)', 'keywords': '', 'moddate': 'D:20171109104825', 'page': 32, 'page_label': '33', 'producer': 'PDFKit.NET 4.0.87.0', 'source': '../Mazaya Handbook Eng.copy.pdf', 'start_index': 0, 'subject': '', 'title': '', 'total_pages': 42}, {'author': '', 'creationdate': 'D:20171022233423', 'creator': 'Adobe InDesign CC 2017 (Macintosh)', 'keywords': '', 'moddate': 'D:20171109104825', 'page': 33, 'page_label': '34', 'producer': 'PDFKit.NET 4.0.87.0', 'source': '../Mazaya Handbook Eng.copy.pdf', 'start_index': 0, 'subject': '', 'title': '', 'total_pages': 42}, {'author': '', 'creationdate': 'D:20171022233423', 'creator': 'Adobe InDesign CC 2017 (Macintosh)', 'keywords': '', 'moddate': 'D:20171109104825', 'page': 34, 'page_label': '35', 'producer': 'PDFKit.NET 4.0.87.0', 'source': '../Mazaya Handbook Eng.copy.pdf', 'start_index': 0, 'subject': '', 'title': '', 'total_pages': 42}, {'author': '', 'creationdate': 'D:20171022233423', 'creator': 'Adobe InDesign CC 2017 (Macintosh)', 'keywords': '', 'moddate': 'D:20171109104825', 'page': 35, 'page_label': '36', 'producer': 'PDFKit.NET 4.0.87.0', 'source': '../Mazaya Handbook Eng.copy.pdf', 'start_index': 0, 'subject': '', 'title': '', 'total_pages': 42}, {'author': '', 'creationdate': 'D:20171022233423', 'creator': 'Adobe InDesign CC 2017 (Macintosh)', 'keywords': '', 'moddate': 'D:20171109104825', 'page': 37, 'page_label': '38', 'producer': 'PDFKit.NET 4.0.87.0', 'source': '../Mazaya Handbook Eng.copy.pdf', 'start_index': 0, 'subject': '', 'title': '', 'total_pages': 42}, {'author': '', 'creationdate': 'D:20171022233423', 'creator': 'Adobe InDesign CC 2017 (Macintosh)', 'keywords': '', 'moddate': 'D:20171109104825', 'page': 37, 'page_label': '38', 'producer': 'PDFKit.NET 4.0.87.0', 'source': '../Mazaya Handbook Eng.copy.pdf', 'start_index': 854, 'subject': '', 'title': '', 'total_pages': 42}, {'author': '', 'creationdate': 'D:20171022233423', 'creator': 'Adobe InDesign CC 2017 (Macintosh)', 'keywords': '', 'moddate': 'D:20171109104825', 'page': 38, 'page_label': '39', 'producer': 'PDFKit.NET 4.0.87.0', 'source': '../Mazaya Handbook Eng.copy.pdf', 'start_index': 0, 'subject': '', 'title': '', 'total_pages': 42}, {'author': '', 'creationdate': 'D:20171022233423', 'creator': 'Adobe InDesign CC 2017 (Macintosh)', 'keywords': '', 'moddate': 'D:20171109104825', 'page': 38, 'page_label': '39', 'producer': 'PDFKit.NET 4.0.87.0', 'source': '../Mazaya Handbook Eng.copy.pdf', 'start_index': 780, 'subject': '', 'title': '', 'total_pages': 42}, {'author': '', 'creationdate': 'D:20171022233423', 'creator': 'Adobe InDesign CC 2017 (Macintosh)', 'keywords': '', 'moddate': 'D:20171109104825', 'page': 39, 'page_label': '40', 'producer': 'PDFKit.NET 4.0.87.0', 'source': '../Mazaya Handbook Eng.copy.pdf', 'start_index': 0, 'subject': '', 'title': '', 'total_pages': 42}, {'author': '', 'creationdate': 'D:20171022233423', 'creator': 'Adobe InDesign CC 2017 (Macintosh)', 'keywords': '', 'moddate': 'D:20171109104825', 'page': 39, 'page_label': '40', 'producer': 'PDFKit.NET 4.0.87.0', 'source': '../Mazaya Handbook Eng.copy.pdf', 'start_index': 846, 'subject': '', 'title': '', 'total_pages': 42}, {'author': '', 'creationdate': 'D:20171022233423', 'creator': 'Adobe InDesign CC 2017 (Macintosh)', 'keywords': '', 'moddate': 'D:20171109104825', 'page': 41, 'page_label': '42', 'producer': 'PDFKit.NET 4.0.87.0', 'source': '../Mazaya Handbook Eng.copy.pdf', 'start_index': 0, 'subject': '', 'title': '', 'total_pages': 42}, {'author': '', 'creationdate': 'D:20171022233423', 'creator': 'Adobe InDesign CC 2017 (Macintosh)', 'keywords': '', 'moddate': 'D:20171109104825', 'page': 41, 'page_label': '42', 'producer': 'PDFKit.NET 4.0.87.0', 'source': '../Mazaya Handbook Eng.copy.pdf', 'start_index': 861, 'subject': '', 'title': '', 'total_pages': 42}], 'included': [<IncludeEnum.documents: 'documents'>, <IncludeEnum.metadatas: 'metadatas'>]}\n"
     ]
    }
   ],
   "source": [
    "# Check stored collections\n",
    "print(vector_store.get())  # Shows metadata about stored documents\n",
    "# include=[\"documents\"]"
   ]
  },
  {
   "cell_type": "markdown",
   "metadata": {},
   "source": [
    "Having instantiated our vector store, we can now index the documents."
   ]
  },
  {
   "cell_type": "code",
   "execution_count": 8,
   "metadata": {},
   "outputs": [],
   "source": [
    "ids = vector_store.add_documents(documents=all_splits)"
   ]
  },
  {
   "cell_type": "markdown",
   "metadata": {},
   "source": [
    "**delete collection**"
   ]
  },
  {
   "cell_type": "code",
   "execution_count": 10,
   "metadata": {},
   "outputs": [],
   "source": [
    "from chromadb import PersistentClient\n",
    "\n",
    "# Initialize the client with the persistence directory\n",
    "client = PersistentClient(path=\"./chroma_langchain_db\")\n",
    "\n",
    "# Delete the specific collection by name\n",
    "# client.delete_collection(name=\"example_collection\")\n",
    "# client.delete_collection(name=\"teststhr\")\n",
    "# client.delete_collection(name=\"test_parent_child\")\n"
   ]
  },
  {
   "cell_type": "code",
   "execution_count": 11,
   "metadata": {},
   "outputs": [
    {
     "name": "stdout",
     "output_type": "stream",
     "text": [
      "Total collections: 3\n",
      "teststhr\n",
      "mcd_recursivesplit\n",
      "nike_collection\n"
     ]
    }
   ],
   "source": [
    "# Initialize the Chroma client\n",
    "# client = PersistentClient(path=\"./chroma_langchain_db\")  # Adjust the path to your database\n",
    "\n",
    "# Retrieve the list of collection names\n",
    "collections = client.list_collections()\n",
    "\n",
    "# Display the number of collections and their names\n",
    "print(f\"Total collections: {len(collections)}\")\n",
    "for collection_name in collections:\n",
    "    print(collection_name)"
   ]
  },
  {
   "cell_type": "code",
   "execution_count": 14,
   "metadata": {},
   "outputs": [],
   "source": [
    "vector_store = Chroma(\n",
    "    collection_name=\"nike_collection\",\n",
    "    embedding_function=embeddings,\n",
    "    persist_directory=\"./chroma_langchain_db\",  # Where to save data locally, remove if not necessary\n",
    ")"
   ]
  },
  {
   "cell_type": "code",
   "execution_count": 12,
   "metadata": {},
   "outputs": [
    {
     "name": "stdout",
     "output_type": "stream",
     "text": [
      "page_content='22 Updated July, 2021  \n",
      "A&A Management/ Goodwin Partners  d/b/a McDonald’s \n",
      "  \n",
      "grey; no pink, purple, blue, vivid orange, vivid reds, etc.) Hats are the only acceptable \n",
      "headgear. The appropriate McDonald’s hat – visor must be worn. \n",
      "6. Pants must be worn around the waist. \n",
      "7. Solid Black (no stripes, lines, other colors), rubber soled non-slip is the only appropriate \n",
      "footwear. No tennis shoes or other type of athletic footwear – shoes must be low-heeled, \n",
      "comfortable and polish able. \n",
      "8. Men: The only permissible facial hair will be trimmed mustache and/or short/small \n",
      "goatee that is neatly groomed and/or beard that is small and neatly groomed. The goatee \n",
      "and/or beard can be no longer than 1/8 inch long, must be neat and clean. A \n",
      "mustache should be short and neatly trimmed. One stud is permitted in each ear. No face, \n",
      "visible body jewelry is to be worn (i.e., no tongue rings). No grilles or detachable gold \n",
      "teeth are permitted. Please limit rings to one per hand.' metadata={'author': 'Steven Overby', 'creationdate': '2021-07-20T13:27:27-04:00', 'creator': 'Microsoft® Word 2019', 'moddate': '2021-07-20T13:27:27-04:00', 'page': 21, 'page_label': '22', 'producer': 'Microsoft® Word 2019', 'source': '../mcdHandbook.pdf', 'start_index': 0, 'total_pages': 40}\n"
     ]
    }
   ],
   "source": [
    "results = vector_store.similarity_search(\n",
    "    \"what is the dress code?\"\n",
    ")\n",
    "\n",
    "print(results[0])"
   ]
  },
  {
   "cell_type": "markdown",
   "metadata": {},
   "source": [
    "Note that most vector store implementations will allow you to connect to an existing vector store-- e.g., by providing a client, index name, or other information. See the documentation for a specific integration for more detail."
   ]
  },
  {
   "cell_type": "markdown",
   "metadata": {},
   "source": [
    "Once we've instantiated a ```VectorStore``` that contains documents, we can query it. VectorStore includes methods for querying:\n",
    "\n",
    "* Synchronously and asynchronously;\n",
    "* By string query and by vector;\n",
    "* With and without returning similarity scores;\n",
    "* By similarity and maximum marginal relevance (to balance similarity with query to diversity in retrieved results).\n",
    "\n",
    "The methods will generally include a list of Document objects in their outputs."
   ]
  },
  {
   "cell_type": "markdown",
   "metadata": {},
   "source": [
    "**Vector Stores Usage**\n",
    "\n",
    "Embeddings typically represent text as a \"dense\" vector such that texts with similar meanings are geometrically close. This lets us retrieve relevant information just by passing in a question, without knowledge of any specific key-terms used in the document.\n",
    "\n",
    "Return documents based on similarity to a string query:"
   ]
  },
  {
   "cell_type": "code",
   "execution_count": 15,
   "metadata": {},
   "outputs": [
    {
     "name": "stdout",
     "output_type": "stream",
     "text": [
      "page_content='operations. We also lease an office complex in Shanghai, China, our headquarters for our Greater China geography, occupied by employees focused on implementing our\n",
      "wholesale, NIKE Direct and merchandising strategies in the region, among other functions.\n",
      "In the United States, NIKE has eight significant distribution centers. Five are located in or near Memphis, Tennessee, two of which are owned and three of which are\n",
      "leased. Two other distribution centers, one located in Indianapolis, Indiana and one located in Dayton, Tennessee, are leased and operated by third-party logistics\n",
      "providers. One distribution center for Converse is located in Ontario, California, which is leased. NIKE has a number of distribution facilities outside the United States,\n",
      "some of which are leased and operated by third-party logistics providers. The most significant distribution facilities outside the United States are located in Laakdal,' metadata={'author': 'EDGAR Online, a division of Donnelley Financial Solutions', 'creationdate': '2023-07-20T16:22:00-04:00', 'creator': 'EDGAR Filing HTML Converter', 'keywords': '0000320187-23-000039; ; 10-K', 'moddate': '2023-07-20T16:22:08-04:00', 'page': 26, 'page_label': '27', 'producer': 'EDGRpdf Service w/ EO.Pdf 22.0.40.0', 'section': 'middle', 'source': '../nke-10k-2023.pdf', 'start_index': 804, 'subject': 'Form 10-K filed on 2023-07-20 for the period ending 2023-05-31', 'title': '0000320187-23-000039', 'total_pages': 107}\n"
     ]
    }
   ],
   "source": [
    "results = vector_store.similarity_search(\n",
    "    \"How many distribution centers does Nike have in the US?\"\n",
    ")\n",
    "\n",
    "print(results[0])"
   ]
  },
  {
   "cell_type": "markdown",
   "metadata": {},
   "source": [
    "Async query:"
   ]
  },
  {
   "cell_type": "code",
   "execution_count": 12,
   "metadata": {},
   "outputs": [
    {
     "name": "stdout",
     "output_type": "stream",
     "text": [
      "page_content='Table of Contents\n",
      "PART I\n",
      "ITEM 1. BUSINESS\n",
      "GENERAL\n",
      "NIKE, Inc. was incorporated in 1967 under the laws of the State of Oregon. As used in this Annual Report on Form 10-K (this \"Annual Report\"), the terms \"we,\" \"us,\" \"our,\"\n",
      "\"NIKE\" and the \"Company\" refer to NIKE, Inc. and its predecessors, subsidiaries and affiliates, collectively, unless the context indicates otherwise.\n",
      "Our principal business activity is the design, development and worldwide marketing and selling of athletic footwear, apparel, equipment, accessories and services. NIKE is\n",
      "the largest seller of athletic footwear and apparel in the world. We sell our products through NIKE Direct operations, which are comprised of both NIKE-owned retail stores\n",
      "and sales through our digital platforms (also referred to as \"NIKE Brand Digital\"), to retail accounts and to a mix of independent distributors, licensees and sales' metadata={'author': 'EDGAR Online, a division of Donnelley Financial Solutions', 'creationdate': '2023-07-20T16:22:00-04:00', 'creator': 'EDGAR Filing HTML Converter', 'keywords': '0000320187-23-000039; ; 10-K', 'moddate': '2023-07-20T16:22:08-04:00', 'page': 3, 'page_label': '4', 'producer': 'EDGRpdf Service w/ EO.Pdf 22.0.40.0', 'source': '../nke-10k-2023.pdf', 'start_index': 0, 'subject': 'Form 10-K filed on 2023-07-20 for the period ending 2023-05-31', 'title': '0000320187-23-000039', 'total_pages': 107}\n"
     ]
    }
   ],
   "source": [
    "results = await vector_store.asimilarity_search(\"When was Nike incorporated?\")\n",
    "\n",
    "print(results[0])"
   ]
  },
  {
   "cell_type": "markdown",
   "metadata": {},
   "source": [
    "Return scores:"
   ]
  },
  {
   "cell_type": "code",
   "execution_count": 44,
   "metadata": {},
   "outputs": [
    {
     "name": "stdout",
     "output_type": "stream",
     "text": [
      "Score: 1.0344295501708984\n",
      "\n",
      "page_content='on our business, including unwanted media attention, impairment of our consumer and customer relationships, damage to our reputation; resulting in lost sales and\n",
      "consumers, fines, lawsuits, or significant legal and remediation expenses. We also may need to expend significant resources to protect against, respond to and/or redress\n",
      "problems caused by any breach.\n",
      "In addition, we must comply with increasingly complex and rigorous, and sometimes conflicting, regulatory standards enacted to protect business and personal data in the\n",
      "United States, Europe and elsewhere. For example, the European Union adopted the General Data Protection Regulation (the \"GDPR\"); the United Kingdom enacted the\n",
      "UK General Data Protection Regulation (which implements the GDPR into UK law); several states in the United States have passed data privacy laws; China enacted the' metadata={'author': 'EDGAR Online, a division of Donnelley Financial Solutions', 'creationdate': '2023-07-20T16:22:00-04:00', 'creator': 'EDGAR Filing HTML Converter', 'keywords': '0000320187-23-000039; ; 10-K', 'moddate': '2023-07-20T16:22:08-04:00', 'page': 23, 'page_label': '24', 'producer': 'EDGRpdf Service w/ EO.Pdf 22.0.40.0', 'section': 'beginning', 'source': '../nke-10k-2023.pdf', 'start_index': 1470, 'subject': 'Form 10-K filed on 2023-07-20 for the period ending 2023-05-31', 'title': '0000320187-23-000039', 'total_pages': 107}\n"
     ]
    }
   ],
   "source": [
    "results = vector_store.similarity_search_with_score(\"list out the policy\",k=6)\n",
    "doc, score = results[0]\n",
    "print(f\"Score: {score}\\n\")\n",
    "print(doc)"
   ]
  },
  {
   "cell_type": "code",
   "execution_count": 45,
   "metadata": {},
   "outputs": [
    {
     "name": "stdout",
     "output_type": "stream",
     "text": [
      "on our business, including unwanted media attention, impairment of our consumer and customer relationships, damage to our reputation; resulting in lost sales and\n",
      "consumers, fines, lawsuits, or significant legal and remediation expenses. We also may need to expend significant resources to protect against, respond to and/or redress\n",
      "problems caused by any breach.\n",
      "In addition, we must comply with increasingly complex and rigorous, and sometimes conflicting, regulatory standards enacted to protect business and personal data in the\n",
      "United States, Europe and elsewhere. For example, the European Union adopted the General Data Protection Regulation (the \"GDPR\"); the United Kingdom enacted the\n",
      "UK General Data Protection Regulation (which implements the GDPR into UK law); several states in the United States have passed data privacy laws; China enacted the\n"
     ]
    }
   ],
   "source": [
    "print(doc.page_content)"
   ]
  },
  {
   "cell_type": "code",
   "execution_count": 61,
   "metadata": {},
   "outputs": [
    {
     "name": "stdout",
     "output_type": "stream",
     "text": [
      "Result 1:\n",
      "Score: 0.9074994438896306\n",
      "Document Content: Privacy and use of Personal and Official information:\n",
      "     *     Employees have an obligation to ensure that professional \n",
      "          information is secured against loss, misuse or    \n",
      "          unauthorized access, modification or disclosure.        \n",
      "          Employees have a duty to maintain the confidentiality, integrity &\n",
      "          security of official information for which they are responsible.\n",
      "    Records management:\n",
      "     *     Employees need to be aware of their record keeping \n",
      "          responsibilities and are reminded that there is a legal \n",
      "          requirement to adhere to proper records management \n",
      "          practices and procedures. \n",
      "     *     All employees must therefore ensure that the Company \n",
      "          documents are not placed in unofficial or private filing \n",
      "          systems but place such documents in official files. \n",
      "     *     Employees must not remove documents from official files.\n",
      "\n",
      "Result 2:\n",
      "Score: 0.9267349222921303\n",
      "Document Content: *     Employees must not damage, dispose of, or in any other \n",
      "          manner, interfere with official documents or files. The  \n",
      "          destruction of records may only take place in accordance \n",
      "           with a disposal and retention schedule, which shall be \n",
      "           approved by the Group CEO. \n",
      "    Information Technology: \n",
      "     *     Employees must not access information which they are    \n",
      "          not authorised to access or use, and must not allow any \n",
      "          other person access for any reason. \n",
      "     *     Employees must take all reasonable precautions,    \n",
      "          including password maintenance and file protection\n",
      "          measures to prevent unauthorised access and have an\n",
      "          obligation to maintain the security and confidentiality of   \n",
      "            the information systems over which they have responsibility  \n",
      "          or control and that are owned or used by agreement. \n",
      "    Acceptance of Commissions, Gifts or Benefits:\n",
      "\n",
      "Result 3:\n",
      "Score: 0.9371160390252855\n",
      "Document Content: technical and behavioural skills that are needed to suit the job \n",
      "requirements. The policy of promotion, recruitment, demotion, \n",
      "transfer, termination, assigning each employee to the grading \n",
      "system and pay scale, training, benefits are all conducted based \n",
      "on professional and technical level without regards of any type \n",
      "of self-discrimination.\n",
      "EMPLOYEE HANDBOOK12\n",
      "\n",
      "Result 4:\n",
      "Score: 0.9818406029286953\n",
      "Document Content: the information systems over which they have responsibility  \n",
      "          or control and that are owned or used by agreement. \n",
      "    Acceptance of Commissions, Gifts or Benefits:\n",
      "     *     Employees should not accept a gift, secret commission or a     \n",
      "             benefit from a person or organisation outside the Company if \n",
      "             the intent of the gift or the benefit is to induce the employee to \n",
      "             waive or reduce requirements or to extend a financial or other \n",
      "             benefit to a person or organisation outside the Company to the \n",
      "             detriment of the Company interests. \n",
      "     *     Employees may accept token gifts or benefits in circumstances    \n",
      "               approved by the Group CEO or a nominee, provided that there is \n",
      "             no possibility that the employee might be perceived to be, \n",
      "             compromised in the process. Gifts of a nominal value generally\n",
      "\n",
      "Result 5:\n",
      "Score: 0.9962012963305195\n",
      "Document Content: DOCUMENT INFORMATION & REVISION HISTORY\n",
      "VERSION REVIEW HISTORY\n",
      "APPROVAL OF CHANGES HISTORY \n",
      "Amendments to this handbook will be made as a result of one or a combination of \n",
      "the following reasons:\n",
      "• Changes in any HR & Admin related policy and/or procedures\n",
      "• Changes in any HR & Admin related procedures\n",
      "• Changes in employee related policy, process or information\n",
      "• Changes in organizational structure\n",
      "Document Review Frequency Responsibility for \n",
      "Review\n",
      "Approval\n",
      "Employee \n",
      "Handbook\n",
      "Every 12 Months HR & Admin \n",
      "Department\n",
      "Group CEO\n",
      "Version Reviewer Date Revision Notes\n",
      "Version Approver Date Notes\n",
      "EMPLOYEE HANDBOOK04\n",
      "\n",
      "Result 6:\n",
      "Score: 0.9987906130707507\n",
      "Document Content: systems but place such documents in official files. \n",
      "     *     Employees must not remove documents from official files.     \n",
      "            They are controlled records, and must be complete, up-to-\n",
      "           date and capable of providing organisational accountability \n",
      "           when officially scrutinised.\n",
      "EMPLOYEE HANDBOOK16\n",
      "V. EMPLOYMENT WITH AL MAZAYA\n",
      "\n"
     ]
    }
   ],
   "source": [
    "# Iterate over the results and print each document with its score\n",
    "for i, (doc,score) in enumerate(results, start=1):\n",
    "    print(f\"Result {i}:\")\n",
    "    print(f\"Score: {score}\")\n",
    "    print(f\"Document Content: {doc.page_content}\\n\")"
   ]
  },
  {
   "cell_type": "code",
   "execution_count": 28,
   "metadata": {},
   "outputs": [
    {
     "name": "stdout",
     "output_type": "stream",
     "text": [
      "Score: 1.2516987323760986\n",
      "\n",
      "page_content='“WE RISE\n",
      "BY LIFTING \n",
      "OTHERS ”' metadata={'author': '', 'creationdate': 'D:20171022233423', 'creator': 'Adobe InDesign CC 2017 (Macintosh)', 'keywords': '', 'moddate': 'D:20171109104825', 'page': 34, 'page_label': '35', 'producer': 'PDFKit.NET 4.0.87.0', 'source': '../Mazaya Handbook Eng.copy.pdf', 'start_index': 0, 'subject': '', 'title': '', 'total_pages': 42}\n"
     ]
    }
   ],
   "source": [
    "# Note that providers implement different scores; the score here\n",
    "# is a distance metric that varies inversely with similarity.\n",
    "\n",
    "results = vector_store.similarity_search_with_score(\"What was Nike's revenue in 2023?\")\n",
    "doc, score = results[0]\n",
    "print(f\"Score: {score}\\n\")\n",
    "print(doc)"
   ]
  },
  {
   "cell_type": "markdown",
   "metadata": {},
   "source": [
    "Return documents based on similarity to an embedded query:"
   ]
  },
  {
   "cell_type": "code",
   "execution_count": 29,
   "metadata": {},
   "outputs": [
    {
     "name": "stdout",
     "output_type": "stream",
     "text": [
      "page_content='“WE RISE\n",
      "BY LIFTING \n",
      "OTHERS ”' metadata={'author': '', 'creationdate': 'D:20171022233423', 'creator': 'Adobe InDesign CC 2017 (Macintosh)', 'keywords': '', 'moddate': 'D:20171109104825', 'page': 34, 'page_label': '35', 'producer': 'PDFKit.NET 4.0.87.0', 'source': '../Mazaya Handbook Eng.copy.pdf', 'start_index': 0, 'subject': '', 'title': '', 'total_pages': 42}\n"
     ]
    }
   ],
   "source": [
    "embedding = embeddings.embed_query(\"How were Nike's margins impacted in 2023?\")\n",
    "\n",
    "results = vector_store.similarity_search_by_vector(embedding)\n",
    "print(results[0])"
   ]
  },
  {
   "cell_type": "markdown",
   "metadata": {},
   "source": [
    "##### **FAISS**"
   ]
  },
  {
   "cell_type": "code",
   "execution_count": null,
   "metadata": {},
   "outputs": [],
   "source": []
  },
  {
   "cell_type": "markdown",
   "metadata": {},
   "source": [
    "##### **Qdrant**"
   ]
  },
  {
   "cell_type": "markdown",
   "metadata": {},
   "source": [
    "On-disk storage"
   ]
  },
  {
   "cell_type": "code",
   "execution_count": null,
   "metadata": {},
   "outputs": [],
   "source": [
    "from langchain_qdrant import QdrantVectorStore\n",
    "from qdrant_client import QdrantClient\n",
    "from qdrant_client.http.models import Distance, VectorParams\n",
    "\n",
    "client = QdrantClient(path=\"./langchain_qdrant\")\n",
    "\n",
    "client.create_collection(\n",
    "    collection_name=\"demo_collection\",\n",
    "    vectors_config=VectorParams(size=768, distance=Distance.COSINE), # same size with embeddings model\n",
    ")\n",
    "\n",
    "vector_store = QdrantVectorStore(\n",
    "    client=client,\n",
    "    collection_name=\"demo_collection\",\n",
    "    embedding=embeddings,\n",
    ")"
   ]
  },
  {
   "cell_type": "code",
   "execution_count": null,
   "metadata": {},
   "outputs": [],
   "source": [
    "# Initialize the Qdrant client\n",
    "\n",
    "from langchain_community.vectorstores.qdrant import Qdrant\n",
    "\n",
    "client = QdrantClient(path=\"./langchain_qdrant\")  # Path to your Qdrant database\n",
    "\n",
    "# Connect to the existing collection\n",
    "vector_store = QdrantVectorStore(\n",
    "    client=client,  # Path to your Qdrant database\n",
    "    collection_name=\"demo_collection\",  # Name of your existing collection\n",
    "    embedding=embeddings                # Your embedding function\n",
    ")"
   ]
  },
  {
   "cell_type": "code",
   "execution_count": 66,
   "metadata": {},
   "outputs": [
    {
     "data": {
      "text/plain": [
       "True"
      ]
     },
     "execution_count": 66,
     "metadata": {},
     "output_type": "execute_result"
    }
   ],
   "source": [
    "client.delete_collection(collection_name=\"demo_collection\")"
   ]
  },
  {
   "cell_type": "code",
   "execution_count": 73,
   "metadata": {},
   "outputs": [
    {
     "name": "stdout",
     "output_type": "stream",
     "text": [
      "<langchain_qdrant.qdrant.QdrantVectorStore object at 0x0000023A3E7BB990>\n"
     ]
    }
   ],
   "source": [
    "# Check stored collections\n",
    "print(vector_store)  # Shows metadata about stored documents"
   ]
  },
  {
   "cell_type": "code",
   "execution_count": 75,
   "metadata": {},
   "outputs": [],
   "source": [
    "ids = vector_store.add_documents(documents=all_splits)"
   ]
  },
  {
   "cell_type": "code",
   "execution_count": 76,
   "metadata": {},
   "outputs": [
    {
     "name": "stdout",
     "output_type": "stream",
     "text": [
      "Score: 0.5462476113171137\n",
      "\n",
      "page_content='Privacy and use of Personal and Official information:\n",
      "     *     Employees have an obligation to ensure that professional \n",
      "          information is secured against loss, misuse or    \n",
      "          unauthorized access, modification or disclosure.        \n",
      "          Employees have a duty to maintain the confidentiality, integrity &\n",
      "          security of official information for which they are responsible.\n",
      "    Records management:\n",
      "     *     Employees need to be aware of their record keeping \n",
      "          responsibilities and are reminded that there is a legal \n",
      "          requirement to adhere to proper records management \n",
      "          practices and procedures. \n",
      "     *     All employees must therefore ensure that the Company \n",
      "          documents are not placed in unofficial or private filing \n",
      "          systems but place such documents in official files. \n",
      "     *     Employees must not remove documents from official files.' metadata={'producer': 'PDFKit.NET 4.0.87.0', 'creator': 'Adobe InDesign CC 2017 (Macintosh)', 'creationdate': 'D:20171022233423', 'subject': '', 'author': '', 'keywords': '', 'moddate': 'D:20171109104825', 'title': '', 'source': '../Mazaya Handbook Eng.copy.pdf', 'total_pages': 42, 'page': 17, 'page_label': '18', 'start_index': 752, '_id': '5348ab7397554aafae430bd8ae6421fa', '_collection_name': 'demo_collection'}\n"
     ]
    }
   ],
   "source": [
    "results = vector_store.similarity_search_with_score(\"list out the policy\",k=6)\n",
    "doc, score = results[0]\n",
    "print(f\"Score: {score}\\n\")\n",
    "print(doc)"
   ]
  },
  {
   "cell_type": "code",
   "execution_count": 77,
   "metadata": {},
   "outputs": [
    {
     "name": "stdout",
     "output_type": "stream",
     "text": [
      "Result 1:\n",
      "Score: 0.5462476113171137\n",
      "Document Content: Privacy and use of Personal and Official information:\n",
      "     *     Employees have an obligation to ensure that professional \n",
      "          information is secured against loss, misuse or    \n",
      "          unauthorized access, modification or disclosure.        \n",
      "          Employees have a duty to maintain the confidentiality, integrity &\n",
      "          security of official information for which they are responsible.\n",
      "    Records management:\n",
      "     *     Employees need to be aware of their record keeping \n",
      "          responsibilities and are reminded that there is a legal \n",
      "          requirement to adhere to proper records management \n",
      "          practices and procedures. \n",
      "     *     All employees must therefore ensure that the Company \n",
      "          documents are not placed in unofficial or private filing \n",
      "          systems but place such documents in official files. \n",
      "     *     Employees must not remove documents from official files.\n",
      "\n",
      "Result 2:\n",
      "Score: 0.5366293345400888\n",
      "Document Content: *     Employees must not damage, dispose of, or in any other \n",
      "          manner, interfere with official documents or files. The  \n",
      "          destruction of records may only take place in accordance \n",
      "           with a disposal and retention schedule, which shall be \n",
      "           approved by the Group CEO. \n",
      "    Information Technology: \n",
      "     *     Employees must not access information which they are    \n",
      "          not authorised to access or use, and must not allow any \n",
      "          other person access for any reason. \n",
      "     *     Employees must take all reasonable precautions,    \n",
      "          including password maintenance and file protection\n",
      "          measures to prevent unauthorised access and have an\n",
      "          obligation to maintain the security and confidentiality of   \n",
      "            the information systems over which they have responsibility  \n",
      "          or control and that are owned or used by agreement. \n",
      "    Acceptance of Commissions, Gifts or Benefits:\n",
      "\n",
      "Result 3:\n",
      "Score: 0.531440607579852\n",
      "Document Content: technical and behavioural skills that are needed to suit the job \n",
      "requirements. The policy of promotion, recruitment, demotion, \n",
      "transfer, termination, assigning each employee to the grading \n",
      "system and pay scale, training, benefits are all conducted based \n",
      "on professional and technical level without regards of any type \n",
      "of self-discrimination.\n",
      "EMPLOYEE HANDBOOK12\n",
      "\n",
      "Result 4:\n",
      "Score: 0.5090762257992669\n",
      "Document Content: the information systems over which they have responsibility  \n",
      "          or control and that are owned or used by agreement. \n",
      "    Acceptance of Commissions, Gifts or Benefits:\n",
      "     *     Employees should not accept a gift, secret commission or a     \n",
      "             benefit from a person or organisation outside the Company if \n",
      "             the intent of the gift or the benefit is to induce the employee to \n",
      "             waive or reduce requirements or to extend a financial or other \n",
      "             benefit to a person or organisation outside the Company to the \n",
      "             detriment of the Company interests. \n",
      "     *     Employees may accept token gifts or benefits in circumstances    \n",
      "               approved by the Group CEO or a nominee, provided that there is \n",
      "             no possibility that the employee might be perceived to be, \n",
      "             compromised in the process. Gifts of a nominal value generally\n",
      "\n",
      "Result 5:\n",
      "Score: 0.5018958861652381\n",
      "Document Content: DOCUMENT INFORMATION & REVISION HISTORY\n",
      "VERSION REVIEW HISTORY\n",
      "APPROVAL OF CHANGES HISTORY \n",
      "Amendments to this handbook will be made as a result of one or a combination of \n",
      "the following reasons:\n",
      "• Changes in any HR & Admin related policy and/or procedures\n",
      "• Changes in any HR & Admin related procedures\n",
      "• Changes in employee related policy, process or information\n",
      "• Changes in organizational structure\n",
      "Document Review Frequency Responsibility for \n",
      "Review\n",
      "Approval\n",
      "Employee \n",
      "Handbook\n",
      "Every 12 Months HR & Admin \n",
      "Department\n",
      "Group CEO\n",
      "Version Reviewer Date Revision Notes\n",
      "Version Approver Date Notes\n",
      "EMPLOYEE HANDBOOK04\n",
      "\n",
      "Result 6:\n",
      "Score: 0.5006031683649792\n",
      "Document Content: systems but place such documents in official files. \n",
      "     *     Employees must not remove documents from official files.     \n",
      "            They are controlled records, and must be complete, up-to-\n",
      "           date and capable of providing organisational accountability \n",
      "           when officially scrutinised.\n",
      "EMPLOYEE HANDBOOK16\n",
      "V. EMPLOYMENT WITH AL MAZAYA\n",
      "\n"
     ]
    }
   ],
   "source": [
    "# Iterate over the results and print each document with its score\n",
    "for i, (doc,score) in enumerate(results, start=1):\n",
    "    print(f\"Result {i}:\")\n",
    "    print(f\"Score: {score}\")\n",
    "    print(f\"Document Content: {doc.page_content}\\n\")"
   ]
  },
  {
   "cell_type": "code",
   "execution_count": 79,
   "metadata": {},
   "outputs": [],
   "source": [
    "# Fetch documents by their IDs\n",
    "test = vector_store.get_by_ids(ids)"
   ]
  },
  {
   "cell_type": "code",
   "execution_count": 80,
   "metadata": {},
   "outputs": [
    {
     "data": {
      "text/plain": [
       "[Document(metadata={'producer': 'PDFKit.NET 4.0.87.0', 'creator': 'Adobe InDesign CC 2017 (Macintosh)', 'creationdate': 'D:20171022233423', 'subject': '', 'author': '', 'keywords': '', 'moddate': 'D:20171109104825', 'title': '', 'source': '../Mazaya Handbook Eng.copy.pdf', 'total_pages': 42, 'page': 0, 'page_label': '1', 'start_index': 0, '_id': '703010893e64412d90a57f5659c9ae92', '_collection_name': 'demo_collection'}, page_content='EMPLOYEE HANDBOOK\\nAL MAZAYA HOLDING CO. K.S.C.P HOLDING'),\n",
       " Document(metadata={'producer': 'PDFKit.NET 4.0.87.0', 'creator': 'Adobe InDesign CC 2017 (Macintosh)', 'creationdate': 'D:20171022233423', 'subject': '', 'author': '', 'keywords': '', 'moddate': 'D:20171109104825', 'title': '', 'source': '../Mazaya Handbook Eng.copy.pdf', 'total_pages': 42, 'page': 2, 'page_label': '3', 'start_index': 0, '_id': '1fa743a0bc394d238a0f09211fd337c4', '_collection_name': 'demo_collection'}, page_content='COPYRIGHT NOTICE\\nThe information in this document contains confidential and \\nproprietary information of Al Mazaya Holding Company \\n(“Mazaya” or the “company”). As a result, this document should \\nnot be disclosed, used or duplicated – in whole or in part – for any \\npurpose other than for the use of the company.\\nNo employee of Mazaya shall duplicate this document in whole or \\nin part thereof without the explicit authorization of the authorized \\nmanagement. In the unlikely event of any unclaimed copies being \\nfound, the same shall be immediately returned to any member of \\nthe management or destroyed.\\nEMPLOYEE HANDBOOK 01'),\n",
       " Document(metadata={'producer': 'PDFKit.NET 4.0.87.0', 'creator': 'Adobe InDesign CC 2017 (Macintosh)', 'creationdate': 'D:20171022233423', 'subject': '', 'author': '', 'keywords': '', 'moddate': 'D:20171109104825', 'title': '', 'source': '../Mazaya Handbook Eng.copy.pdf', 'total_pages': 42, 'page': 3, 'page_label': '4', 'start_index': 0, '_id': '21cf235490d640958130ad146a48c948', '_collection_name': 'demo_collection'}, page_content='KUWAIT HEAD OFFICE\\nP.O. Box 3546, Safat 13036, Kuwait\\nMazaya Tower 01 | 25th Floor | Al Murqab\\nTel +965  22243333  |  Fax +965  22411901\\nwww.mazayaholding.com\\nDUBAI OFFICE\\nP.O. Box 116488, Dubai\\nMazaya Business Avenue | Jumeirah Lake Towers\\nAA1 Tower | 45th Floor\\nHotline: +971 80010101 | Fax +971 4 3635457/8\\nTURKEY OFFICE\\nEski Buyukdere St.| iz Plaza Giz No:9 | Floor:16 | Apt.:60\\nMaslak Sarıyer |istanbul\\nTel +90 2122907030 | Fax +90 2122907031'),\n",
       " Document(metadata={'producer': 'PDFKit.NET 4.0.87.0', 'creator': 'Adobe InDesign CC 2017 (Macintosh)', 'creationdate': 'D:20171022233423', 'subject': '', 'author': '', 'keywords': '', 'moddate': 'D:20171109104825', 'title': '', 'source': '../Mazaya Handbook Eng.copy.pdf', 'total_pages': 42, 'page': 4, 'page_label': '5', 'start_index': 0, '_id': 'a90d173099004f0c8cb031ef6a81fb22', '_collection_name': 'demo_collection'}, page_content='CONTENTS\\nIntroduction \\nAbout Al Mazaya\\nOpen Door Policy \\nNon-Discrimination and Equal Employment Opportunity\\n Employment with Al Mazaya \\nWorking Hours and Attendance Policy \\nLeave\\nGrading Structure\\nEmployee Benefits\\nPayroll\\nReward & Recognition\\nTraining and Development\\n Business Travel\\n End of Services Calculation\\n06\\n07\\n12\\n12\\n13\\n23\\n26\\n32\\n34\\n37\\n38\\n40\\n40\\n40\\nEMPLOYEE HANDBOOK 03'),\n",
       " Document(metadata={'producer': 'PDFKit.NET 4.0.87.0', 'creator': 'Adobe InDesign CC 2017 (Macintosh)', 'creationdate': 'D:20171022233423', 'subject': '', 'author': '', 'keywords': '', 'moddate': 'D:20171109104825', 'title': '', 'source': '../Mazaya Handbook Eng.copy.pdf', 'total_pages': 42, 'page': 5, 'page_label': '6', 'start_index': 0, '_id': '90232c0f9534422fbd43cd720d7634fc', '_collection_name': 'demo_collection'}, page_content='DOCUMENT INFORMATION & REVISION HISTORY\\nVERSION REVIEW HISTORY\\nAPPROVAL OF CHANGES HISTORY \\nAmendments to this handbook will be made as a result of one or a combination of \\nthe following reasons:\\n• Changes in any HR & Admin related policy and/or procedures\\n• Changes in any HR & Admin related procedures\\n• Changes in employee related policy, process or information\\n• Changes in organizational structure\\nDocument Review Frequency Responsibility for \\nReview\\nApproval\\nEmployee \\nHandbook\\nEvery 12 Months HR & Admin \\nDepartment\\nGroup CEO\\nVersion Reviewer Date Revision Notes\\nVersion Approver Date Notes\\nEMPLOYEE HANDBOOK04'),\n",
       " Document(metadata={'producer': 'PDFKit.NET 4.0.87.0', 'creator': 'Adobe InDesign CC 2017 (Macintosh)', 'creationdate': 'D:20171022233423', 'subject': '', 'author': '', 'keywords': '', 'moddate': 'D:20171109104825', 'title': '', 'source': '../Mazaya Handbook Eng.copy.pdf', 'total_pages': 42, 'page': 6, 'page_label': '7', 'start_index': 0, '_id': '01750ac2912244b3b528a0162579c10f', '_collection_name': 'demo_collection'}, page_content='Al MAZAYA \\nHEADQUARTERS'),\n",
       " Document(metadata={'producer': 'PDFKit.NET 4.0.87.0', 'creator': 'Adobe InDesign CC 2017 (Macintosh)', 'creationdate': 'D:20171022233423', 'subject': '', 'author': '', 'keywords': '', 'moddate': 'D:20171109104825', 'title': '', 'source': '../Mazaya Handbook Eng.copy.pdf', 'total_pages': 42, 'page': 7, 'page_label': '8', 'start_index': 0, '_id': '96e2f7448ab04e34908c0b6a6c02a198', '_collection_name': 'demo_collection'}, page_content='I. INTRODUCTION\\nThis Employee Handbook is designed to acquaint you with Al \\nMAZAYA HOLDING CO. (Al Mazaya) and provide you with a \\nquick reference to the working conditions, benefits, and policies \\naffecting your employment. For further details and information, \\nit’s always recommended to refer to the HR & Admin Policies and \\nProcedures Manual.\\nFollowing the guidelines and policies described in this Handbook \\nis considered a condition of continued employment. However, \\nnothing in this Handbook alters an employee’s status. The \\ncontents of this Handbook shall not constitute nor be construed \\nas a promise of a tenure employment or as a contract between the \\nCompany and any of its employees.'),\n",
       " Document(metadata={'producer': 'PDFKit.NET 4.0.87.0', 'creator': 'Adobe InDesign CC 2017 (Macintosh)', 'creationdate': 'D:20171022233423', 'subject': '', 'author': '', 'keywords': '', 'moddate': 'D:20171109104825', 'title': '', 'source': '../Mazaya Handbook Eng.copy.pdf', 'total_pages': 42, 'page': 8, 'page_label': '9', 'start_index': 0, '_id': '1b9b8490dd3e454395997e8fb22cf74f', '_collection_name': 'demo_collection'}, page_content='II. ABOUT AL MAZAYA \\nAl Mazaya is widely recognized as one of the most prominent and \\nhighly thought-of real estate development companies in the middle \\neast market, with numerous impressive projects. The company came \\nabout through a belief in the need for strong, rigorous investment in \\nthe region, and has prevailed in creating and maintaining the trust \\nof large-scale investors in the Kuwaiti market and abroad.\\nThe company was established in 1998 and started operation as \\nAl Mazaya Holding Company in 2004 with a paid up capital of \\nKD 15 million to reach KD 68.8 million which is equivalent to \\napproximately USD 243 million. Al Mazaya is a publicly-traded \\ncompany dually listed on both the Kuwait Stock Exchange since \\n2005 and Dubai Financial Market since 2006. Since its inception, \\nAl Mazaya has adopted a balanced expansion strategy allowing \\nmitigating risk, while maximizing investment and by doing so \\nhave witnessed strong growth.'),\n",
       " Document(metadata={'producer': 'PDFKit.NET 4.0.87.0', 'creator': 'Adobe InDesign CC 2017 (Macintosh)', 'creationdate': 'D:20171022233423', 'subject': '', 'author': '', 'keywords': '', 'moddate': 'D:20171109104825', 'title': '', 'source': '../Mazaya Handbook Eng.copy.pdf', 'total_pages': 42, 'page': 8, 'page_label': '9', 'start_index': 796, '_id': '8529524e9fa644babc5bd8e38f12e715', '_collection_name': 'demo_collection'}, page_content='Al Mazaya has adopted a balanced expansion strategy allowing \\nmitigating risk, while maximizing investment and by doing so \\nhave witnessed strong growth. \\nAl Mazaya prides itself in providing various comprehensive real \\nestate products and services in several fields, among them housing \\nprojects such as deluxe villas and high-class residential buildings, \\ncommercial projects such as office and retail buildings, and \\nhealth projects such as medical centers. Al Mazaya is engaged \\nin several other real estate fields such as purchasing, ownership, \\nand selling of lands and its development for the company within \\nKuwait and abroad.  \\nFurthermore, Al Mazaya handles the management of third parties’ \\nproperties and management, operation and investment, leasing \\nand rent of hotels, health clubs, recreational parks, gardens, \\nexhibition grounds, restaurants, residential and commercial \\ncomplexes, and touristic and health resorts.'),\n",
       " Document(metadata={'producer': 'PDFKit.NET 4.0.87.0', 'creator': 'Adobe InDesign CC 2017 (Macintosh)', 'creationdate': 'D:20171022233423', 'subject': '', 'author': '', 'keywords': '', 'moddate': 'D:20171109104825', 'title': '', 'source': '../Mazaya Handbook Eng.copy.pdf', 'total_pages': 42, 'page': 8, 'page_label': '9', 'start_index': 1560, '_id': '8c0898272e544487bce851ff93a272a7', '_collection_name': 'demo_collection'}, page_content='and rent of hotels, health clubs, recreational parks, gardens, \\nexhibition grounds, restaurants, residential and commercial \\ncomplexes, and touristic and health resorts.\\nAl Mazaya’s Investments have always focused on building strategic \\nalliances and partnerships that allow for developing the company’s \\ncompetitive edge.  \\nEMPLOYEE HANDBOOK 07'),\n",
       " Document(metadata={'producer': 'PDFKit.NET 4.0.87.0', 'creator': 'Adobe InDesign CC 2017 (Macintosh)', 'creationdate': 'D:20171022233423', 'subject': '', 'author': '', 'keywords': '', 'moddate': 'D:20171109104825', 'title': '', 'source': '../Mazaya Handbook Eng.copy.pdf', 'total_pages': 42, 'page': 9, 'page_label': '10', 'start_index': 0, '_id': '742d721434854db5909ca747ad35534f', '_collection_name': 'demo_collection'}, page_content='BOARD OF DIRECTORS\\nEMPLOYEE HANDBOOK08\\nEng. Abdulrahman \\nM. AlShared\\nVice Chairman\\nMrs. Rasha A. \\n Al-Qenaei \\nBoard Member\\nMr. Abdul Hamid \\nMihrez\\nBoard Member\\nMr. Mohammad K. \\nAl-Othman\\nBoard Member\\nMr. Rashid Al Nafisi\\nChairman'),\n",
       " Document(metadata={'producer': 'PDFKit.NET 4.0.87.0', 'creator': 'Adobe InDesign CC 2017 (Macintosh)', 'creationdate': 'D:20171022233423', 'subject': '', 'author': '', 'keywords': '', 'moddate': 'D:20171109104825', 'title': '', 'source': '../Mazaya Handbook Eng.copy.pdf', 'total_pages': 42, 'page': 10, 'page_label': '11', 'start_index': 0, '_id': '2e13510930a84528be4358300987de24', '_collection_name': 'demo_collection'}, page_content='VISION\\nMISSION\\nTo be ONE of the MARKET LEADERS in Real Estate \\nDevelopment, Working in in targeted prospective MARKETS \\nwith A STRONG BRAND which provides distinguished  \\nPRODUCTS.\\n•   DEVELOP Land Mark PROJECTS.\\n•   SUSTAIN a value added QUALITY of PROJECTS.\\n•   DEVELOP a high CALIBER human CAPITAL.\\n•   DIVERSIFY the Projects to Encompass THE WIDE Spectrum  \\n       of Real Estate SEGMENTS/SECTORS.\\nEMPLOYEE HANDBOOK 09'),\n",
       " Document(metadata={'producer': 'PDFKit.NET 4.0.87.0', 'creator': 'Adobe InDesign CC 2017 (Macintosh)', 'creationdate': 'D:20171022233423', 'subject': '', 'author': '', 'keywords': '', 'moddate': 'D:20171109104825', 'title': '', 'source': '../Mazaya Handbook Eng.copy.pdf', 'total_pages': 42, 'page': 13, 'page_label': '14', 'start_index': 0, '_id': '719cd190f92341fcaaa1d23418dd7e68', '_collection_name': 'demo_collection'}, page_content='III. OPEN DOOR POLICY\\nIV. NON-DISCRIMINATION AND EQUAL \\nEMPLOYMENT OPPORTUNITY\\nAl Mazaya always encourages employees who feel they have \\nbeen treated unfairly to discuss their concerns with their \\nline managers, Human Resources Department or the Group \\nChief Executive Officer. This includes work related problems, \\ncomplains, development and new ideas.  All the communication \\nshall be treated strictly confidential. \\nAl Mazaya believes that there shall be an equal employment \\nopportunity for all municipal candidates and applicants without \\nregard to race, colour, religion, gender and nationality. Al \\nMazaya treats all applicants and its employees in a professional \\nand in equal way in terms of assessment, employment or \\npromotion for existing employees, all will be based on \\ntechnical and behavioural skills that are needed to suit the job \\nrequirements. The policy of promotion, recruitment, demotion, \\ntransfer, termination, assigning each employee to the grading'),\n",
       " Document(metadata={'producer': 'PDFKit.NET 4.0.87.0', 'creator': 'Adobe InDesign CC 2017 (Macintosh)', 'creationdate': 'D:20171022233423', 'subject': '', 'author': '', 'keywords': '', 'moddate': 'D:20171109104825', 'title': '', 'source': '../Mazaya Handbook Eng.copy.pdf', 'total_pages': 42, 'page': 13, 'page_label': '14', 'start_index': 784, '_id': '75a6d4630b794b848d7e2d59d27382e5', '_collection_name': 'demo_collection'}, page_content='technical and behavioural skills that are needed to suit the job \\nrequirements. The policy of promotion, recruitment, demotion, \\ntransfer, termination, assigning each employee to the grading \\nsystem and pay scale, training, benefits are all conducted based \\non professional and technical level without regards of any type \\nof self-discrimination.\\nEMPLOYEE HANDBOOK12'),\n",
       " Document(metadata={'producer': 'PDFKit.NET 4.0.87.0', 'creator': 'Adobe InDesign CC 2017 (Macintosh)', 'creationdate': 'D:20171022233423', 'subject': '', 'author': '', 'keywords': '', 'moddate': 'D:20171109104825', 'title': '', 'source': '../Mazaya Handbook Eng.copy.pdf', 'total_pages': 42, 'page': 14, 'page_label': '15', 'start_index': 0, '_id': 'd1e493b2f9774f21959ffb134f6ec9bf', '_collection_name': 'demo_collection'}, page_content='V. EMPLOYMENT WITH AL MAZAYA\\nPre-Employment Formalities :\\n     All candidates must have their CVs and personal documents \\nready and valid, including and not limited to (civil ID, passport, \\neducation degree, training certification & valid visa)\\n    The candidates must complete the medical test whether the \\ncandidate is hired locally or from outside Kuwait. All candidates \\nmust be eligible to work in Kuwait and have the required visa and \\nwork permit.  Al Mazaya will help in issuing such documentation \\nfor all its employees.\\n    All candidates must fill the Employment Application Form \\nand attach their personal documents, in addition Al Mazaya will \\nprovide the approved job description prior to the joining date or \\nwithin the first working week.\\nFirst Day At Al Mazaya :\\nOn joining Al Mazaya, the HR & Admin Department shall take \\nyou around the office premises on an orientation.\\nFirst Week At Al Mazaya :\\nWithin the first week of joining, all new employees shall receive'),\n",
       " Document(metadata={'producer': 'PDFKit.NET 4.0.87.0', 'creator': 'Adobe InDesign CC 2017 (Macintosh)', 'creationdate': 'D:20171022233423', 'subject': '', 'author': '', 'keywords': '', 'moddate': 'D:20171109104825', 'title': '', 'source': '../Mazaya Handbook Eng.copy.pdf', 'total_pages': 42, 'page': 14, 'page_label': '15', 'start_index': 840, '_id': 'cccf5e6c24c54a1a8e2d7f4832079e51', '_collection_name': 'demo_collection'}, page_content='you around the office premises on an orientation.\\nFirst Week At Al Mazaya :\\nWithin the first week of joining, all new employees shall receive \\n“Al Mazaya Welcome Pack”, which includes an identification card, \\nan approved job description, benefits details, employee handbook, \\ncode of conduct, employees contact list, latest organization \\nstructure, and the user name & password for logging in the HR \\nSystem under which the HR team will provide a training session on \\nthe same during the first week.\\nProbation period :\\nAll new hires shall serve the probation period not exceeding one hundred \\n(100) days as per the Kuwait Labour Law (2010). Once the employee \\nsuccessfully and satisfactorily completes the probation period, his / her \\nstatus shall automatically change to permanent employee.\\nEMPLOYEE HANDBOOK 13'),\n",
       " Document(metadata={'producer': 'PDFKit.NET 4.0.87.0', 'creator': 'Adobe InDesign CC 2017 (Macintosh)', 'creationdate': 'D:20171022233423', 'subject': '', 'author': '', 'keywords': '', 'moddate': 'D:20171109104825', 'title': '', 'source': '../Mazaya Handbook Eng.copy.pdf', 'total_pages': 42, 'page': 15, 'page_label': '16', 'start_index': 0, '_id': '3420152c53cc4025ac23f963d6d1627e', '_collection_name': 'demo_collection'}, page_content='V. EMPLOYMENT WITH AL MAZAYA \\nIdentification Cards:\\nEmployees are encouraged to carry their identification cards at \\nall times during the working hours. \\nSafety:\\nAl Mazaya is always seeking to provide a safe and healthy \\nworkplace. Employees in return must use their judgment to \\navoid un-needed job incidents.\\nRelocation:\\n    The company may ask the employee to be relocated to a \\ndifferent geographical location / country. The relocation should \\nnot be against the employee’s will and should have the Group \\nCEO approval.\\n    The Relocation allowance policy will apply in this regard. \\nPlease refer to the HR & Administration Manual for full details.\\nEmployee HR System:\\n        Al Mazaya has an online HR system that facilitates employees \\ntransactions and requests such as:\\n     *    All types of leaves\\n     *    All types of permissions\\n     *    Salary certificate\\n     *    Business trips\\n     *    Trainings\\n     *    Other requests and transactions'),\n",
       " Document(metadata={'producer': 'PDFKit.NET 4.0.87.0', 'creator': 'Adobe InDesign CC 2017 (Macintosh)', 'creationdate': 'D:20171022233423', 'subject': '', 'author': '', 'keywords': '', 'moddate': 'D:20171109104825', 'title': '', 'source': '../Mazaya Handbook Eng.copy.pdf', 'total_pages': 42, 'page': 15, 'page_label': '16', 'start_index': 783, '_id': '8a1421d13014402bafee3b89d0639119', '_collection_name': 'demo_collection'}, page_content='*    All types of leaves\\n     *    All types of permissions\\n     *    Salary certificate\\n     *    Business trips\\n     *    Trainings\\n     *    Other requests and transactions\\n     All employees’ transactions and requests must be submitted \\non the HR system.\\nEMPLOYEE HANDBOOK14'),\n",
       " Document(metadata={'producer': 'PDFKit.NET 4.0.87.0', 'creator': 'Adobe InDesign CC 2017 (Macintosh)', 'creationdate': 'D:20171022233423', 'subject': '', 'author': '', 'keywords': '', 'moddate': 'D:20171109104825', 'title': '', 'source': '../Mazaya Handbook Eng.copy.pdf', 'total_pages': 42, 'page': 16, 'page_label': '17', 'start_index': 0, '_id': '9ecbe7a3b76c4deb8baece5df80d9cec', '_collection_name': 'demo_collection'}, page_content='V. EMPLOYMENT WITH AL MAZAYA \\nEmployee Engagement and Communications:\\nAs part of our engagement programs, Al Mazaya management \\nalways communicates with staff on the progress of Al Mazaya \\nactivities, new projects, market conditions and the company’s \\nresults under which the management believes it is very important \\nthat all Al Mazaya staff are part of the business cycle.\\nEmployees’ Satisfaction Survey: \\nOn annual basis, the HR department launches a satisfaction \\nsurvey to all staff, to evaluate their satisfactory level, and to give \\nthe opportunity to the staff to express their concerns, opinion \\nand feedback. Conclusions derived thereof shall support the \\nmanagement in enhancing and developing the current culture \\nand working environment.\\nEmployees Relation Committee (ERC):\\nAl Mazaya always believes in fairness and transparency when \\nit comes to its employees. To achieve this objective, Al Mazaya \\nformed an Employees Relation Committee, which handles'),\n",
       " Document(metadata={'producer': 'PDFKit.NET 4.0.87.0', 'creator': 'Adobe InDesign CC 2017 (Macintosh)', 'creationdate': 'D:20171022233423', 'subject': '', 'author': '', 'keywords': '', 'moddate': 'D:20171109104825', 'title': '', 'source': '../Mazaya Handbook Eng.copy.pdf', 'total_pages': 42, 'page': 16, 'page_label': '17', 'start_index': 787, '_id': 'bd1fc8a9a9ab432c84f562387605914a', '_collection_name': 'demo_collection'}, page_content='Al Mazaya always believes in fairness and transparency when \\nit comes to its employees. To achieve this objective, Al Mazaya \\nformed an Employees Relation Committee, which handles \\nand reviews all types of grievances that are submitted by the \\nemployees and provides recommendations to the Group CEO \\non timely manner and with utmost confidentiality.\\nWhistle Blower Policy:\\nAs Al Mazaya & its management are committed to the transparency, \\nfairness and ethics standards applied, Al Mazaya provides a whistle \\nblower policy & protection, where any employee who has noticed, \\nseen or witnessed any type of conflict of interest or any employee who \\nhas used his / her position or the company available resources to \\ngain advantage or profit illegally from the company, the employee \\nshall inform the Group CEO directly, and in case any employee has \\nnoticed a conflict of interest act by the Group CEO, in this case the \\nemployee shall approach the Chairman of Al Mazaya directly.\\nEMPLOYEE HANDBOOK 15'),\n",
       " Document(metadata={'producer': 'PDFKit.NET 4.0.87.0', 'creator': 'Adobe InDesign CC 2017 (Macintosh)', 'creationdate': 'D:20171022233423', 'subject': '', 'author': '', 'keywords': '', 'moddate': 'D:20171109104825', 'title': '', 'source': '../Mazaya Handbook Eng.copy.pdf', 'total_pages': 42, 'page': 17, 'page_label': '18', 'start_index': 0, '_id': 'c15c3a978339438a9d15f57e83ce2a87', '_collection_name': 'demo_collection'}, page_content='Code of Conduct:\\nThe Employee Code of Conduct outlines standards of personal \\nand professional conduct that all employees must strive to \\nuphold and behave in an ethical and professional manner at all \\ntimes. The Code provides a basis for all employees to maintain \\na working environment that is productive, positive, enjoyable, \\nsafe and free from harassment and discrimination. \\n    Dress and Appearance:\\n     *     The Company is well-recognized and respected and \\n          projects a particular image to our clients.  \\n     *     Employees must therefore ensure that their appearance is \\n          neat, clean and appropriate for their particular area of work.  A    \\n            high standard of personal hygiene is expected at  all times.\\n \\n    Privacy and use of Personal and Official information:\\n     *     Employees have an obligation to ensure that professional \\n          information is secured against loss, misuse or'),\n",
       " Document(metadata={'producer': 'PDFKit.NET 4.0.87.0', 'creator': 'Adobe InDesign CC 2017 (Macintosh)', 'creationdate': 'D:20171022233423', 'subject': '', 'author': '', 'keywords': '', 'moddate': 'D:20171109104825', 'title': '', 'source': '../Mazaya Handbook Eng.copy.pdf', 'total_pages': 42, 'page': 17, 'page_label': '18', 'start_index': 752, '_id': '5348ab7397554aafae430bd8ae6421fa', '_collection_name': 'demo_collection'}, page_content='Privacy and use of Personal and Official information:\\n     *     Employees have an obligation to ensure that professional \\n          information is secured against loss, misuse or    \\n          unauthorized access, modification or disclosure.        \\n          Employees have a duty to maintain the confidentiality, integrity &\\n          security of official information for which they are responsible.\\n    Records management:\\n     *     Employees need to be aware of their record keeping \\n          responsibilities and are reminded that there is a legal \\n          requirement to adhere to proper records management \\n          practices and procedures. \\n     *     All employees must therefore ensure that the Company \\n          documents are not placed in unofficial or private filing \\n          systems but place such documents in official files. \\n     *     Employees must not remove documents from official files.'),\n",
       " Document(metadata={'producer': 'PDFKit.NET 4.0.87.0', 'creator': 'Adobe InDesign CC 2017 (Macintosh)', 'creationdate': 'D:20171022233423', 'subject': '', 'author': '', 'keywords': '', 'moddate': 'D:20171109104825', 'title': '', 'source': '../Mazaya Handbook Eng.copy.pdf', 'total_pages': 42, 'page': 17, 'page_label': '18', 'start_index': 1551, '_id': '7913362f1f8547b791cd8c0576f90937', '_collection_name': 'demo_collection'}, page_content='systems but place such documents in official files. \\n     *     Employees must not remove documents from official files.     \\n            They are controlled records, and must be complete, up-to-\\n           date and capable of providing organisational accountability \\n           when officially scrutinised.\\nEMPLOYEE HANDBOOK16\\nV. EMPLOYMENT WITH AL MAZAYA'),\n",
       " Document(metadata={'producer': 'PDFKit.NET 4.0.87.0', 'creator': 'Adobe InDesign CC 2017 (Macintosh)', 'creationdate': 'D:20171022233423', 'subject': '', 'author': '', 'keywords': '', 'moddate': 'D:20171109104825', 'title': '', 'source': '../Mazaya Handbook Eng.copy.pdf', 'total_pages': 42, 'page': 18, 'page_label': '19', 'start_index': 0, '_id': '52af405dbccf425eb420fc25fd515bbc', '_collection_name': 'demo_collection'}, page_content='*     Employees must not damage, dispose of, or in any other \\n          manner, interfere with official documents or files. The  \\n          destruction of records may only take place in accordance \\n           with a disposal and retention schedule, which shall be \\n           approved by the Group CEO. \\n    Information Technology: \\n     *     Employees must not access information which they are    \\n          not authorised to access or use, and must not allow any \\n          other person access for any reason. \\n     *     Employees must take all reasonable precautions,    \\n          including password maintenance and file protection\\n          measures to prevent unauthorised access and have an\\n          obligation to maintain the security and confidentiality of   \\n            the information systems over which they have responsibility  \\n          or control and that are owned or used by agreement. \\n    Acceptance of Commissions, Gifts or Benefits:'),\n",
       " Document(metadata={'producer': 'PDFKit.NET 4.0.87.0', 'creator': 'Adobe InDesign CC 2017 (Macintosh)', 'creationdate': 'D:20171022233423', 'subject': '', 'author': '', 'keywords': '', 'moddate': 'D:20171109104825', 'title': '', 'source': '../Mazaya Handbook Eng.copy.pdf', 'total_pages': 42, 'page': 18, 'page_label': '19', 'start_index': 785, '_id': 'c811de8a664e49db82ee2c0a154b2503', '_collection_name': 'demo_collection'}, page_content='the information systems over which they have responsibility  \\n          or control and that are owned or used by agreement. \\n    Acceptance of Commissions, Gifts or Benefits:\\n     *     Employees should not accept a gift, secret commission or a     \\n             benefit from a person or organisation outside the Company if \\n             the intent of the gift or the benefit is to induce the employee to \\n             waive or reduce requirements or to extend a financial or other \\n             benefit to a person or organisation outside the Company to the \\n             detriment of the Company interests. \\n     *     Employees may accept token gifts or benefits in circumstances    \\n               approved by the Group CEO or a nominee, provided that there is \\n             no possibility that the employee might be perceived to be, \\n             compromised in the process. Gifts of a nominal value generally'),\n",
       " Document(metadata={'producer': 'PDFKit.NET 4.0.87.0', 'creator': 'Adobe InDesign CC 2017 (Macintosh)', 'creationdate': 'D:20171022233423', 'subject': '', 'author': '', 'keywords': '', 'moddate': 'D:20171109104825', 'title': '', 'source': '../Mazaya Handbook Eng.copy.pdf', 'total_pages': 42, 'page': 18, 'page_label': '19', 'start_index': 1564, '_id': 'aca73b8bee214f25b4c76b356efb9668', '_collection_name': 'demo_collection'}, page_content='no possibility that the employee might be perceived to be, \\n             compromised in the process. Gifts of a nominal value generally \\n             used for promotional purposes by the donor, or moderate acts of \\n             hospitality may be accepted by employees.  \\n     *      The employees must advise the Head of Human Resources of \\n             any gifts and benefits they have received as soon as the gift or \\n             benefit is received and must not take advantage or seek to take \\n             advantage of their position to obtain a benefit, either for \\n             themselves or for someone else. \\nFor further information and details, it is recommended to refer \\nto the full Code of Conduct document.\\n V. EMPLOYMENT WITH AL MAZAYA'),\n",
       " Document(metadata={'producer': 'PDFKit.NET 4.0.87.0', 'creator': 'Adobe InDesign CC 2017 (Macintosh)', 'creationdate': 'D:20171022233423', 'subject': '', 'author': '', 'keywords': '', 'moddate': 'D:20171109104825', 'title': '', 'source': '../Mazaya Handbook Eng.copy.pdf', 'total_pages': 42, 'page': 19, 'page_label': '20', 'start_index': 0, '_id': '2269b28336fc47c8afee0b6bc5798c66', '_collection_name': 'demo_collection'}, page_content='MAZAYA STAFF - KUWAIT \\nEMPLOYEE HANDBOOK18\\nEng. Ibrahim Al Soqabi\\nGroup CEO\\nExt.331\\n Ext.355\\nEng. Salwa Malhas\\nChief BD and\\nMarketing & Sales Officer\\nExt.378\\nEng. Abdullah Al Sultan\\nDirector - Marketing\\n & Sales\\nExt.357\\nMr. Jasem Al Ghanim\\nDirector - Marketing\\n & Sales\\nEng. Cem Yolcu \\nCEO - Mazaya Turkey\\nExt.381\\nDr. Abdulaziz Jarkas\\nChief Projects Officer\\nExt.202\\nMr. Khaled Abdulatif\\nCEO - Dubai \\nOffice Operations\\nExt.356\\nMr. Mubarak Al Sabah\\nDirector - Marketing\\n & Sales\\nExt.334\\nMr.Ahmed Harfoush \\nChief Financial Officer\\nExt.354\\nMr.Asaad Ibrahim  \\nDirector Corporate Services\\nExt.390\\nMrs. Anne-Marie Doueihi\\n Manager - Marketing\\n & Sales\\nExt.388\\nMrs. Narmin N. Sufan\\nSenior Marketing Specialist\\n - Marketing & Sales\\nMr. Mahmoud Al Saadi \\nSenior Graphic Designer - \\nMarketing & Sales\\nExt.364\\nMrs. Dima Al-Rifai \\nCustomer Service & Sales \\nOfficer - Marketing & Sales\\nExt.375\\nMrs.Bushra Abu Sabra\\nOffice Manager - \\nCEO Office\\nExt.332'),\n",
       " Document(metadata={'producer': 'PDFKit.NET 4.0.87.0', 'creator': 'Adobe InDesign CC 2017 (Macintosh)', 'creationdate': 'D:20171022233423', 'subject': '', 'author': '', 'keywords': '', 'moddate': 'D:20171109104825', 'title': '', 'source': '../Mazaya Handbook Eng.copy.pdf', 'total_pages': 42, 'page': 20, 'page_label': '21', 'start_index': 0, '_id': 'c00caced6ec349748a3e5d376e3c2bdd', '_collection_name': 'demo_collection'}, page_content='Ext.385\\nEng. Bader Al Rqobah\\nDirector - Projects\\nEMPLOYEE HANDBOOK 19\\nEng. Abdullah Al Subaih\\nSenior Manager - Business \\nDevelopment\\nExt.393\\nEng. Ahmed Al Jammal\\nSenior Manager - Projects\\nExt.382\\nExt.348\\nMr. Nabil Al Edrisi\\nSenior Manager - Finance\\nExt.407\\nMr. Mohammed Hussain\\nSenior Manager - Finance\\nExt.338\\nMr. Mohammed Nasif\\nAssistant Manager - Finance\\nExt.360\\nEng. Haitham Ateiah\\nManager -\\n Business Development\\nExt.394\\nMr. Abdullah Al Nafisi\\nManager -\\n Business Development\\nExt.340\\nMr. Oussama Diab \\nSenior Manager - Finance\\nExt.406\\nEng. Tarek Qumhiyeh\\nAssociate Director -  \\nBusiness Development \\nExt.367\\nMr. Mohamed Elangbawy\\nGraphic Designer - \\nMarketing & Sales\\nExt.387\\nMr. Hytham Abdulhameed\\nOfficer - \\nBusiness Development\\nExt.363\\nMr. Amir S. Khan\\nFinancial Analyst - \\nBusiness Development\\nExt.395\\nMr. Binesh Kumar\\nExecutive Secretary - \\nBusiness Development\\nExt.389\\nMrs. Santana Fernandes\\nExecutive Secretary - \\nProjects'),\n",
       " Document(metadata={'producer': 'PDFKit.NET 4.0.87.0', 'creator': 'Adobe InDesign CC 2017 (Macintosh)', 'creationdate': 'D:20171022233423', 'subject': '', 'author': '', 'keywords': '', 'moddate': 'D:20171109104825', 'title': '', 'source': '../Mazaya Handbook Eng.copy.pdf', 'total_pages': 42, 'page': 21, 'page_label': '22', 'start_index': 0, '_id': '22a6b4554d1a471caf8d78a4a8e87ca1', '_collection_name': 'demo_collection'}, page_content='MAZAYA STAFF - KUWAIT \\nEMPLOYEE HANDBOOK20\\nExt.369\\nMr. Rashid Attingal\\nOfficer - Property \\nManagement\\nExt.371\\nMr. Adel Hassan\\nSenior Officer - Property \\nManagement\\nExt.386\\nMr.Mansoor Khan\\nManager - IT\\nExt.368\\nMr. Tity Idiculla\\nCoordinator - Property \\nManagement\\nExt.372\\nMrs. Arwa Al Khamis\\nOfficer - Property \\nManagement\\nMiss. Gina Montino\\nReceptionist - Property\\nManagement\\nTel.22269333\\nExt.361\\nMr. Shahad Moossa\\nAssistant Accountant - \\nFinance\\nExt.336\\nMrs. Mays Naser\\nSenior Accountant - \\nFinance\\nExt.377\\nEng. Binu Eipe\\nManager - Property \\nManagement\\nExt.373\\nMrs. Dalal Al Nafisi\\nSenior Manager  - Property \\nManagement\\nExt.398\\nMr. Anwar Saleh \\nLegal Advisor & \\nCompliance Officer - Legal\\nExt.384\\nMr. Firas Al Ragom \\nSenior Manager - IT\\nExt.335\\nMiss. Najlaa Elaiwi\\nExecutive Secretary - \\nFinance \\nExt.351\\nMr. Amr Ismail\\nAssistant Manager - Finance\\nExt.346\\nMr. Sajith Kumar\\nChief Accountant - Finance'),\n",
       " Document(metadata={'producer': 'PDFKit.NET 4.0.87.0', 'creator': 'Adobe InDesign CC 2017 (Macintosh)', 'creationdate': 'D:20171022233423', 'subject': '', 'author': '', 'keywords': '', 'moddate': 'D:20171109104825', 'title': '', 'source': '../Mazaya Handbook Eng.copy.pdf', 'total_pages': 42, 'page': 22, 'page_label': '23', 'start_index': 0, '_id': 'c9a248e1f6f14183ac6582809abbfdcf', '_collection_name': 'demo_collection'}, page_content='Ext.358\\nMr. Shukoor Ahmed\\nDocument Controller - \\nCorporate Services\\nEMPLOYEE HANDBOOK 21\\nExt.345\\nMr. Shahid Yamkanmardi\\nIT Administrator - IT\\nExt.342\\nMohamad Hamdan\\nAdmin Officer - \\nHR & Admin\\nMrs. Dalia Helail\\nOfficer - \\nCorporate Services\\nExt.353\\nExt.825\\nMr . Vazhathoppil Bathisha\\nOffice Helper\\nExt.824\\nMr. Velloli Balachandran\\nOffice Helper\\nExt.820\\nMr. Abdelmohsen Badry\\nOffice Helper\\nExt.347\\nMr. Moawia Al-Mardoud  \\nIT Supervisor - IT\\nMr. Meshaal Menahi \\nMessenger\\nTel.99811811\\nMr. Obeid Barashed\\nMessenger\\nTel.65096671\\nMr. Shihab Abdullah\\nMessenger\\nTel.99226171\\nMr. Rashid AlFaidhi\\nMessenger\\nTel.66090932\\nExt.399\\nMr. Ali Al Semawi \\nManager - HR & Admin\\nExt.365\\nMr. Ibrahim Alqurawi\\n Assistant Manager - \\n HR & Admin'),\n",
       " Document(metadata={'producer': 'PDFKit.NET 4.0.87.0', 'creator': 'Adobe InDesign CC 2017 (Macintosh)', 'creationdate': 'D:20171022233423', 'subject': '', 'author': '', 'keywords': '', 'moddate': 'D:20171109104825', 'title': '', 'source': '../Mazaya Handbook Eng.copy.pdf', 'total_pages': 42, 'page': 24, 'page_label': '25', 'start_index': 0, '_id': '15db7baf8a8f4506b4799935ff3a153f', '_collection_name': 'demo_collection'}, page_content='VI. WORKING HOURS AND ATTENDANCE \\nPOLICY\\n  Al Mazaya believes in fostering a professional working \\nenvironment, yet flexible and comfortable to its valuable assets -its \\nemployees- and this is reflected through its flexible working hours \\nand attendance policy. Al Mazaya‘s official working hours are from \\n8:00 am to 4:00 pm Sunday to Thursday with a flexible 30 minutes \\nunder which the employee can attend work between 8:00 to 8:30 \\nam and leave between 4:00 to 4:30 pm whereby the employee has \\nto complete the full 8 working hours per day. \\n      Additionally, each employee is allowed a total of 180 minutes \\n(3 hours) lateness/early-out per month beyond the flexible 30 \\nminutes. However, when the employee comes late or leaves early, \\nhis / her lateness or early out minutes are capped and shall not \\nexceed 30 minutes per day. After consuming the 180 minutes (3 \\nhours) allocated for the month or coming late/leaving early more'),\n",
       " Document(metadata={'producer': 'PDFKit.NET 4.0.87.0', 'creator': 'Adobe InDesign CC 2017 (Macintosh)', 'creationdate': 'D:20171022233423', 'subject': '', 'author': '', 'keywords': '', 'moddate': 'D:20171109104825', 'title': '', 'source': '../Mazaya Handbook Eng.copy.pdf', 'total_pages': 42, 'page': 24, 'page_label': '25', 'start_index': 743, '_id': '6b6c06626d3f428191abccadba436e0d', '_collection_name': 'demo_collection'}, page_content='his / her lateness or early out minutes are capped and shall not \\nexceed 30 minutes per day. After consuming the 180 minutes (3 \\nhours) allocated for the month or coming late/leaving early more \\nthan 30 minutes  during a day, the total time will be deducted from \\nthe employee’s next month salary unless a permission is requested \\nas detailed in the below section.\\n     As per the Kuwait Labour Law (2010), any non-compliance to \\nthe above attendance policy shall be subject to disciplinary action.\\nEMPLOYEE HANDBOOK 23'),\n",
       " Document(metadata={'producer': 'PDFKit.NET 4.0.87.0', 'creator': 'Adobe InDesign CC 2017 (Macintosh)', 'creationdate': 'D:20171022233423', 'subject': '', 'author': '', 'keywords': '', 'moddate': 'D:20171109104825', 'title': '', 'source': '../Mazaya Handbook Eng.copy.pdf', 'total_pages': 42, 'page': 25, 'page_label': '26', 'start_index': 0, '_id': '393f10ecebe244048a308e658ae11bf2', '_collection_name': 'demo_collection'}, page_content='VI. WORKING HOURS AND ATTENDANCE \\nPOLICY\\nPermissions:\\n     Employees can apply for permissions to pursue their personal \\nmatters during the normal working hours. The employee’s line \\nmanager reserves the right to either reject or approve each \\npermission.\\n    Any permission request shall be applied for through the HR \\nSystem. Failing to do so is considered as late-in or early-out \\nwithout permission. \\n       All permission requests will be monitored by the HR & Admin \\nDepartment for analysis purposes.\\nTime Keeping and Finger Print:\\nAl Mazaya uses a finger print system that captures the employees’ \\nattendance. It is mandatory for all employees to use the finger \\nprint machine to record the entry and exit time. Not using the \\npunching machine shall be subject to disciplinary action as \\ndetailed in the HR & Admin Manual. \\nFor further information and details, it is recommended to refer \\nto the full Attendance policy in the HR & Administration Manual.\\nEMPLOYEE HANDBOOK24'),\n",
       " Document(metadata={'producer': 'PDFKit.NET 4.0.87.0', 'creator': 'Adobe InDesign CC 2017 (Macintosh)', 'creationdate': 'D:20171022233423', 'subject': '', 'author': '', 'keywords': '', 'moddate': 'D:20171109104825', 'title': '', 'source': '../Mazaya Handbook Eng.copy.pdf', 'total_pages': 42, 'page': 27, 'page_label': '28', 'start_index': 0, '_id': '9a828903c7c141729f51b5d03adb0fde', '_collection_name': 'demo_collection'}, page_content='VII. LEAVE\\nEMPLOYEE HANDBOOK26\\nAnnual leave:\\n    Employees are entitled for 30 paid days as annual leave \\nbased on Kuwait Labour Law (2010). The employee should \\ndiscuss his / her leave plan with his / her line manager and \\nthe line manager reserves the right to reject any leave request \\nbased on business needs.\\n      Leave requests should be submitted only via the HR System.\\n      An employee who wishes to receive leave salary in advance \\nshould apply for his/her leave minimum one month prior to his/\\nher travel / leave day in order to allow the HR & Administration \\ndepartment to process the payment. \\n      Employees shall be eligible to accumulate annual leave for \\nup to a maximum of 70 days, after which the employee shall be \\nobligated to utilize his/ her annual leave, with prior approval, \\nor otherwise forfeit such excess leave.\\nSick leave:\\nIn accordance with Kuwait Labour Law (2010), an employee who \\ncannot perform work responsibilities due to sickness shall be'),\n",
       " Document(metadata={'producer': 'PDFKit.NET 4.0.87.0', 'creator': 'Adobe InDesign CC 2017 (Macintosh)', 'creationdate': 'D:20171022233423', 'subject': '', 'author': '', 'keywords': '', 'moddate': 'D:20171109104825', 'title': '', 'source': '../Mazaya Handbook Eng.copy.pdf', 'total_pages': 42, 'page': 27, 'page_label': '28', 'start_index': 804, '_id': '1c805676001c482f8d6dafca42adf50e', '_collection_name': 'demo_collection'}, page_content='or otherwise forfeit such excess leave.\\nSick leave:\\nIn accordance with Kuwait Labour Law (2010), an employee who \\ncannot perform work responsibilities due to sickness shall be \\ngranted sick leave as follows: \\nSick Days (Calendar Days) Corresponding Pay\\nFirst 15 Days Full salary\\nNext 10 days 75% of salary\\nNext 10 days 50% of salary\\nNext 10 days 25% of salary\\nNext 30 days Without pay'),\n",
       " Document(metadata={'producer': 'PDFKit.NET 4.0.87.0', 'creator': 'Adobe InDesign CC 2017 (Macintosh)', 'creationdate': 'D:20171022233423', 'subject': '', 'author': '', 'keywords': '', 'moddate': 'D:20171109104825', 'title': '', 'source': '../Mazaya Handbook Eng.copy.pdf', 'total_pages': 42, 'page': 28, 'page_label': '29', 'start_index': 0, '_id': '452c3536af394af8867533ce3cb95a51', '_collection_name': 'demo_collection'}, page_content='VII. LEAVE\\n     Employees are requested to inform their line manager that \\nthey cannot report to work due to sickness.\\n     After resumption date, employees should submit their sick \\nleave on the HR System. If the sick leave is only for 2 consecutive \\ndays, then a medical report is not required as long as a written \\napproval from the employee’s line manager is provided. If the \\nsick leave is for more than 2 consecutive days, then the employee \\nhas to provide a medical report and submit it along with sick \\nleave application. \\nCompassionate leave: \\n      In case of demise of 1st and 2nd degree relative, Al Mazaya \\nshall grant 3 calendar days paid leave in the event of demise of \\nlocally resident family member. In return, the employee must \\nsubmit the related document upon request.\\n      In case of demise outside Kuwait (non-resident family \\nmember), Al Mazaya shall grant 7 calendar days paid \\nleave.\\n    In case of husband demise of a Muslim female employee,'),\n",
       " Document(metadata={'producer': 'PDFKit.NET 4.0.87.0', 'creator': 'Adobe InDesign CC 2017 (Macintosh)', 'creationdate': 'D:20171022233423', 'subject': '', 'author': '', 'keywords': '', 'moddate': 'D:20171109104825', 'title': '', 'source': '../Mazaya Handbook Eng.copy.pdf', 'total_pages': 42, 'page': 28, 'page_label': '29', 'start_index': 796, '_id': '4c8be7d28a1141b6991ac96d9a537768', '_collection_name': 'demo_collection'}, page_content='In case of demise outside Kuwait (non-resident family \\nmember), Al Mazaya shall grant 7 calendar days paid \\nleave.\\n    In case of husband demise of a Muslim female employee, \\nAl Mazaya shall grant four calendar months and 10 calendar \\ndays as paid leave, which is considered as “Ouda” as per Kuwait \\nLabour law (2010). In case of husband demise of a Non-Muslim \\nfemale employee, the employee will be granted a 21 calendar \\ndays as paid leave.\\nEMPLOYEE HANDBOOK 27'),\n",
       " Document(metadata={'producer': 'PDFKit.NET 4.0.87.0', 'creator': 'Adobe InDesign CC 2017 (Macintosh)', 'creationdate': 'D:20171022233423', 'subject': '', 'author': '', 'keywords': '', 'moddate': 'D:20171109104825', 'title': '', 'source': '../Mazaya Handbook Eng.copy.pdf', 'total_pages': 42, 'page': 29, 'page_label': '30', 'start_index': 0, '_id': '6f72b7c3d0154e2ba116a1c067ef65cc', '_collection_name': 'demo_collection'}, page_content='“THERE IS A VIRTUE \\nIN WORK AND \\nTHERE IS A VIRTUE\\nIN REST, USE BOTH\\nAND OVER LOOK\\nNEITHER ”\\nALAN COHEN'),\n",
       " Document(metadata={'producer': 'PDFKit.NET 4.0.87.0', 'creator': 'Adobe InDesign CC 2017 (Macintosh)', 'creationdate': 'D:20171022233423', 'subject': '', 'author': '', 'keywords': '', 'moddate': 'D:20171109104825', 'title': '', 'source': '../Mazaya Handbook Eng.copy.pdf', 'total_pages': 42, 'page': 30, 'page_label': '31', 'start_index': 0, '_id': '004abb94a2ff40d38cd189356e9312a3', '_collection_name': 'demo_collection'}, page_content='VII. LEAVE\\nHajj leave: \\nMuslim employee is entitled for paid vacation of 21 calendar \\ndays to perform Hajj only if the employee has not performed \\nHajj before. The employee shall obtain this vacation only once \\nduring term of employment with the Company on condition \\nthat he/ she has served the Company for at least 2 years.\\nUnpaid leave:\\nEmployee can take unpaid leave days up to 3 calendar months \\nwith approval from the department head, HR department and \\nthe Group CEO. The unpaid leave days shall have an effect on \\nthe employee’s end of service indemnity calculation.\\nCasual / Emergency leave:\\n      Casual / Emergency leave is a complimentary leave, provided to \\nthe employee by the management based on special circumstances.\\n       A total of 4 paid days per year might be given to the employee \\nas casual / emergency leave which shall be approved by line \\nmanager and the HR department.\\n       Casual / Emergency leave cannot be accumulated or carried'),\n",
       " Document(metadata={'producer': 'PDFKit.NET 4.0.87.0', 'creator': 'Adobe InDesign CC 2017 (Macintosh)', 'creationdate': 'D:20171022233423', 'subject': '', 'author': '', 'keywords': '', 'moddate': 'D:20171109104825', 'title': '', 'source': '../Mazaya Handbook Eng.copy.pdf', 'total_pages': 42, 'page': 30, 'page_label': '31', 'start_index': 805, '_id': 'fb8230fd7c2a4bb7a667dfcfecaf42d4', '_collection_name': 'demo_collection'}, page_content='as casual / emergency leave which shall be approved by line \\nmanager and the HR department.\\n       Casual / Emergency leave cannot be accumulated or carried \\nto next year, cannot be exchanged for money or added to the \\nemployee’s annual leave balance.\\nEMPLOYEE HANDBOOK 29'),\n",
       " Document(metadata={'producer': 'PDFKit.NET 4.0.87.0', 'creator': 'Adobe InDesign CC 2017 (Macintosh)', 'creationdate': 'D:20171022233423', 'subject': '', 'author': '', 'keywords': '', 'moddate': 'D:20171109104825', 'title': '', 'source': '../Mazaya Handbook Eng.copy.pdf', 'total_pages': 42, 'page': 31, 'page_label': '32', 'start_index': 0, '_id': 'da3364b0fe664cae94b94fc50b7e32ac', '_collection_name': 'demo_collection'}, page_content='Maternity & Paternity leave: \\n       The female employee is entitled for a maternity leave of 70 \\npaid calendar days as per Kuwait labour law (2010), provided \\nthat she gives birth within this period.\\n   On the other hand, Al Mazaya complimentary offers a \\npaternity leave of 3 paid calendar days for any male employee \\nwho has been blessed with a new child.\\nStudy leave:\\n       Any employee who has enrolled in MBA / higher education \\nor professional certificate/qualification program is eligible to \\ntake 2 days paid as a study leave, 1 day before the exam and \\nthe exam day.\\n     The maximum number of study leave days is capped by 6 \\ndays per year.\\n    This leave is a complimentary leave, and the employee is \\nrequired to attain his / her line manager approval prior to availing \\nthis leave. \\nPublic holidays: \\nOfficial holidays shall be as per the holidays declared by the \\nGovernment of Kuwait every year, or such other holidays as the \\nCompany may allow.'),\n",
       " Document(metadata={'producer': 'PDFKit.NET 4.0.87.0', 'creator': 'Adobe InDesign CC 2017 (Macintosh)', 'creationdate': 'D:20171022233423', 'subject': '', 'author': '', 'keywords': '', 'moddate': 'D:20171109104825', 'title': '', 'source': '../Mazaya Handbook Eng.copy.pdf', 'total_pages': 42, 'page': 31, 'page_label': '32', 'start_index': 785, '_id': 'acb601cf5bb04422b10eb06001ed3f09', '_collection_name': 'demo_collection'}, page_content='this leave. \\nPublic holidays: \\nOfficial holidays shall be as per the holidays declared by the \\nGovernment of Kuwait every year, or such other holidays as the \\nCompany may allow. \\nAs a general policy statement, it is not permitted to link \\ndifferent types of leaves together unless line manager approval \\nis attained.\\nFor further information and details, it is recommended to \\nrefer to the Leave policy in the HR & Administration Manual.\\nEMPLOYEE HANDBOOK30\\nVII. LEAVE'),\n",
       " Document(metadata={'producer': 'PDFKit.NET 4.0.87.0', 'creator': 'Adobe InDesign CC 2017 (Macintosh)', 'creationdate': 'D:20171022233423', 'subject': '', 'author': '', 'keywords': '', 'moddate': 'D:20171109104825', 'title': '', 'source': '../Mazaya Handbook Eng.copy.pdf', 'total_pages': 42, 'page': 32, 'page_label': '33', 'start_index': 0, '_id': 'a764701e20c64800bde21de06887fedb', '_collection_name': 'demo_collection'}, page_content='“PRODUCTIVITY\\nIS NEVER \\nAN ACCIDENT.\\nIT IS ALWAYS \\nTHE RESULT OF \\nCOMMITMENT\\nTO EXCELLENCE\\nINTELLIGENT \\nPLANNING \\n&  FOCUSED \\nEFFORT”\\nPAUL MEYER'),\n",
       " Document(metadata={'producer': 'PDFKit.NET 4.0.87.0', 'creator': 'Adobe InDesign CC 2017 (Macintosh)', 'creationdate': 'D:20171022233423', 'subject': '', 'author': '', 'keywords': '', 'moddate': 'D:20171109104825', 'title': '', 'source': '../Mazaya Handbook Eng.copy.pdf', 'total_pages': 42, 'page': 33, 'page_label': '34', 'start_index': 0, '_id': '07aece28442140a6b40b5a3bcab8e507', '_collection_name': 'demo_collection'}, page_content='VIII. GRADING STRUCTURE\\nAl Mazaya has designed a well-defined grading structure as a \\nresult of an extensive job evaluation process to ensure that the \\nemployees’ grades & levels are a true reflection of their roles and \\nresponsibilities, designations and positions within the company.\\nThe following is Al Mazaya Grading Structure:\\nJob Family Level Grade\\nCXO\\nSENIOR \\nMANAGEMENT\\n12\\nCXO 11\\nDirector 10\\nAssociate Director 9\\nSenior Manager\\nMIDDLE \\nMANAGEMENT\\n8\\nManager 7\\nAssistant Manager 6\\nSenior Specialist\\nPROFESSIONAL\\n5\\nSpecialist 4\\nSenior Officer\\nSKILLED\\n3\\nOfficer 2\\nCoordinator 1\\nEMPLOYEE HANDBOOK32'),\n",
       " Document(metadata={'producer': 'PDFKit.NET 4.0.87.0', 'creator': 'Adobe InDesign CC 2017 (Macintosh)', 'creationdate': 'D:20171022233423', 'subject': '', 'author': '', 'keywords': '', 'moddate': 'D:20171109104825', 'title': '', 'source': '../Mazaya Handbook Eng.copy.pdf', 'total_pages': 42, 'page': 34, 'page_label': '35', 'start_index': 0, '_id': 'd803caa510f747e9b4b16f6727b2621b', '_collection_name': 'demo_collection'}, page_content='“WE RISE\\nBY LIFTING \\nOTHERS ”'),\n",
       " Document(metadata={'producer': 'PDFKit.NET 4.0.87.0', 'creator': 'Adobe InDesign CC 2017 (Macintosh)', 'creationdate': 'D:20171022233423', 'subject': '', 'author': '', 'keywords': '', 'moddate': 'D:20171109104825', 'title': '', 'source': '../Mazaya Handbook Eng.copy.pdf', 'total_pages': 42, 'page': 35, 'page_label': '36', 'start_index': 0, '_id': 'aaf2d20c4caa4d4583f5fe00be8cf84f', '_collection_name': 'demo_collection'}, page_content='IX. EMPLOYEE BENEFITS\\nHealth Insurance:\\n     All Mazaya employees are entitled to receive private health \\ninsurance coverage based on the benefits related to their grade \\n(Self only / Self + Family). Al Mazaya shall annually review and \\nassess the insurance services and always check if there are better \\ncompetitive offers in the market. Health insurance is provided to \\nallow the employees to get premium medical treatment for any \\nmedical issue.\\n     In return, the employee is expected to use such services in \\nreasonable way. In addition, employees are welcome to include \\ntheir family into our health insurance programs at their own cost.\\nLife Insurance:\\nAll employees of Al Mazaya are covered by life & work related \\ninjuries insurance policy as per Kuwait Labour law (2010). \\nEMPLOYEE HANDBOOK34'),\n",
       " Document(metadata={'producer': 'PDFKit.NET 4.0.87.0', 'creator': 'Adobe InDesign CC 2017 (Macintosh)', 'creationdate': 'D:20171022233423', 'subject': '', 'author': '', 'keywords': '', 'moddate': 'D:20171109104825', 'title': '', 'source': '../Mazaya Handbook Eng.copy.pdf', 'total_pages': 42, 'page': 37, 'page_label': '38', 'start_index': 0, '_id': '3d44000857a54c629940f54ca564759f', '_collection_name': 'demo_collection'}, page_content='IX. EMPLOYEE BENEFITS\\nMobile:\\n     Mobile services packages are also one of the benefits that Al \\nMazaya offers to its employees. Each employee has a different \\npackage in terms of local & international calls, bill cap and data \\nline usage based on the employee’s grade.\\n    The employee is expected to use the mobile service in a \\nreasonable way and within the limit of each package provided to \\nhim/her. Any over usage of the services shall be directly deducted \\nfrom the employee’s monthly salary, unless it is justifiable.\\n    The employees are welcome to add their family members’ \\npersonal lines under Al Mazaya umbrella. All the due amounts \\nwill be directly deducted from the employee’s monthly salary. \\nPersonal Loan:\\nAl Mazaya offers interest-free personal loans to its employees \\nas a mean of financial assistance. All loans requests will be \\nreviewed by the HR & Administration Department for eligibility \\nrequirements and are subject to the Group CEO approval.\\nAnnual Air Ticket:'),\n",
       " Document(metadata={'producer': 'PDFKit.NET 4.0.87.0', 'creator': 'Adobe InDesign CC 2017 (Macintosh)', 'creationdate': 'D:20171022233423', 'subject': '', 'author': '', 'keywords': '', 'moddate': 'D:20171109104825', 'title': '', 'source': '../Mazaya Handbook Eng.copy.pdf', 'total_pages': 42, 'page': 37, 'page_label': '38', 'start_index': 854, '_id': 'a1a2d0c67777475ea1ede40303405f54', '_collection_name': 'demo_collection'}, page_content='reviewed by the HR & Administration Department for eligibility \\nrequirements and are subject to the Group CEO approval.\\nAnnual Air Ticket:\\nAll employees are entitled to receive an annual air ticket allowance \\nand shall have a fixed amount paid to them based on their current \\ngrade & level (Self only / Self + Family). The allowance shall be \\npaid on two dates subject to eligibility:\\n     *     Date 1: 1st July, for those employees who have been with Al \\n          Mazaya before January of the same year.\\n     *    Date 2: 15th December, for those employees joining Al     \\n          Mazaya between January and November of the same year,  \\n           the annual ticket allowance shall be calculated on prorated \\n          basis.\\nEMPLOYEE HANDBOOK36'),\n",
       " Document(metadata={'producer': 'PDFKit.NET 4.0.87.0', 'creator': 'Adobe InDesign CC 2017 (Macintosh)', 'creationdate': 'D:20171022233423', 'subject': '', 'author': '', 'keywords': '', 'moddate': 'D:20171109104825', 'title': '', 'source': '../Mazaya Handbook Eng.copy.pdf', 'total_pages': 42, 'page': 38, 'page_label': '39', 'start_index': 0, '_id': '8df79adec2ec4203a4a1513f47f865e3', '_collection_name': 'demo_collection'}, page_content='IX. EMPLOYEE BENEFITS\\n X. PAYROLL\\nEducation Assistance:\\n     Eligible employees are entitled to receive child education \\nassistance based on their grade and level. \\n    Al Mazaya management encourages its staff to continue \\ntheir higher education or to attain professional certification/\\nqualification in their field. With the special education support \\nprograms, employees at Al Mazaya can avail a financial \\nsupport to carry on his / her higher education and professional \\ncertification/qualification programs. All programs are subject \\nto approval by the Group CEO.\\nFor further information and details, it is recommended to \\nrefer to the Compensation and Benefits Section in the HR & \\nAdministration Manual.\\n         The Company shall pay its employees on regularly scheduled \\npoints in time. Salaries shall be paid on the 26th of each month. \\nIf such a date coincides with a public holiday or falls at the end \\nof the week, salaries shall be paid on the previous working day.'),\n",
       " Document(metadata={'producer': 'PDFKit.NET 4.0.87.0', 'creator': 'Adobe InDesign CC 2017 (Macintosh)', 'creationdate': 'D:20171022233423', 'subject': '', 'author': '', 'keywords': '', 'moddate': 'D:20171109104825', 'title': '', 'source': '../Mazaya Handbook Eng.copy.pdf', 'total_pages': 42, 'page': 38, 'page_label': '39', 'start_index': 780, '_id': '0a4d6e2fb6f04250be15686fa5a5e49c', '_collection_name': 'demo_collection'}, page_content='points in time. Salaries shall be paid on the 26th of each month. \\nIf such a date coincides with a public holiday or falls at the end \\nof the week, salaries shall be paid on the previous working day.\\n      All employees should have a valid bank account and IBAN \\ncode.\\nEMPLOYEE HANDBOOK 37'),\n",
       " Document(metadata={'producer': 'PDFKit.NET 4.0.87.0', 'creator': 'Adobe InDesign CC 2017 (Macintosh)', 'creationdate': 'D:20171022233423', 'subject': '', 'author': '', 'keywords': '', 'moddate': 'D:20171109104825', 'title': '', 'source': '../Mazaya Handbook Eng.copy.pdf', 'total_pages': 42, 'page': 39, 'page_label': '40', 'start_index': 0, '_id': '54e8dd3501fd4b29a142adcde21517c5', '_collection_name': 'demo_collection'}, page_content='XI. REWARD & RECOGNITION\\nAl Mazaya reward philosophy is to be a key talent attractor \\ncompany in the market in terms of retaining the key performers \\nand attracting new talents. Our reward structure (Salary Structure \\nand Benefits programs) is carefully designed and benchmarked \\nagainst the top-notch peer companies to ensure that Al Mazaya \\nstays competitive in the job market and maintains highest level \\nof employees’ satisfaction. \\n     Rewards:\\n       *    Al Mazaya has a unique bonus system. Bonuses are \\n          linked to the employee’s level and grade and to his / \\n          her annual performance appraisal results and overall \\n          company performance.\\n    Key Performance Indicators (KPIs):\\n       *    Each employee shall receive the approved KPIs at the \\n          beginning of the year which are designed based \\n          on his / her roles and responsibilities and are aligned \\n          with the department’s targets and overall Mazaya \\n          corporate objectives.'),\n",
       " Document(metadata={'producer': 'PDFKit.NET 4.0.87.0', 'creator': 'Adobe InDesign CC 2017 (Macintosh)', 'creationdate': 'D:20171022233423', 'subject': '', 'author': '', 'keywords': '', 'moddate': 'D:20171109104825', 'title': '', 'source': '../Mazaya Handbook Eng.copy.pdf', 'total_pages': 42, 'page': 39, 'page_label': '40', 'start_index': 846, '_id': '57f0ced2c6ec41bfa9180bd813c76231', '_collection_name': 'demo_collection'}, page_content='on his / her roles and responsibilities and are aligned \\n          with the department’s targets and overall Mazaya \\n          corporate objectives.\\n     Performance Appraisal:\\n       *    Al Mazaya implements a dynamic performance     \\n          management system to ensure that our internal culture is \\n          a performance driven culture. \\n       *    The performance appraisal exercise is conducted twice  \\n          a year (annual and semi-annual) and includes the \\n          following appraisal parameters: self-appraisal, line \\n          manager feedback based on the predefined KPIs,\\n          performance standards and attendance.\\nEMPLOYEE HANDBOOK38'),\n",
       " Document(metadata={'producer': 'PDFKit.NET 4.0.87.0', 'creator': 'Adobe InDesign CC 2017 (Macintosh)', 'creationdate': 'D:20171022233423', 'subject': '', 'author': '', 'keywords': '', 'moddate': 'D:20171109104825', 'title': '', 'source': '../Mazaya Handbook Eng.copy.pdf', 'total_pages': 42, 'page': 41, 'page_label': '42', 'start_index': 0, '_id': 'b0cb18e3ea6e4898b66c2fd77f89037c', '_collection_name': 'demo_collection'}, page_content='EMPLOYEE HANDBOOK40\\nXII. TRAINING AND DEVELOPMENT\\nXIII. BUSINESS TRAVEL\\nXIV. END OF SERVICES CALCULATION\\n     Al Mazaya always believes in the individual’s development \\nand offers training and learning opportunities to its staff based \\non the development plan and the feedback from line managers.\\n      Employees are welcome to suggest any training courses they \\nbelieve are important and can add value to them and to the \\ncompany. \\n    Al Mazaya may ask some employees to carry on an assignment \\noutside Kuwait or their current location. All business trips should be \\napproved by the line manager, HR & Admin Department and the \\nGroup CEO. \\n      Al Mazaya shall provide and pay the accommodation, ticket, visa \\nfees and airport tax (where applicable), transport expenses to and from \\nthe airport, in addition to the daily per diem allowance during the trip. \\nAn employee shall be entitled for an end of service indemnity \\ncommensurate to his / her period of service in Al Mazaya calculated'),\n",
       " Document(metadata={'producer': 'PDFKit.NET 4.0.87.0', 'creator': 'Adobe InDesign CC 2017 (Macintosh)', 'creationdate': 'D:20171022233423', 'subject': '', 'author': '', 'keywords': '', 'moddate': 'D:20171109104825', 'title': '', 'source': '../Mazaya Handbook Eng.copy.pdf', 'total_pages': 42, 'page': 41, 'page_label': '42', 'start_index': 861, '_id': 'b5766e21694f42a2b0a2406c41eeca17', '_collection_name': 'demo_collection'}, page_content='An employee shall be entitled for an end of service indemnity \\ncommensurate to his / her period of service in Al Mazaya calculated \\nas per Kuwait Labour Law (2010).')]"
      ]
     },
     "execution_count": 80,
     "metadata": {},
     "output_type": "execute_result"
    }
   ],
   "source": [
    "test"
   ]
  },
  {
   "cell_type": "markdown",
   "metadata": {},
   "source": [
    "### **2. Retrieval and Generation**\n",
    "\n",
    "Now let’s write the actual application logic. We want to create a simple application that takes a user question, searches for documents relevant to that question, passes the retrieved documents and initial question to a model, and returns an answer.\n",
    "\n",
    "For generation, we will use the chat model selected at the start of the tutorial.\n",
    "\n",
    "We’ll use a prompt for RAG that is checked into the LangChain prompt hub (here)."
   ]
  },
  {
   "cell_type": "markdown",
   "metadata": {},
   "source": [
    "safely ignore the warning unless you need to use LangSmith features like:\n",
    "\n",
    "* Tracing & debugging (langsmith.trace).\n",
    "* Custom hosted prompts.\n",
    "* Evaluation tools."
   ]
  },
  {
   "cell_type": "code",
   "execution_count": 25,
   "metadata": {},
   "outputs": [
    {
     "name": "stderr",
     "output_type": "stream",
     "text": [
      "c:\\Users\\PC\\llm_tut\\venv\\Lib\\site-packages\\langsmith\\client.py:253: LangSmithMissingAPIKeyWarning: API key must be provided when using hosted LangSmith API\n",
      "  warnings.warn(\n"
     ]
    },
    {
     "name": "stdout",
     "output_type": "stream",
     "text": [
      "You are an assistant for question-answering tasks. Use the following pieces of retrieved context to answer the question. If you don't know the answer, just say that you don't know. Use three sentences maximum and keep the answer concise.\n",
      "Question: (question goes here) \n",
      "Context: (context goes here) \n",
      "Answer:\n"
     ]
    }
   ],
   "source": [
    "from langchain import hub\n",
    "\n",
    "prompt = hub.pull(\"rlm/rag-prompt\")\n",
    "\n",
    "example_messages = prompt.invoke(\n",
    "    {\"context\": \"(context goes here)\", \"question\": \"(question goes here)\"}\n",
    ").to_messages()\n",
    "\n",
    "assert len(example_messages) == 1\n",
    "print(example_messages[0].content)"
   ]
  },
  {
   "cell_type": "markdown",
   "metadata": {},
   "source": [
    "#### **Langgraph**\n",
    "\n",
    "We'll use [LangGraph](https://langchain-ai.github.io/langgraph/) to tie together the retrieval and generation steps into a single application. This will bring a number of benefits:\n",
    "\n",
    "* We can define our application logic once and automatically support multiple invocation modes, including streaming, async, and batched calls.\n",
    "* We get streamlined deployments via LangGraph Platform.\n",
    "* LangSmith will automatically trace the steps of our application together.\n",
    "* We can easily add key features to our application, including persistence and human-in-the-loop approval, with minimal code changes.\n",
    "\n",
    "To use LangGraph, we need to define three things:\n",
    "\n",
    "1. The state of our application;\n",
    "2. The nodes of our application (i.e., application steps);\n",
    "3. The \"control flow\" of our application (e.g., the ordering of the steps)."
   ]
  },
  {
   "cell_type": "markdown",
   "metadata": {},
   "source": [
    "##### **State:**\n",
    "\n",
    "The state of our application controls what data is input to the application, transferred between steps, and output by the application. It is typically a ```TypedDict```, but can also be a Pydantic BaseModel.\n",
    "\n",
    "For a simple RAG application, we can just keep track of the input question, retrieved context, and generated answer:"
   ]
  },
  {
   "cell_type": "code",
   "execution_count": 31,
   "metadata": {},
   "outputs": [],
   "source": [
    "from langchain_core.documents import Document\n",
    "from typing_extensions import List, TypedDict\n",
    "\n",
    "\n",
    "class State(TypedDict):\n",
    "    question: str\n",
    "    context: List[Document]\n",
    "    answer: str"
   ]
  },
  {
   "cell_type": "markdown",
   "metadata": {},
   "source": [
    "##### **Nodes (application steps)**\n",
    "\n",
    "Let's start with a simple sequence of two steps: retrieval and generation."
   ]
  },
  {
   "cell_type": "code",
   "execution_count": 32,
   "metadata": {},
   "outputs": [],
   "source": [
    "def retrieve(state: State):\n",
    "    retrieved_docs = vector_store.similarity_search(state[\"question\"])\n",
    "    return {\"context\": retrieved_docs}\n",
    "\n",
    "\n",
    "# def retrieve(state: State):\n",
    "#     retrieved_docs = retriever.invoke(state[\"question\"])\n",
    "#     return {\"context\": retrieved_docs}\n",
    "\n",
    "\n",
    "def generate(state: State):\n",
    "    docs_content = \"\\n\\n\".join(doc.page_content for doc in state[\"context\"])\n",
    "    messages = prompt.invoke({\"question\": state[\"question\"], \"context\": docs_content})\n",
    "    response = llm.invoke(messages)\n",
    "    return {\"answer\": response.content}"
   ]
  },
  {
   "cell_type": "markdown",
   "metadata": {},
   "source": [
    "Our retrieval step simply runs a similarity search using the input question, and the generation step formats the retrieved context and original question into a prompt for the chat model."
   ]
  },
  {
   "cell_type": "markdown",
   "metadata": {},
   "source": [
    "##### **Control flow**\n",
    "\n",
    "Finally, we compile our application into a single ```graph``` object. In this case, we are just connecting the retrieval and generation steps into a single sequence."
   ]
  },
  {
   "cell_type": "code",
   "execution_count": 33,
   "metadata": {},
   "outputs": [],
   "source": [
    "from langgraph.graph import START, StateGraph\n",
    "\n",
    "graph_builder = StateGraph(State).add_sequence([retrieve, generate])\n",
    "graph_builder.add_edge(START, \"retrieve\")\n",
    "graph = graph_builder.compile()"
   ]
  },
  {
   "cell_type": "code",
   "execution_count": 17,
   "metadata": {},
   "outputs": [
    {
     "data": {
      "image/png": "[encoded data removed]",
      "text/plain": [
       "<IPython.core.display.Image object>"
      ]
     },
     "metadata": {},
     "output_type": "display_data"
    }
   ],
   "source": [
    "from IPython.display import Image, display\n",
    "\n",
    "display(Image(graph.get_graph().draw_mermaid_png()))"
   ]
  },
  {
   "cell_type": "markdown",
   "metadata": {},
   "source": [
    "LangGraph is not required to build a RAG application. Indeed, we can implement the same application logic through invocations of the individual components:\n",
    "\n",
    "```py\n",
    "question = \"...\"\n",
    "\n",
    "retrieved_docs = vector_store.similarity_search(question)\n",
    "docs_content = \"\\n\\n\".join(doc.page_content for doc in retrieved_docs)\n",
    "prompt = prompt.invoke({\"question\": question, \"context\": docs_content})\n",
    "answer = llm.invoke(prompt)\n",
    "```\n",
    "\n",
    "The benefits of LangGraph include:\n",
    "\n",
    "* Support for multiple invocation modes: this logic would need to be rewritten if we wanted to stream output tokens, or stream the results of individual steps;\n",
    "* Automatic support for tracing via LangSmith and deployments via LangGraph Platform;\n",
    "* Support for persistence, human-in-the-loop, and other features.\n",
    "\n",
    "Many use-cases demand RAG in a conversational experience, such that a user can receive context-informed answers via a stateful conversation. As we will see in Part 2 of the tutorial, LangGraph's management and persistence of state simplifies these applications enormously."
   ]
  },
  {
   "cell_type": "markdown",
   "metadata": {},
   "source": [
    "#### **Usage**\n",
    "\n",
    "Let's test our application! LangGraph supports multiple invocation modes, including sync, async, and streaming."
   ]
  },
  {
   "cell_type": "markdown",
   "metadata": {},
   "source": [
    "##### **Invoke:**"
   ]
  },
  {
   "cell_type": "code",
   "execution_count": 34,
   "metadata": {},
   "outputs": [
    {
     "name": "stdout",
     "output_type": "stream",
     "text": [
      "Context: [Document(id='cfdd9280-a3e3-4132-817b-fa2a58b9f382', metadata={'author': 'Steven Overby', 'creationdate': '2021-07-20T13:27:27-04:00', 'creator': 'Microsoft® Word 2019', 'moddate': '2021-07-20T13:27:27-04:00', 'page': 21, 'page_label': '22', 'producer': 'Microsoft® Word 2019', 'source': '../mcdHandbook.pdf', 'start_index': 0, 'total_pages': 40}, page_content='22 Updated July, 2021  \\nA&A Management/ Goodwin Partners  d/b/a McDonald’s \\n  \\ngrey; no pink, purple, blue, vivid orange, vivid reds, etc.) Hats are the only acceptable \\nheadgear. The appropriate McDonald’s hat – visor must be worn. \\n6. Pants must be worn around the waist. \\n7. Solid Black (no stripes, lines, other colors), rubber soled non-slip is the only appropriate \\nfootwear. No tennis shoes or other type of athletic footwear – shoes must be low-heeled, \\ncomfortable and polish able. \\n8. Men: The only permissible facial hair will be trimmed mustache and/or short/small \\ngoatee that is neatly groomed and/or beard that is small and neatly groomed. The goatee \\nand/or beard can be no longer than 1/8 inch long, must be neat and clean. A \\nmustache should be short and neatly trimmed. One stud is permitted in each ear. No face, \\nvisible body jewelry is to be worn (i.e., no tongue rings). No grilles or detachable gold \\nteeth are permitted. Please limit rings to one per hand.'), Document(id='bd538dfe-d8ee-407b-b839-fdde6f5a90cc', metadata={'author': 'Steven Overby', 'creationdate': '2021-07-20T13:27:27-04:00', 'creator': 'Microsoft® Word 2019', 'moddate': '2021-07-20T13:27:27-04:00', 'page': 20, 'page_label': '21', 'producer': 'Microsoft® Word 2019', 'source': '../mcdHandbook.pdf', 'start_index': 2353, 'total_pages': 40}, page_content='children’s fundraisers.) \\n15. Any regulation not covered in this handbook is at the sole discretion of the \\nmanagement team and should be adhered to as such. \\n \\nUNIFORM/DRESS POLICY \\n \\n1. You are expected to practice good personal hygiene (i.e. daily shower or bath, clean hair \\n& fingernails, no excessive perfume/cologne). \\n2. Uniforms are your responsibility. You must come to work in a clean, neat, pressed shirt \\nand pants and wearing your hat. Hats are not to be worn sideways or backwards. \\n3. No alterations are to be done to pants or shirts. Hemming is all that is allowed. \\n4. Belts, hats and nametags are part of the uniform and must be worn. \\n5. Hair must be clean and neatly combed and pulled back off of shoulders. Hair color \\nmust reflect a business-professional appearance – one natural color only (black, \\nbrown, blonde, red,'), Document(id='9c9670e0-fe70-4d66-8774-f5e377f466ac', metadata={'author': 'Steven Overby', 'creationdate': '2021-07-20T13:27:27-04:00', 'creator': 'Microsoft® Word 2019', 'moddate': '2021-07-20T13:27:27-04:00', 'page': 21, 'page_label': '22', 'producer': 'Microsoft® Word 2019', 'source': '../mcdHandbook.pdf', 'start_index': 834, 'total_pages': 40}, page_content='visible body jewelry is to be worn (i.e., no tongue rings). No grilles or detachable gold \\nteeth are permitted. Please limit rings to one per hand. \\n9. Women: Use of makeup and jewelry should reflect a business professional appearance. \\nSmall, unobtrusive earrings (no hoops larger than a quarter). No face, nose, body or tongue \\nrings are permitted. Nail polish may be worn, but it must be natural colors (no black). \\nNails must be no more than 1/4 inch past the fingertip and no chipped polish. No nail \\njewelry for safety reasons. No grilles or detachable gold teeth are permitted. Please limit \\nrings to no more than 2 per hand. \\n10. All employees must report for work in full uniform. Uniform caps must be clean, wrinkle \\nfree and in good repair. Ties and bows must be clean and wrinkle free. Tie must be \\nsecured to the top of the uniform and top buttons buttoned.  Nametag worn. \\n11. White, plain undershirts may be worn. Females and males must wear their appropriate'), Document(id='ba147f8f-d66f-4da1-ba27-55809d89d814', metadata={'author': 'Steven Overby', 'creationdate': '2021-07-20T13:27:27-04:00', 'creator': 'Microsoft® Word 2019', 'moddate': '2021-07-20T13:27:27-04:00', 'page': 21, 'page_label': '22', 'producer': 'Microsoft® Word 2019', 'source': '../mcdHandbook.pdf', 'start_index': 1645, 'total_pages': 40}, page_content='secured to the top of the uniform and top buttons buttoned.  Nametag worn. \\n11. White, plain undershirts may be worn. Females and males must wear their appropriate \\nundergarments under their uniforms at all times. \\n12. No visible tattoos larger than half dollar and must be in good taste (based on the judgement \\nof the company leadership) for either male or female employees. Not more than 2 of \\nthese size tattoos. All other tattoos must be covered including any that may be viewed as \\nnot in good taste or offensive. \\n13. Only McDonald’s attire may be worn during scheduled shifts. This includes meetings, \\nrallies, etc. No pagers, beepers or cell phones may be worn while on duty. \\n14. Only McDonald’s jackets or your own black (solid color) jacket may be worn when \\nworking. If you would like, you may purchase a McDonald’s jacket for your personal use. \\n15. If you wear your uniform to work, you must be in full uniform from the time you enter')]\n",
      "\n",
      "\n",
      "Answer: The dress code requires a clean, pressed shirt and pants, a McDonald's hat (worn correctly), and solid black, low-heeled, polishable shoes.  Specific restrictions apply to hair, jewelry, makeup, and visible tattoos.  Additional details are provided regarding acceptable facial hair and nail polish.\n"
     ]
    }
   ],
   "source": [
    "# recursive splitter \n",
    "\n",
    "result = graph.invoke({\"question\": \"what is the dress code?\"})\n",
    "\n",
    "print(f'Context: {result[\"context\"]}\\n\\n')\n",
    "print(f'Answer: {result[\"answer\"]}')"
   ]
  },
  {
   "cell_type": "code",
   "execution_count": null,
   "metadata": {},
   "outputs": [
    {
     "name": "stdout",
     "output_type": "stream",
     "text": [
      "Context: [Document(metadata={'producer': 'Microsoft® Word 2019', 'creator': 'Microsoft® Word 2019', 'creationdate': '2021-07-20T13:27:27-04:00', 'author': 'Steven Overby', 'moddate': '2021-07-20T13:27:27-04:00', 'source': '../mcdHandbook.pdf', 'total_pages': 40, 'page': 21, 'page_label': '22'}, page_content='22 Updated July, 2021  \\nA&A Management/ Goodwin Partners  d/b/a McDonald’s \\n  \\ngrey; no pink, purple, blue, vivid orange, vivid reds, etc.) Hats are the only acceptable \\nheadgear. The appropriate McDonald’s hat – visor must be worn. \\n6. Pants must be worn around the waist. \\n7. Solid Black (no stripes, lines, other colors), rubber soled non-slip is the only appropriate \\nfootwear. No tennis shoes or other type of athletic footwear – shoes must be low-heeled, \\ncomfortable and polish able. \\n8. Men: The only permissible facial hair will be trimmed mustache and/or short/small \\ngoatee that is neatly groomed and/or beard that is small and neatly groomed. The goatee \\nand/or beard can be no longer than 1/8 inch long, must be neat and clean. A \\nmustache should be short and neatly trimmed. One stud is permitted in each ear. No face, \\nvisible body jewelry is to be worn (i.e., no tongue rings). No grilles or detachable gold \\nteeth are permitted. Please limit rings to one per hand. \\n9. Women: Use of makeup and jewelry should reflect a business professional appearance. \\nSmall, unobtrusive earrings (no hoops larger than a quarter). No face, nose, body or tongue \\nrings are permitted. Nail polish may be worn, but it must be natural colors (no black). \\nNails must be no more than 1/4 inch past the fingertip and no chipped polish. No nail \\njewelry for safety reasons. No grilles or detachable gold teeth are permitted. Please limit \\nrings to no more than 2 per hand. \\n10. All employees must report for work in full uniform. Uniform caps must be clean, wrinkle \\nfree and in good repair. Ties and bows must be clean and wrinkle free. Tie must be \\nsecured to the top of the uniform and top buttons buttoned.  Nametag worn. \\n11. White, plain undershirts may be worn. Females and males must wear their appropriate \\nundergarments under their uniforms at all times. \\n12. No visible tattoos larger than half dollar and must be in good taste (based on the judgement'), Document(metadata={'producer': 'Microsoft® Word 2019', 'creator': 'Microsoft® Word 2019', 'creationdate': '2021-07-20T13:27:27-04:00', 'author': 'Steven Overby', 'moddate': '2021-07-20T13:27:27-04:00', 'source': '../mcdHandbook.pdf', 'total_pages': 40, 'page': 20, 'page_label': '21'}, page_content='9. After dark, no back or side door may be opened. \\n10. The back door may only be opened by a manager. \\n11. Unauthorized personnel will not be admitted behind the counter. Management will \\ndetermine which personnel are authorized or not. Only a manager may allow a non- \\nstore employee access behind the counter. \\n12. No food is to be consumed while clocked in for work. \\n13. Management is not responsible for personal belongings left in the store. \\n14. Crew may not conduct any other business than McDonald’s on the store premises. \\nYou may not solicit managers, customers or other crew for this purpose (i.e. Avon, \\nchildren’s fundraisers.) \\n15. Any regulation not covered in this handbook is at the sole discretion of the \\nmanagement team and should be adhered to as such. \\n \\nUNIFORM/DRESS POLICY \\n \\n1. You are expected to practice good personal hygiene (i.e. daily shower or bath, clean hair \\n& fingernails, no excessive perfume/cologne). \\n2. Uniforms are your responsibility. You must come to work in a clean, neat, pressed shirt \\nand pants and wearing your hat. Hats are not to be worn sideways or backwards. \\n3. No alterations are to be done to pants or shirts. Hemming is all that is allowed. \\n4. Belts, hats and nametags are part of the uniform and must be worn. \\n5. Hair must be clean and neatly combed and pulled back off of shoulders. Hair color \\nmust reflect a business-professional appearance – one natural color only (black, \\nbrown, blonde, red,')]\n",
      "\n",
      "\n",
      "Answer: The dress code requires a clean, pressed uniform shirt and pants, a McDonald's hat (visor must be worn), and solid black, low-heeled, polishable shoes.  Hair must be neat and pulled back, and jewelry and makeup should be business professional.  Specific restrictions apply to facial hair, nail polish, and visible tattoos.\n"
     ]
    }
   ],
   "source": [
    "# parent child splitter\n",
    "\n",
    "result = graph.invoke({\"question\": \"what is the dress code?\"})\n",
    "\n",
    "print(f'Context: {result[\"context\"]}\\n\\n')\n",
    "print(f'Answer: {result[\"answer\"]}')"
   ]
  },
  {
   "cell_type": "code",
   "execution_count": null,
   "metadata": {},
   "outputs": [
    {
     "name": "stdout",
     "output_type": "stream",
     "text": [
      "Context: [Document(id='6f4a4d04-4924-4a51-947d-6e1c49d534c5', metadata={'author': 'EDGAR Online, a division of Donnelley Financial Solutions', 'creationdate': '2023-07-20T16:22:00-04:00', 'creator': 'EDGAR Filing HTML Converter', 'keywords': '0000320187-23-000039; ; 10-K', 'moddate': '2023-07-20T16:22:08-04:00', 'page': 42, 'page_label': '43', 'producer': 'EDGRpdf Service w/ EO.Pdf 22.0.40.0', 'section': 'middle', 'source': '../nke-10k-2023.pdf', 'start_index': 2886, 'subject': 'Form 10-K filed on 2023-07-20 for the period ending 2023-05-31', 'title': '0000320187-23-000039', 'total_pages': 107}, page_content='• Gross margin contraction of approximately 190 basis points primarily due to higher product costs, reflecting product mix and higher input costs, as well as\\nunfavorable changes in standard foreign currency exchange rates. This was partially offset by higher full-price ASP, net of discounts, due to product mix and strategic\\npricing actions.\\n• Selling and administrative expense increased 8% due to higher operating overhead and demand creation expense. Operating overhead expense increased primarily\\ndue to higher wage-related expenses and an increase in NIKE Direct variable costs, partially offset by favorable changes in foreign currency exchange rates.\\nDemand creation expense increased primarily due to higher sports marketing expense and higher advertising and marketing expense, partially offset by favorable\\nchanges in foreign currency exchange rates.\\n2023 FORM 10-K 40'), Document(id='a2595c8c-9885-4b29-873f-9eeece817031', metadata={'author': 'EDGAR Online, a division of Donnelley Financial Solutions', 'creationdate': '2023-07-20T16:22:00-04:00', 'creator': 'EDGAR Filing HTML Converter', 'keywords': '0000320187-23-000039; ; 10-K', 'moddate': '2023-07-20T16:22:08-04:00', 'page': 36, 'page_label': '37', 'producer': 'EDGRpdf Service w/ EO.Pdf 22.0.40.0', 'section': 'middle', 'source': '../nke-10k-2023.pdf', 'start_index': 0, 'subject': 'Form 10-K filed on 2023-07-20 for the period ending 2023-05-31', 'title': '0000320187-23-000039', 'total_pages': 107}, page_content='Table of Contents\\nGROSS MARGIN\\nFISCAL 2023 COMPARED TO FISCAL 2022\\nFor fiscal 2023, our consolidated gross profit increased 4% to $22,292 million compared to $21,479 million for fiscal 2022. Gross margin decreased 250 basis points to\\n43.5% for fiscal 2023 compared to 46.0% for fiscal 2022 due to the following:\\n*Wholesale equivalent\\nThe decrease in gross margin for fiscal 2023 was primarily due to:\\n• Higher NIKE Brand product costs, on a wholesale equivalent basis, primarily due to higher input costs and elevated inbound freight and logistics costs as well as\\nproduct mix;\\n• Lower margin in our NIKE Direct business, driven by higher promotional activity to liquidate inventory in the current period compared to lower promotional activity in\\nthe prior period resulting from lower available inventory supply;\\n• Unfavorable changes in net foreign currency exchange rates, including hedges; and\\n• Lower off-price margin, on a wholesale equivalent basis.\\nThis was partially offset by:'), Document(id='8eb0a999-f61f-4b43-8472-f9cb8ed6af75', metadata={'author': 'EDGAR Online, a division of Donnelley Financial Solutions', 'creationdate': '2023-07-20T16:22:00-04:00', 'creator': 'EDGAR Filing HTML Converter', 'keywords': '0000320187-23-000039; ; 10-K', 'moddate': '2023-07-20T16:22:08-04:00', 'page': 44, 'page_label': '45', 'producer': 'EDGRpdf Service w/ EO.Pdf 22.0.40.0', 'section': 'middle', 'source': '../nke-10k-2023.pdf', 'start_index': 1624, 'subject': 'Form 10-K filed on 2023-07-20 for the period ending 2023-05-31', 'title': '0000320187-23-000039', 'total_pages': 107}, page_content='• an unfavorable change of $371 million primarily related to higher wage and other professional services expenses, reported as a component of consolidated Operating\\noverhead expense;\\n• an unfavorable change of $352 million related to the difference between actual foreign currency exchange rates and standard foreign currency exchange rates\\nassigned to the NIKE Brand geographic operating segments and Converse, net of hedge gains and losses; these results are reported as a component of\\nconsolidated gross margin;\\n• an unfavorable change of $45 million largely due to net unfavorable activity related to our strategic distributor partnership transition within APLA, including the loss\\nrecognized upon completion of the sale our entities in Argentina and Uruguay to a third-party distributor in the second quarter of fiscal 2023. This was partially offset'), Document(id='427e84b0-937c-4f1a-b3b8-26c041468973', metadata={'author': 'EDGAR Online, a division of Donnelley Financial Solutions', 'creationdate': '2023-07-20T16:22:00-04:00', 'creator': 'EDGAR Filing HTML Converter', 'keywords': '0000320187-23-000039; ; 10-K', 'moddate': '2023-07-20T16:22:08-04:00', 'page': 36, 'page_label': '37', 'producer': 'EDGRpdf Service w/ EO.Pdf 22.0.40.0', 'section': 'middle', 'source': '../nke-10k-2023.pdf', 'start_index': 813, 'subject': 'Form 10-K filed on 2023-07-20 for the period ending 2023-05-31', 'title': '0000320187-23-000039', 'total_pages': 107}, page_content='• Unfavorable changes in net foreign currency exchange rates, including hedges; and\\n• Lower off-price margin, on a wholesale equivalent basis.\\nThis was partially offset by:\\n• Higher NIKE Brand full-price ASP, net of discounts, on a wholesale equivalent basis, due primarily to strategic pricing actions and product mix; and\\n• Lower other costs, primarily due to higher inventory obsolescence reserves recognized in Greater China in the fourth quarter of fiscal 2022.\\nTOTAL SELLING AND ADMINISTRATIVE EXPENSE\\n(Dollars in millions) FISCAL 2023 FISCAL 2022 % CHANGE FISCAL 2021 % CHANGE\\nDemand creation expense $ 4,060 $ 3,850 5 % $ 3,114 24 %\\nOperating overhead expense 12,317 10,954 12 % 9,911 11 %\\nTotal selling and administrative expense $ 16,377 $ 14,804 11 % $ 13,025 14 %\\n% of revenues 32.0 % 31.7 % 30  bps 29.2 % 250  bps')]\n",
      "\n",
      "\n",
      "Answer: Nike's gross margin decreased by 250 basis points to 43.5% in fiscal year 2023, primarily due to higher product costs, unfavorable currency exchange rates, and lower off-price margins.  This was partially offset by higher full-price average selling prices.\n"
     ]
    }
   ],
   "source": [
    "result = graph.invoke({\"question\": \"How were Nike's margins impacted in 2023?\"})\n",
    "\n",
    "print(f'Context: {result[\"context\"]}\\n\\n')\n",
    "print(f'Answer: {result[\"answer\"]}')"
   ]
  },
  {
   "cell_type": "markdown",
   "metadata": {},
   "source": [
    "##### **Stream Steps:**"
   ]
  },
  {
   "cell_type": "code",
   "execution_count": 21,
   "metadata": {},
   "outputs": [
    {
     "name": "stdout",
     "output_type": "stream",
     "text": [
      "{'retrieve': {'context': [Document(id='07ddd008-2b8d-4b4f-a802-de543a859480', metadata={'author': 'EDGAR Online, a division of Donnelley Financial Solutions', 'creationdate': '2023-07-20T16:22:00-04:00', 'creator': 'EDGAR Filing HTML Converter', 'keywords': '0000320187-23-000039; ; 10-K', 'moddate': '2023-07-20T16:22:08-04:00', 'page': 42, 'page_label': '43', 'producer': 'EDGRpdf Service w/ EO.Pdf 22.0.40.0', 'source': '../nke-10k-2023.pdf', 'start_index': 2886, 'subject': 'Form 10-K filed on 2023-07-20 for the period ending 2023-05-31', 'title': '0000320187-23-000039', 'total_pages': 107}, page_content='• Gross margin contraction of approximately 190 basis points primarily due to higher product costs, reflecting product mix and higher input costs, as well as\\nunfavorable changes in standard foreign currency exchange rates. This was partially offset by higher full-price ASP, net of discounts, due to product mix and strategic\\npricing actions.\\n• Selling and administrative expense increased 8% due to higher operating overhead and demand creation expense. Operating overhead expense increased primarily\\ndue to higher wage-related expenses and an increase in NIKE Direct variable costs, partially offset by favorable changes in foreign currency exchange rates.\\nDemand creation expense increased primarily due to higher sports marketing expense and higher advertising and marketing expense, partially offset by favorable\\nchanges in foreign currency exchange rates.\\n2023 FORM 10-K 40'), Document(id='28d63508-4e81-4677-a651-58c4b2921f28', metadata={'author': 'EDGAR Online, a division of Donnelley Financial Solutions', 'creationdate': '2023-07-20T16:22:00-04:00', 'creator': 'EDGAR Filing HTML Converter', 'keywords': '0000320187-23-000039; ; 10-K', 'moddate': '2023-07-20T16:22:08-04:00', 'page': 36, 'page_label': '37', 'producer': 'EDGRpdf Service w/ EO.Pdf 22.0.40.0', 'source': '../nke-10k-2023.pdf', 'start_index': 0, 'subject': 'Form 10-K filed on 2023-07-20 for the period ending 2023-05-31', 'title': '0000320187-23-000039', 'total_pages': 107}, page_content='Table of Contents\\nGROSS MARGIN\\nFISCAL 2023 COMPARED TO FISCAL 2022\\nFor fiscal 2023, our consolidated gross profit increased 4% to $22,292 million compared to $21,479 million for fiscal 2022. Gross margin decreased 250 basis points to\\n43.5% for fiscal 2023 compared to 46.0% for fiscal 2022 due to the following:\\n*Wholesale equivalent\\nThe decrease in gross margin for fiscal 2023 was primarily due to:\\n• Higher NIKE Brand product costs, on a wholesale equivalent basis, primarily due to higher input costs and elevated inbound freight and logistics costs as well as\\nproduct mix;\\n• Lower margin in our NIKE Direct business, driven by higher promotional activity to liquidate inventory in the current period compared to lower promotional activity in\\nthe prior period resulting from lower available inventory supply;\\n• Unfavorable changes in net foreign currency exchange rates, including hedges; and\\n• Lower off-price margin, on a wholesale equivalent basis.\\nThis was partially offset by:'), Document(id='1ec0ef80-7261-47f1-81b2-40fdc45fb65f', metadata={'author': 'EDGAR Online, a division of Donnelley Financial Solutions', 'creationdate': '2023-07-20T16:22:00-04:00', 'creator': 'EDGAR Filing HTML Converter', 'keywords': '0000320187-23-000039; ; 10-K', 'moddate': '2023-07-20T16:22:08-04:00', 'page': 44, 'page_label': '45', 'producer': 'EDGRpdf Service w/ EO.Pdf 22.0.40.0', 'source': '../nke-10k-2023.pdf', 'start_index': 1624, 'subject': 'Form 10-K filed on 2023-07-20 for the period ending 2023-05-31', 'title': '0000320187-23-000039', 'total_pages': 107}, page_content='• an unfavorable change of $371 million primarily related to higher wage and other professional services expenses, reported as a component of consolidated Operating\\noverhead expense;\\n• an unfavorable change of $352 million related to the difference between actual foreign currency exchange rates and standard foreign currency exchange rates\\nassigned to the NIKE Brand geographic operating segments and Converse, net of hedge gains and losses; these results are reported as a component of\\nconsolidated gross margin;\\n• an unfavorable change of $45 million largely due to net unfavorable activity related to our strategic distributor partnership transition within APLA, including the loss\\nrecognized upon completion of the sale our entities in Argentina and Uruguay to a third-party distributor in the second quarter of fiscal 2023. This was partially offset'), Document(id='7bfcbf77-f3d8-429a-a279-3f6d1d1104a1', metadata={'author': 'EDGAR Online, a division of Donnelley Financial Solutions', 'creationdate': '2023-07-20T16:22:00-04:00', 'creator': 'EDGAR Filing HTML Converter', 'keywords': '0000320187-23-000039; ; 10-K', 'moddate': '2023-07-20T16:22:08-04:00', 'page': 36, 'page_label': '37', 'producer': 'EDGRpdf Service w/ EO.Pdf 22.0.40.0', 'source': '../nke-10k-2023.pdf', 'start_index': 813, 'subject': 'Form 10-K filed on 2023-07-20 for the period ending 2023-05-31', 'title': '0000320187-23-000039', 'total_pages': 107}, page_content='• Unfavorable changes in net foreign currency exchange rates, including hedges; and\\n• Lower off-price margin, on a wholesale equivalent basis.\\nThis was partially offset by:\\n• Higher NIKE Brand full-price ASP, net of discounts, on a wholesale equivalent basis, due primarily to strategic pricing actions and product mix; and\\n• Lower other costs, primarily due to higher inventory obsolescence reserves recognized in Greater China in the fourth quarter of fiscal 2022.\\nTOTAL SELLING AND ADMINISTRATIVE EXPENSE\\n(Dollars in millions) FISCAL 2023 FISCAL 2022 % CHANGE FISCAL 2021 % CHANGE\\nDemand creation expense $ 4,060 $ 3,850 5 % $ 3,114 24 %\\nOperating overhead expense 12,317 10,954 12 % 9,911 11 %\\nTotal selling and administrative expense $ 16,377 $ 14,804 11 % $ 13,025 14 %\\n% of revenues 32.0 % 31.7 % 30  bps 29.2 % 250  bps')]}}\n",
      "\n",
      "----------------\n",
      "\n",
      "{'generate': {'answer': \"Nike's gross margin decreased by 250 basis points to 43.5% in fiscal year 2023, primarily due to higher product costs, unfavorable currency exchange rates, and lower off-price margins.  This was partially offset by higher full-price average selling prices.\"}}\n",
      "\n",
      "----------------\n",
      "\n"
     ]
    }
   ],
   "source": [
    "for step in graph.stream(\n",
    "    {\"question\": \"How were Nike's margins impacted in 2023?\"}, stream_mode=\"updates\"\n",
    "):\n",
    "    print(f\"{step}\\n\\n----------------\\n\")"
   ]
  },
  {
   "cell_type": "markdown",
   "metadata": {},
   "source": [
    "##### **Stream Tokens:**"
   ]
  },
  {
   "cell_type": "code",
   "execution_count": 22,
   "metadata": {},
   "outputs": [
    {
     "name": "stdout",
     "output_type": "stream",
     "text": [
      "Nike|'s gross margin decreased by 250 basis points to 43|.5% in fiscal year 2023, primarily due to higher| product costs, unfavorable currency exchange rates, and lower off-price margins.  This was partially offset by higher full-price average selling prices.|"
     ]
    }
   ],
   "source": [
    "for message, metadata in graph.stream(\n",
    "    {\"question\": \"How were Nike's margins impacted in 2023?\"}, stream_mode=\"messages\"\n",
    "):\n",
    "    print(message.content, end=\"|\")"
   ]
  },
  {
   "cell_type": "markdown",
   "metadata": {},
   "source": [
    "For async invocations, use:\n",
    "\n",
    "```py\n",
    "result = await graph.ainvoke(...)\n",
    "```\n",
    "\n",
    "and\n",
    "\n",
    "```py\n",
    "async for step in graph.astream(...):\n",
    "```"
   ]
  },
  {
   "cell_type": "markdown",
   "metadata": {},
   "source": [
    "**Returning sources**\n",
    "\n",
    "Note that by storing the retrieved context in the state of the graph, we recover sources for the model's generated answer in the ```\"context\"``` field of the state. See this guide on returning sources for more detail."
   ]
  },
  {
   "cell_type": "markdown",
   "metadata": {},
   "source": [
    "#### **Customizing the prompt**\n",
    "\n",
    "As shown above, we can load prompts (e.g., this RAG prompt) from the prompt hub. The prompt can also be easily customized. For example: (local)"
   ]
  },
  {
   "cell_type": "code",
   "execution_count": 23,
   "metadata": {},
   "outputs": [],
   "source": [
    "from langchain_core.prompts import PromptTemplate\n",
    "\n",
    "template = \"\"\"Use the following pieces of context to answer the question at the end.\n",
    "If you don't know the answer, just say that you don't know, don't try to make up an answer.\n",
    "Use three sentences maximum and keep the answer as concise as possible.\n",
    "Always say \"thanks for asking!\" at the end of the answer.\n",
    "\n",
    "{context}\n",
    "\n",
    "Question: {question}\n",
    "\n",
    "Helpful Answer:\"\"\"\n",
    "custom_rag_prompt = PromptTemplate.from_template(template)"
   ]
  },
  {
   "cell_type": "markdown",
   "metadata": {},
   "source": [
    "#### **Query Analysis**\n",
    "\n",
    "So far, we are executing the retrieval using the raw input query. However, there are some advantages to allowing a model to generate the query for retrieval purposes. For example:\n",
    "\n",
    "* In addition to semantic search, we can build in structured filters (e.g., \"Find documents since the year 2020.\");\n",
    "* The model can rewrite user queries, which may be multifaceted or include irrelevant language, into more effective search queries.\n",
    "\n",
    "Query analysis employs models to transform or construct optimized search queries from raw user input. We can easily incorporate a query analysis step into our application. For illustrative purposes, let's add some metadata to the documents in our vector store. We will add some (contrived) sections to the document which we can filter on later."
   ]
  },
  {
   "cell_type": "code",
   "execution_count": 8,
   "metadata": {},
   "outputs": [
    {
     "data": {
      "text/plain": [
       "{'producer': 'EDGRpdf Service w/ EO.Pdf 22.0.40.0',\n",
       " 'creator': 'EDGAR Filing HTML Converter',\n",
       " 'creationdate': '2023-07-20T16:22:00-04:00',\n",
       " 'title': '0000320187-23-000039',\n",
       " 'author': 'EDGAR Online, a division of Donnelley Financial Solutions',\n",
       " 'subject': 'Form 10-K filed on 2023-07-20 for the period ending 2023-05-31',\n",
       " 'keywords': '0000320187-23-000039; ; 10-K',\n",
       " 'moddate': '2023-07-20T16:22:08-04:00',\n",
       " 'source': '../nke-10k-2023.pdf',\n",
       " 'total_pages': 107,\n",
       " 'page': 0,\n",
       " 'page_label': '1',\n",
       " 'start_index': 0,\n",
       " 'section': 'beginning'}"
      ]
     },
     "execution_count": 8,
     "metadata": {},
     "output_type": "execute_result"
    }
   ],
   "source": [
    "total_documents = len(all_splits)\n",
    "third = total_documents // 3\n",
    "\n",
    "for i, document in enumerate(all_splits):\n",
    "    if i < third:\n",
    "        document.metadata[\"section\"] = \"beginning\"\n",
    "    elif i < 2 * third:\n",
    "        document.metadata[\"section\"] = \"middle\"\n",
    "    else:\n",
    "        document.metadata[\"section\"] = \"end\"\n",
    "\n",
    "\n",
    "all_splits[0].metadata"
   ]
  },
  {
   "cell_type": "code",
   "execution_count": 9,
   "metadata": {},
   "outputs": [
    {
     "data": {
      "text/plain": [
       "Document(metadata={'producer': 'EDGRpdf Service w/ EO.Pdf 22.0.40.0', 'creator': 'EDGAR Filing HTML Converter', 'creationdate': '2023-07-20T16:22:00-04:00', 'title': '0000320187-23-000039', 'author': 'EDGAR Online, a division of Donnelley Financial Solutions', 'subject': 'Form 10-K filed on 2023-07-20 for the period ending 2023-05-31', 'keywords': '0000320187-23-000039; ; 10-K', 'moddate': '2023-07-20T16:22:08-04:00', 'source': '../nke-10k-2023.pdf', 'total_pages': 107, 'page': 0, 'page_label': '1', 'start_index': 1592, 'section': 'beginning'}, page_content='past 90 days.\\nþ ¨ \\n• whether the registrant has submitted electronically every Interactive Data File required to be submitted pursuant to Rule 405 of Regulation S-T\\n(§232.405 of this chapter) during the preceding 12 months (or for such shorter period that the registrant was required to submit such files).\\nþ ¨ \\n• whether the registrant is a large accelerated filer, an accelerated filer, a non-accelerated filer, a smaller reporting company or an emerging growth company. See the definitions of “large accelerated filer,”\\n“accelerated filer,” “smaller reporting company,” and “emerging growth company” in Rule 12b-2 of the Exchange Act.\\nLarge accelerated filer þ Accelerated filer ☐ Non-accelerated filer ☐ Smaller reporting company ☐ Emerging growth company ☐ \\n• if an emerging growth company, if the registrant has elected not to use the extended transition period for complying with any new or revised financial\\naccounting standards provided pursuant to Section 13(a) of the Exchange Act.\\n¨')"
      ]
     },
     "execution_count": 9,
     "metadata": {},
     "output_type": "execute_result"
    }
   ],
   "source": [
    "all_splits[2]"
   ]
  },
  {
   "cell_type": "markdown",
   "metadata": {},
   "source": [
    "We will need to ```update``` the documents in our vector store. We will use a simple InMemoryVectorStore for this, as we will use some of its specific features (i.e., ```metadata filtering```). Refer to the vector store integration documentation for relevant features of your chosen vector store.\n",
    "\n",
    "```py\n",
    "from langchain_core.vectorstores import InMemoryVectorStore\n",
    "\n",
    "vector_store = InMemoryVectorStore(embeddings)\n",
    "_ = vector_store.add_documents(all_splits)\n",
    "```"
   ]
  },
  {
   "cell_type": "code",
   "execution_count": 10,
   "metadata": {},
   "outputs": [],
   "source": [
    "# will utilize chroma for now\n",
    "# remove the old one and re add documents\n",
    "\n",
    "# from chromadb import PersistentClient\n",
    "\n",
    "# # Initialize the client with the persistence directory\n",
    "# client = PersistentClient(path=\"./chroma_langchain_db\")\n",
    "\n",
    "# # Delete the specific collection by name\n",
    "# # client.delete_collection(name=\"example_collection\")\n",
    "# client.delete_collection(name=\"nike_collection\")\n",
    "\n",
    "ids = vector_store.add_documents(documents=all_splits)"
   ]
  },
  {
   "cell_type": "markdown",
   "metadata": {},
   "source": [
    "Let's next define a schema for our search query. We will use structured output for this purpose. Here we define a query as containing a string query and a document section (either \"beginning\", \"middle\", or \"end\"), but this can be defined however you like."
   ]
  },
  {
   "cell_type": "code",
   "execution_count": 31,
   "metadata": {},
   "outputs": [],
   "source": [
    "from typing import Literal\n",
    "\n",
    "from typing_extensions import Annotated\n",
    "from langchain_core.documents import Document\n",
    "from typing_extensions import List, TypedDict\n",
    "from pydantic import BaseModel, Field\n",
    "\n",
    "\n",
    "#modify as it gives signature at runtime error\n",
    "class Search(BaseModel):\n",
    "    \"\"\"Search query model.\"\"\"\n",
    "    query: str = Field(..., description=\"Search query to run.\")\n",
    "    section: Literal[\"beginning\", \"middle\", \"end\"] = Field(..., description=\"Section to query.\")"
   ]
  },
  {
   "cell_type": "markdown",
   "metadata": {},
   "source": [
    "Finally, we add a step to our LangGraph application to generate a query from the user's raw input:\n",
    "\n",
    "***Updated Code***"
   ]
  },
  {
   "cell_type": "code",
   "execution_count": null,
   "metadata": {},
   "outputs": [],
   "source": [
    "from langgraph.graph import START, StateGraph\n",
    "\n",
    "\n",
    "class State(TypedDict):\n",
    "    question: str\n",
    "    query: Search #newly added\n",
    "    context: List[Document]\n",
    "    answer: str\n",
    "\n",
    "\n",
    "#newly added\n",
    "def analyze_query(state: State):\n",
    "    structured_llm = llm.with_structured_output(Search)\n",
    "    query = structured_llm.invoke(state[\"question\"])\n",
    "    return {\"query\": query}\n",
    "\n",
    "\n",
    "def retrieve(state: State):\n",
    "    query = state[\"query\"] #newly added\n",
    "    retrieved_docs = vector_store.similarity_search(\n",
    "        query.query, #from query[\"query\"] become query.query as it got not subscripable error\n",
    "        # filter=lambda doc: doc.metadata.get(\"section\") == query[\"section\"],\n",
    "        filter={\"section\": query.section}, # for chroma modify like this, and query.section to solve not subscripable error\n",
    "    ) #newly added\n",
    "    return {\"context\": retrieved_docs}\n",
    "\n",
    "\n",
    "def generate(state: State):\n",
    "    docs_content = \"\\n\\n\".join(doc.page_content for doc in state[\"context\"])\n",
    "    messages = prompt.invoke({\"question\": state[\"question\"], \"context\": docs_content})\n",
    "    response = llm.invoke(messages)\n",
    "    return {\"answer\": response.content}\n",
    "\n",
    "\n",
    "graph_builder = StateGraph(State).add_sequence([analyze_query, retrieve, generate]) #modified\n",
    "graph_builder.add_edge(START, \"analyze_query\") #modified\n",
    "graph = graph_builder.compile()"
   ]
  },
  {
   "cell_type": "code",
   "execution_count": 33,
   "metadata": {},
   "outputs": [
    {
     "data": {
      "image/png": "[encoded data removed]",
      "text/plain": [
       "<IPython.core.display.Image object>"
      ]
     },
     "metadata": {},
     "output_type": "display_data"
    }
   ],
   "source": [
    "from IPython.display import Image, display\n",
    "\n",
    "display(Image(graph.get_graph().draw_mermaid_png()))"
   ]
  },
  {
   "cell_type": "markdown",
   "metadata": {},
   "source": [
    "We can test our implementation by specifically asking for context from the end of the post. Note that the model includes different information in its answer."
   ]
  },
  {
   "cell_type": "code",
   "execution_count": 48,
   "metadata": {},
   "outputs": [
    {
     "name": "stdout",
     "output_type": "stream",
     "text": [
      "{'analyze_query': {'query': Search(query='margin', section='middle')}}\n",
      "\n",
      "----------------\n",
      "\n",
      "{'retrieve': {'context': [Document(id='fc6b9000-3400-4bbc-a284-85472585a561', metadata={'author': 'EDGAR Online, a division of Donnelley Financial Solutions', 'creationdate': '2023-07-20T16:22:00-04:00', 'creator': 'EDGAR Filing HTML Converter', 'keywords': '0000320187-23-000039; ; 10-K', 'moddate': '2023-07-20T16:22:08-04:00', 'page': 49, 'page_label': '50', 'producer': 'EDGRpdf Service w/ EO.Pdf 22.0.40.0', 'section': 'middle', 'source': '../nke-10k-2023.pdf', 'start_index': 2279, 'subject': 'Form 10-K filed on 2023-07-20 for the period ending 2023-05-31', 'title': '0000320187-23-000039', 'total_pages': 107}, page_content='different than reserves established, a reduction or increase to net revenues would be recorded in the period in which such determination was made.\\nRefer to Note 14 — Revenues in the accompanying Notes to the Consolidated Financial Statements for additional information.\\nINVENTORY RESERVES\\nWe make ongoing estimates relating to the net realizable value of inventories based upon our assumptions about future demand and market conditions. If we estimate the\\nnet realizable value of our inventory is less than the cost of the inventory recorded on our books, we record a reserve equal to the difference between the cost of the\\ninventory and the estimated net realizable value. This reserve is recorded as a charge to Cost of sales. If changes in market conditions result in reductions to the\\nestimated net realizable value of our inventory below our previous estimate, we would increase our reserve in the period in which we made such a determination. \\nHEDGE ACCOUNTING FOR DERIVATIVES'), Document(id='a2595c8c-9885-4b29-873f-9eeece817031', metadata={'author': 'EDGAR Online, a division of Donnelley Financial Solutions', 'creationdate': '2023-07-20T16:22:00-04:00', 'creator': 'EDGAR Filing HTML Converter', 'keywords': '0000320187-23-000039; ; 10-K', 'moddate': '2023-07-20T16:22:08-04:00', 'page': 36, 'page_label': '37', 'producer': 'EDGRpdf Service w/ EO.Pdf 22.0.40.0', 'section': 'middle', 'source': '../nke-10k-2023.pdf', 'start_index': 0, 'subject': 'Form 10-K filed on 2023-07-20 for the period ending 2023-05-31', 'title': '0000320187-23-000039', 'total_pages': 107}, page_content='Table of Contents\\nGROSS MARGIN\\nFISCAL 2023 COMPARED TO FISCAL 2022\\nFor fiscal 2023, our consolidated gross profit increased 4% to $22,292 million compared to $21,479 million for fiscal 2022. Gross margin decreased 250 basis points to\\n43.5% for fiscal 2023 compared to 46.0% for fiscal 2022 due to the following:\\n*Wholesale equivalent\\nThe decrease in gross margin for fiscal 2023 was primarily due to:\\n• Higher NIKE Brand product costs, on a wholesale equivalent basis, primarily due to higher input costs and elevated inbound freight and logistics costs as well as\\nproduct mix;\\n• Lower margin in our NIKE Direct business, driven by higher promotional activity to liquidate inventory in the current period compared to lower promotional activity in\\nthe prior period resulting from lower available inventory supply;\\n• Unfavorable changes in net foreign currency exchange rates, including hedges; and\\n• Lower off-price margin, on a wholesale equivalent basis.\\nThis was partially offset by:'), Document(id='cbd64eba-7f96-46be-b0de-11ba7e9db1f6', metadata={'author': 'EDGAR Online, a division of Donnelley Financial Solutions', 'creationdate': '2023-07-20T16:22:00-04:00', 'creator': 'EDGAR Filing HTML Converter', 'keywords': '0000320187-23-000039; ; 10-K', 'moddate': '2023-07-20T16:22:08-04:00', 'page': 49, 'page_label': '50', 'producer': 'EDGRpdf Service w/ EO.Pdf 22.0.40.0', 'section': 'middle', 'source': '../nke-10k-2023.pdf', 'start_index': 4448, 'subject': 'Form 10-K filed on 2023-07-20 for the period ending 2023-05-31', 'title': '0000320187-23-000039', 'total_pages': 107}, page_content='originally specified time period or within an additional two-month period of time thereafter, we reclassify the cumulative change in fair value of the over-hedged portion of\\nthe related hedge contract from Accumulated other comprehensive income (loss) to Other (income) expense, net during the quarter in which the decrease occurs. In rare\\ncircumstances, the additional period of time may exceed two months due to extenuating circumstances related to the nature of the forecasted transaction that are outside\\nour control or influence.\\nRefer to Note 12 — Risk Management and Derivatives in the accompanying Notes to the Consolidated Financial Statements for additional information.\\n2023 FORM 10-K 47'), Document(id='cfb9f8ba-4082-4e81-8973-d26dd68a118c', metadata={'author': 'EDGAR Online, a division of Donnelley Financial Solutions', 'creationdate': '2023-07-20T16:22:00-04:00', 'creator': 'EDGAR Filing HTML Converter', 'keywords': '0000320187-23-000039; ; 10-K', 'moddate': '2023-07-20T16:22:08-04:00', 'page': 49, 'page_label': '50', 'producer': 'EDGRpdf Service w/ EO.Pdf 22.0.40.0', 'section': 'middle', 'source': '../nke-10k-2023.pdf', 'start_index': 3068, 'subject': 'Form 10-K filed on 2023-07-20 for the period ending 2023-05-31', 'title': '0000320187-23-000039', 'total_pages': 107}, page_content='estimated net realizable value of our inventory below our previous estimate, we would increase our reserve in the period in which we made such a determination. \\nHEDGE ACCOUNTING FOR DERIVATIVES\\nWe use derivative contracts to hedge certain anticipated foreign currency and interest rate transactions as well as certain non-functional currency monetary assets and\\nliabilities. When the specific criteria to qualify for hedge accounting has been met, changes in the fair value of contracts hedging probable forecasted future cash flows are\\nrecorded in Accumulated other comprehensive income (loss), rather than Net income, until the underlying hedged transaction affects Net income. In most cases, this\\nresults in gains and losses on hedge derivatives being released from Accumulated other comprehensive income (loss) into Net income sometime after the maturity of the')]}}\n",
      "\n",
      "----------------\n",
      "\n",
      "{'generate': {'answer': 'The gross margin decreased by 250 basis points to 43.5% in fiscal 2023 from 46.0% in fiscal 2022.  This was mainly due to higher product costs, lower margins in the NIKE Direct business, unfavorable currency exchange rates, and lower off-price margins.  Higher input costs, elevated freight and logistics costs, and product mix also contributed.'}}\n",
      "\n",
      "----------------\n",
      "\n"
     ]
    }
   ],
   "source": [
    "for step in graph.stream(\n",
    "    {\"question\": \"what does the middle of report says about margin\"},\n",
    "    stream_mode=\"updates\",\n",
    "):\n",
    "    print(f\"{step}\\n\\n----------------\\n\")"
   ]
  },
  {
   "cell_type": "markdown",
   "metadata": {},
   "source": [
    "#### **Different Chunking Method**"
   ]
  },
  {
   "cell_type": "code",
   "execution_count": null,
   "metadata": {},
   "outputs": [],
   "source": []
  }
 ],
 "metadata": {
  "kernelspec": {
   "display_name": "venv",
   "language": "python",
   "name": "python3"
  },
  "language_info": {
   "codemirror_mode": {
    "name": "ipython",
    "version": 3
   },
   "file_extension": ".py",
   "mimetype": "text/x-python",
   "name": "python",
   "nbconvert_exporter": "python",
   "pygments_lexer": "ipython3",
   "version": "3.11.8"
  }
 },
 "nbformat": 4,
 "nbformat_minor": 2
}
